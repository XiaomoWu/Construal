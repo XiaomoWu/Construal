{
 "cells": [
  {
   "cell_type": "markdown",
   "metadata": {},
   "source": [
    "# Text Concreteness (R)"
   ]
  },
  {
   "cell_type": "markdown",
   "metadata": {},
   "source": [
    "## Create `dfm`"
   ]
  },
  {
   "cell_type": "code",
   "execution_count": null,
   "metadata": {},
   "outputs": [],
   "source": [
    "library(spacyr)\n",
    "library(quanteda)\n",
    "\n",
    "spacy_initialize(model='en_core_web_lg',\n",
    "                 save_profile = T)\n",
    "\n",
    "ld(pjson, ldtype='feather')"
   ]
  },
  {
   "cell_type": "code",
   "execution_count": 17,
   "metadata": {},
   "outputs": [],
   "source": [
    "# create corpus\n",
    "corpus = pjson[, .(pid, project_desc)] %>%\n",
    "    corpus(docid_field='pid', text_field='project_desc')"
   ]
  },
  {
   "cell_type": "code",
   "execution_count": null,
   "metadata": {},
   "outputs": [],
   "source": [
    "# tokenize with spacy\n",
    "# the results is a data.frame\n",
    "# 1) keep both \"raw\" and \"lemma\" tokens \n",
    "# 2) tokens are case-sensitive\n",
    "tokens_as_df = corpus %>%\n",
    "    spacy_parse(pos=F, entity=F)\n",
    "\n",
    "sv(tokens_as_df)\n",
    "sv()"
   ]
  },
  {
   "cell_type": "code",
   "execution_count": 144,
   "metadata": {},
   "outputs": [
    {
     "data": {
      "text/plain": [
       "Tokens consisting of 1 document.\n",
       "1000064918 :\n",
       " [1] \"the\"     \"Beard\"   \"be\"      \"a\"       \"comedy\"  \"base\"    \"comic\"  \n",
       " [8] \"about\"   \"an\"      \"average\" \"guy\"     \"that\"   \n",
       "[ ... and 108 more ]\n",
       "-tokens_lemmatized- saved  (10.24 secs)\n"
      ]
     },
     "metadata": {},
     "output_type": "display_data"
    }
   ],
   "source": [
    "# convert `tokens_as_df` to quanteda `tokens` object\n",
    "# 1) we use the lemmatized tokens, because the lookup table is also lemmatized \n",
    "# 2) tokens are case-sensitive\n",
    "tokens_as_qeda = tokens_as_df %>%\n",
    "    as.tokens(use_lemma=T)\n",
    "\n",
    "tokens_as_qeda[1]\n",
    "\n",
    "sv(tokens_as_qeda)"
   ]
  },
  {
   "cell_type": "code",
   "execution_count": null,
   "metadata": {},
   "outputs": [],
   "source": [
    "# get the number of tokens of each doc\n",
    "ntoken_corpus = ntoken(tokens_as_qeda)\n",
    "ntoken_corpus = data.table(pid=names(ntoken_corpus), ntoken=ntoken_corpus)\n",
    "ntoken_corpus[1]\n",
    "sv(ntoken_corpus)"
   ]
  },
  {
   "cell_type": "code",
   "execution_count": 33,
   "metadata": {},
   "outputs": [
    {
     "name": "stdout",
     "output_type": "stream",
     "text": [
      "tokens_as_qeda (47.5 MB) already loaded, will NOT load again! (0 secs) (2021-03-07 5:55 PM)\n",
      "\"cs_dfm_first200\" saved as \"cs_dfm_first200.rds\" (43.1 MB) (7.55 secs, 2021-03-07 17:56:10)\n"
     ]
    }
   ],
   "source": [
    "# Convert tokens to dfm\n",
    "ld(tokens_as_qeda, force=T)\n",
    "\n",
    "tokens_to_dfm <- function(tokens_as_qeda, startpos=1, endpos=-1) {\n",
    "    # select tokens\n",
    "    tokens = tokens_select(tokens_as_qeda, startpos=startpos, endpos=endpos)\n",
    "    \n",
    "    # create ngram\n",
    "    tokens_ngram = tokens %>%\n",
    "        tokens_ngrams(n=1:2, concatenator = \" \")\n",
    "    \n",
    "    # create dfm\n",
    "    cs_dfm = tokens_ngram %>% dfm(tolower=T, stem=F)\n",
    "}\n",
    "\n",
    "cs_dfm = tokens_to_dfm(tokens_as_qeda)\n",
    "cs_dfm_first200 = tokens_to_dfm(tokens_as_qeda, endpos=200)\n",
    "\n",
    "# sv(cs_dfm)\n",
    "sv(cs_dfm_first200)"
   ]
  },
  {
   "cell_type": "markdown",
   "metadata": {},
   "source": [
    "## Compute B-score"
   ]
  },
  {
   "cell_type": "code",
   "execution_count": 4,
   "metadata": {},
   "outputs": [
    {
     "name": "stdout",
     "output_type": "stream",
     "text": [
      "\"df\" saved as \"nltk_stopwords.feather\" (2.5 KB) (<1s)\n"
     ]
    }
   ],
   "source": [
    "# get stopwords from nltk (Python code)\n",
    "import nltk\n",
    "import pandas as pd\n",
    "from nltk.corpus import stopwords\n",
    "\n",
    "stopwords = set(stopwords.words('english'))\n",
    "df = pd.DataFrame({'word':list(stopwords)})\n",
    "sv('df', svname='nltk_stopwords')"
   ]
  },
  {
   "cell_type": "code",
   "execution_count": 2,
   "metadata": {},
   "outputs": [
    {
     "name": "stdout",
     "output_type": "stream",
     "text": [
      "\"nltk_stopwords.feather\" (2.5 KB) loaded (0 secs) (2021-03-07 6:00 PM)\n",
      "\"bscore_nostopwords\" saved as \"bscore_nostopwords.rds\" (232.4 KB) (0.04 secs, 2021-03-07 18:00:19)\n",
      "0.310356910447018% words are stopwords"
     ]
    }
   ],
   "source": [
    "# ------------ Create bscore dict ----------------\n",
    "# load stop word list\n",
    "ld(nltk_stopwords, force=T)\n",
    "nltk_stopwords = nltk_stopwords[,word]\n",
    "\n",
    "# read raw bscore\n",
    "bscore_dt = fread('data/concreteness score.csv')[, .(word=str_trim(Word), score=Conc.M)]\n",
    "\n",
    "# create TWO bscore, one has stopwords, one doesn't \n",
    "bscore = bscore_dt$score\n",
    "names(bscore) = bscore_dt$word\n",
    "\n",
    "bscore_nostopwords = bscore[!(names(bscore)%in%nltk_stopwords)]\n",
    "\n",
    "sprintf('%s%% words are stopwords', (1-length(bscore_nostopwords)/length(bscore))*100%>%round(2)) %>% cat()"
   ]
  },
  {
   "cell_type": "code",
   "execution_count": 72,
   "metadata": {},
   "outputs": [
    {
     "name": "stdout",
     "output_type": "stream",
     "text": [
      "\"ntoken_corpus.rds\" (282.9 KB) loaded (0.02 secs) (2021-03-08 2:28 AM)\n",
      "cs_dfm (116.8 MB) already loaded, will NOT load again! (0 secs) (2021-03-08 2:28 AM)\n",
      "cs_dfm_first200 (43.1 MB) already loaded, will NOT load again! (0 secs) (2021-03-08 2:28 AM)\n",
      "bscore_nostopwords (232.4 KB) already loaded, will NOT load again! (0 secs) (2021-03-08 2:28 AM)\n"
     ]
    }
   ],
   "source": [
    "# ------------ Create bscore from dtm ----------------\n",
    "\n",
    "ld(ntoken_corpus, force=T)\n",
    "ld(cs_dfm)\n",
    "ld(cs_dfm_first200)\n",
    "ld(bscore_nostopwords)\n",
    "\n",
    "\n",
    "dfm_to_bscore <- function(cs_dfm, bscore_dict, type_name='') {\n",
    "    ntoken_name = str_c('ntoken_bscore', type_name)\n",
    "    bscore_name = str_c('bscore', type_name)\n",
    "    \n",
    "    output_name = c('pid', bscore_name)\n",
    "    \n",
    "    dfm_bscore = dfm_match(cs_dfm, names(bscore_dict))\n",
    "    ntoken_bscore = ntoken(dfm_bscore)\n",
    "    ntoken_bscore_dt = data.table(pid=names(ntoken_bscore))\n",
    "    ntoken_bscore_dt[, (ntoken_name) := ntoken_bscore]\n",
    "    \n",
    "    \n",
    "    dfm_bscore_weighted = dfm_weight(dfm_bscore, weights=bscore_dict)\n",
    "    dfm_bscore_weighted = convert(dfm_bscore_weighted, 'data.frame',\n",
    "                                  docid_field='pid'\n",
    "                                 ) %>% as.data.table()\n",
    "    \n",
    "    bscore_by_pid = dfm_bscore_weighted[, (bscore_name) := rowSums(.SD),\n",
    "                                        .SDcols=is.numeric\n",
    "        ][, ..output_name]\n",
    "    \n",
    "    bscore = bscore_by_pid[ntoken_bscore_dt, on=.(pid)]\n",
    "}\n",
    "\n",
    "bscore_bypid = dfm_to_bscore(cs_dfm, bscore)\n",
    "bscore_bypid_nostopwords = dfm_to_bscore(cs_dfm, bscore_nostopwords, \n",
    "                                         type_name='_nostopwords')\n",
    "bscore_bypid_firstn = dfm_to_bscore(cs_dfm_first200, bscore,\n",
    "                                    type_name='_first200')\n",
    "bscore_bypid_firstn_nostopwords = dfm_to_bscore(cs_dfm_first200,\n",
    "                                                bscore_nostopwords,\n",
    "                                                type_name='_first200_nostopwords')"
   ]
  },
  {
   "cell_type": "code",
   "execution_count": 73,
   "metadata": {},
   "outputs": [
    {
     "name": "stdout",
     "output_type": "stream",
     "text": [
      "\"bscore_bypid\" saved as \"bscore_bypid.feather\" (1.7 MB) (0.01 secs, 2021-03-08 02:28:57)\n"
     ]
    }
   ],
   "source": [
    "bscore_bypid = bscore_bypid[bscore_bypid_nostopwords, on=.(pid)\n",
    "    ][bscore_bypid_firstn, on=.(pid)\n",
    "    ][bscore_bypid_firstn_nostopwords, on=.(pid)\n",
    "    ][ntoken_corpus, on=.(pid)]\n",
    "\n",
    "sv(bscore_bypid)"
   ]
  },
  {
   "cell_type": "code",
   "execution_count": 74,
   "metadata": {},
   "outputs": [
    {
     "data": {
      "text/html": [
       "<style>\n",
       ".list-inline {list-style: none; margin:0; padding: 0}\n",
       ".list-inline>li {display: inline-block}\n",
       ".list-inline>li:not(:last-child)::after {content: \"\\00b7\"; padding: 0 .5ex}\n",
       "</style>\n",
       "<ol class=list-inline><li>'pid'</li><li>'bscore'</li><li>'ntoken_bscore'</li><li>'bscore_nostopwords'</li><li>'ntoken_bscore_nostopwords'</li><li>'bscore_first200'</li><li>'ntoken_bscore_first200'</li><li>'bscore_first200_nostopwords'</li><li>'ntoken_bscore_first200_nostopwords'</li><li>'ntoken'</li></ol>\n"
      ],
      "text/latex": [
       "\\begin{enumerate*}\n",
       "\\item 'pid'\n",
       "\\item 'bscore'\n",
       "\\item 'ntoken\\_bscore'\n",
       "\\item 'bscore\\_nostopwords'\n",
       "\\item 'ntoken\\_bscore\\_nostopwords'\n",
       "\\item 'bscore\\_first200'\n",
       "\\item 'ntoken\\_bscore\\_first200'\n",
       "\\item 'bscore\\_first200\\_nostopwords'\n",
       "\\item 'ntoken\\_bscore\\_first200\\_nostopwords'\n",
       "\\item 'ntoken'\n",
       "\\end{enumerate*}\n"
      ],
      "text/markdown": [
       "1. 'pid'\n",
       "2. 'bscore'\n",
       "3. 'ntoken_bscore'\n",
       "4. 'bscore_nostopwords'\n",
       "5. 'ntoken_bscore_nostopwords'\n",
       "6. 'bscore_first200'\n",
       "7. 'ntoken_bscore_first200'\n",
       "8. 'bscore_first200_nostopwords'\n",
       "9. 'ntoken_bscore_first200_nostopwords'\n",
       "10. 'ntoken'\n",
       "\n",
       "\n"
      ],
      "text/plain": [
       " [1] \"pid\"                                \"bscore\"                            \n",
       " [3] \"ntoken_bscore\"                      \"bscore_nostopwords\"                \n",
       " [5] \"ntoken_bscore_nostopwords\"          \"bscore_first200\"                   \n",
       " [7] \"ntoken_bscore_first200\"             \"bscore_first200_nostopwords\"       \n",
       " [9] \"ntoken_bscore_first200_nostopwords\" \"ntoken\"                            "
      ]
     },
     "metadata": {},
     "output_type": "display_data"
    }
   ],
   "source": [
    "names(bscore_bypid)"
   ]
  },
  {
   "cell_type": "markdown",
   "metadata": {},
   "source": [
    "# Word Freq (R)"
   ]
  },
  {
   "cell_type": "markdown",
   "metadata": {},
   "source": [
    "## Compute freq_dict"
   ]
  },
  {
   "cell_type": "markdown",
   "metadata": {},
   "source": [
    "Compute the word frequency from the Google dataset"
   ]
  },
  {
   "cell_type": "code",
   "execution_count": 110,
   "metadata": {},
   "outputs": [
    {
     "name": "stdout",
     "output_type": "stream",
     "text": [
      "tokens_as_df (462.3 MB) already loaded, will NOT load again! (0 secs) (2021-04-06 7:35 PM)\n",
      "nltk_stopwords (2.5 KB) already loaded, will NOT load again! (0 secs) (2021-04-06 7:35 PM)\n"
     ]
    }
   ],
   "source": [
    "ld(tokens_as_df)\n",
    "ld(nltk_stopwords)\n",
    "\n",
    "google_freqdict_withstop = fread('data/freqdict.csv')"
   ]
  },
  {
   "cell_type": "code",
   "execution_count": 135,
   "metadata": {},
   "outputs": [
    {
     "data": {
      "text/html": "<table class=\"dataframe\">\n<caption>A data.table: 2 × 3</caption>\n<thead>\n\t<tr><th scope=col>word</th><th scope=col>freq_google_withoutstop</th><th scope=col>freq_google_withstop</th></tr>\n\t<tr><th scope=col>&lt;chr&gt;</th><th scope=col>&lt;dbl&gt;</th><th scope=col>&lt;dbl&gt;</th></tr>\n</thead>\n<tbody>\n\t<tr><td>the</td><td>NA</td><td>1.0000000</td></tr>\n\t<tr><td>of </td><td>NA</td><td>0.5684659</td></tr>\n</tbody>\n</table>\n",
      "text/latex": "A data.table: 2 × 3\n\\begin{tabular}{lll}\n word & freq\\_google\\_withoutstop & freq\\_google\\_withstop\\\\\n <chr> & <dbl> & <dbl>\\\\\n\\hline\n\t the & NA & 1.0000000\\\\\n\t of  & NA & 0.5684659\\\\\n\\end{tabular}\n",
      "text/markdown": "\nA data.table: 2 × 3\n\n| word &lt;chr&gt; | freq_google_withoutstop &lt;dbl&gt; | freq_google_withstop &lt;dbl&gt; |\n|---|---|---|\n| the | NA | 1.0000000 |\n| of  | NA | 0.5684659 |\n\n",
      "text/plain": "  word freq_google_withoutstop freq_google_withstop\n1 the  NA                      1.0000000           \n2 of   NA                      0.5684659           "
     },
     "metadata": {},
     "output_type": "display_data"
    }
   ],
   "source": [
    "google_freqdict = google_freqdict_withstop[\n",
    "      !(word %in% nltk_stopwords$word),\n",
    "    ][, .(word, freq_google_withoutstop=freq/max(freq))\n",
    "    ][google_freqdict_withstop[, .(word, freq_google_withstop=freq)], \n",
    "      on=.(word)\n",
    "    # ][, ':='(freq_google_withoutstop=nafill(freq_google_withoutstop, 'const', 0))\n",
    "    ][order(-freq_google_withstop)]\n",
    "\n",
    "google_freqdict[1:2]"
   ]
  },
  {
   "cell_type": "code",
   "execution_count": 169,
   "metadata": {},
   "outputs": [
    {
     "name": "stdout",
     "output_type": "stream",
     "text": [
      "\"google_freqdict\" saved as \"google_freqdict.feather\" (1.2 MB) (0.01 secs, 2021-04-06 23:43:00)\n"
     ]
    }
   ],
   "source": [
    "sv(google_freqdict)\n",
    "fwrite(google_freqdict, 'data/Sharing/google_freqdict.csv')"
   ]
  },
  {
   "cell_type": "markdown",
   "metadata": {},
   "source": [
    "Compute the word frequency from the Kickstarer dataset"
   ]
  },
  {
   "cell_type": "code",
   "execution_count": 136,
   "metadata": {},
   "outputs": [],
   "source": [
    "punct = c(',', '.', '-', '?', '!', '(', ')', '$', '/', ':', ' ', '\"', intToUtf8(160))\n",
    "\n",
    "kck_freqdict_withstopwords = tokens_as_df[, .(doc_id, word=tolower(token))\n",
    "    ][!(word %in% punct)\n",
    "    ][, .(n=.N), keyby=.(word)\n",
    "    ][, ':='(freq_kck_withstop=n/max(n))\n",
    "    ][order(-freq_kck_withstop), .(word, freq_kck_withstop)]\n",
    "\n",
    "kck_freqdict_withoutstopwords = tokens_as_df[, .(doc_id, word=tolower(token))\n",
    "    ][(!(word %in% punct)) & (!(word %in% nltk_stopwords$word))\n",
    "    ][, .(n=.N), keyby=.(word)\n",
    "    ][, ':='(freq_kck_withoutstop=n/max(n))\n",
    "    ][order(-freq_kck_withoutstop), .(word, freq_kck_withoutstop)]\n",
    "\n",
    "fwrite(kck_freqdict_withstopwords, 'data/Sharing/kck_freqdict_withstopwords.csv')\n",
    "fwrite(kck_freqdict_withoutstopwords, 'data/Sharing/kck_freqdict_withoutstopwords.csv')\n",
    "\n",
    "kck_freqdict = kck_freqdict_withoutstopwords[kck_freqdict_withstopwords, on=.(word)\n",
    "    # ][, ':='(freq_kck_withoutstop=nafill(freq_kck_withoutstop, 'const', 0))\n",
    "    ][order(-freq_kck_withstop)]"
   ]
  },
  {
   "cell_type": "code",
   "execution_count": 168,
   "metadata": {},
   "outputs": [
    {
     "name": "stdout",
     "output_type": "stream",
     "text": [
      "\"kck_freqdict\" saved as \"kck_freqdict.feather\" (9 MB) (0.35 secs, 2021-04-06 23:38:29)\n"
     ]
    }
   ],
   "source": [
    "sv(kck_freqdict)\n",
    "fwrite(kck_freqdict, 'data/Sharing/kck_freqdict.csv')"
   ]
  },
  {
   "cell_type": "code",
   "execution_count": null,
   "metadata": {},
   "outputs": [],
   "source": [
    "kck_freqdict"
   ]
  },
  {
   "cell_type": "markdown",
   "metadata": {},
   "source": [
    "Merge Kickstar_freq with Google_freq"
   ]
  },
  {
   "cell_type": "code",
   "execution_count": 153,
   "metadata": {},
   "outputs": [
    {
     "name": "stdout",
     "output_type": "stream",
     "text": [
      "\"freq_dict\" saved as \"freq_dict.feather\" (9.8 MB) (0.35 secs, 2021-04-06 20:09:14)\n"
     ]
    }
   ],
   "source": [
    "freq_dict = google_freqdict[kck_freqdict, on=.(word)]\n",
    "freq_dict = freq_dict[order(-freq_google_withstop)\n",
    "    ][, ':='(\n",
    "      top_google_withoutstop=word %in% word[!is.na(freq_google_withoutstop)][1:5000],\n",
    "      top_google_withstop=word %in% word[!is.na(freq_google_withstop)][1:5000]\n",
    "      )\n",
    "    ][order(-freq_kck_withstop)\n",
    "    ][, ':='(\n",
    "      top_kck_withoutstop=word %in% word[!is.na(freq_kck_withoutstop)][1:5000],\n",
    "      top_kck_withstop=word %in% word[!is.na(freq_kck_withstop)][1:5000]\n",
    "      )]\n",
    "      \n",
    "sv(freq_dict)"
   ]
  },
  {
   "cell_type": "markdown",
   "metadata": {},
   "source": [
    "## Compute score"
   ]
  },
  {
   "cell_type": "markdown",
   "metadata": {},
   "source": [
    "Compute the \"frequency score\"\n",
    "\n",
    "- top 5000 words or all\n",
    "- with/without stopwords\n",
    "- based on kickstarter or LVIS\n",
    "\n",
    "So there're 2 * 2 * 2=8 versions"
   ]
  },
  {
   "cell_type": "code",
   "execution_count": 155,
   "metadata": {},
   "outputs": [
    {
     "name": "stdout",
     "output_type": "stream",
     "text": [
      "\"freq_dict.feather\" (9.8 MB) loaded (0.19 secs) (2021-04-06 8:09 PM)\n"
     ]
    },
    {
     "data": {
      "text/html": "<table class=\"dataframe\">\n<caption>A data.table: 1 × 9</caption>\n<thead>\n\t<tr><th scope=col>word</th><th scope=col>freq_google_withoutstop</th><th scope=col>freq_google_withstop</th><th scope=col>freq_kck_withoutstop</th><th scope=col>freq_kck_withstop</th><th scope=col>top_google_withoutstop</th><th scope=col>top_google_withstop</th><th scope=col>top_kck_withoutstop</th><th scope=col>top_kck_withstop</th></tr>\n\t<tr><th scope=col>&lt;chr&gt;</th><th scope=col>&lt;dbl&gt;</th><th scope=col>&lt;dbl&gt;</th><th scope=col>&lt;dbl&gt;</th><th scope=col>&lt;dbl&gt;</th><th scope=col>&lt;lgl&gt;</th><th scope=col>&lt;lgl&gt;</th><th scope=col>&lt;lgl&gt;</th><th scope=col>&lt;lgl&gt;</th></tr>\n</thead>\n<tbody>\n\t<tr><td>the</td><td>NA</td><td>1</td><td>NA</td><td>1</td><td>FALSE</td><td>TRUE</td><td>FALSE</td><td>TRUE</td></tr>\n</tbody>\n</table>\n",
      "text/latex": "A data.table: 1 × 9\n\\begin{tabular}{lllllllll}\n word & freq\\_google\\_withoutstop & freq\\_google\\_withstop & freq\\_kck\\_withoutstop & freq\\_kck\\_withstop & top\\_google\\_withoutstop & top\\_google\\_withstop & top\\_kck\\_withoutstop & top\\_kck\\_withstop\\\\\n <chr> & <dbl> & <dbl> & <dbl> & <dbl> & <lgl> & <lgl> & <lgl> & <lgl>\\\\\n\\hline\n\t the & NA & 1 & NA & 1 & FALSE & TRUE & FALSE & TRUE\\\\\n\\end{tabular}\n",
      "text/markdown": "\nA data.table: 1 × 9\n\n| word &lt;chr&gt; | freq_google_withoutstop &lt;dbl&gt; | freq_google_withstop &lt;dbl&gt; | freq_kck_withoutstop &lt;dbl&gt; | freq_kck_withstop &lt;dbl&gt; | top_google_withoutstop &lt;lgl&gt; | top_google_withstop &lt;lgl&gt; | top_kck_withoutstop &lt;lgl&gt; | top_kck_withstop &lt;lgl&gt; |\n|---|---|---|---|---|---|---|---|---|\n| the | NA | 1 | NA | 1 | FALSE | TRUE | FALSE | TRUE |\n\n",
      "text/plain": "  word freq_google_withoutstop freq_google_withstop freq_kck_withoutstop\n1 the  NA                      1                    NA                  \n  freq_kck_withstop top_google_withoutstop top_google_withstop\n1 1                 FALSE                  TRUE               \n  top_kck_withoutstop top_kck_withstop\n1 FALSE               TRUE            "
     },
     "metadata": {},
     "output_type": "display_data"
    }
   ],
   "source": [
    "ld(freq_dict, force=T)\n",
    "freq_dict[1]"
   ]
  },
  {
   "cell_type": "code",
   "execution_count": null,
   "metadata": {},
   "outputs": [],
   "source": [
    "punct = c(',', '.', '-', '?', '!', '(', ')', '$', '/', ':', ' ', '\"', intToUtf8(160))\n",
    "\n",
    "score = tokens_as_df[,.(doc_id, word=tolower(token))\n",
    "    ][!(word %in% punct)\n",
    "    ][freq_dict, \n",
    "      on=.(word), nomatch=NULL\n",
    "    ][, .(score_google_all_withstop=sum(freq_google_withstop, na.rm=T),\n",
    "          score_google_all_withoutstop=sum(freq_google_withoutstop, na.rm=T),\n",
    "          score_google_top5000_withstop=sum(freq_google_withstop[top_google_withstop], na.rm=T),\n",
    "          score_google_top5000_withoutstop=sum(freq_google_withoutstop[top_google_withstop], na.rm=T),\n",
    "          score_kck_all_withstop=sum(freq_kck_withstop, na.rm=T),\n",
    "          score_kck_all_withoutstop=sum(freq_kck_withoutstop, na.rm=T),\n",
    "          score_kck_top5000_withstop=sum(freq_kck_withstop[top_google_withstop], na.rm=T),\n",
    "          score_kck_top5000_withoutstop=sum(freq_kck_withoutstop[top_google_withstop], na.rm=T),\n",
    "          n_words_withstop=.N,\n",
    "          n_words_withoutstop=sum(!(word%in%(nltk_stopwords$word)))\n",
    "        ),\n",
    "      keyby=.(doc_id)]"
   ]
  },
  {
   "cell_type": "code",
   "execution_count": 164,
   "metadata": {},
   "outputs": [
    {
     "name": "stdout",
     "output_type": "stream",
     "text": [
      "\"score\" saved as \"score.feather\" (3.3 MB) (0.01 secs, 2021-04-06 23:32:40)\n"
     ]
    }
   ],
   "source": [
    "sv(score)\n",
    "fwrite(score, 'data/Sharing/text_freq_score.csv')"
   ]
  },
  {
   "cell_type": "code",
   "execution_count": 170,
   "metadata": {},
   "outputs": [
    {
     "data": {
      "text/html": "<table class=\"dataframe\">\n<caption>A data.table: 42912 × 11</caption>\n<thead>\n\t<tr><th scope=col>doc_id</th><th scope=col>score_google_all_withstop</th><th scope=col>score_google_all_withoutstop</th><th scope=col>score_google_top5000_withstop</th><th scope=col>score_google_top5000_withoutstop</th><th scope=col>score_kck_all_withstop</th><th scope=col>score_kck_all_withoutstop</th><th scope=col>score_kck_top5000_withstop</th><th scope=col>score_kck_top5000_withoutstop</th><th scope=col>n_words_withstop</th><th scope=col>n_words_withoutstop</th></tr>\n\t<tr><th scope=col>&lt;chr&gt;</th><th scope=col>&lt;dbl&gt;</th><th scope=col>&lt;dbl&gt;</th><th scope=col>&lt;dbl&gt;</th><th scope=col>&lt;dbl&gt;</th><th scope=col>&lt;dbl&gt;</th><th scope=col>&lt;dbl&gt;</th><th scope=col>&lt;dbl&gt;</th><th scope=col>&lt;dbl&gt;</th><th scope=col>&lt;int&gt;</th><th scope=col>&lt;int&gt;</th></tr>\n</thead>\n<tbody>\n\t<tr><td>1000064918</td><td> 16.564182</td><td> 4.598660</td><td> 16.561525</td><td> 4.559029</td><td> 19.778298</td><td> 6.016741</td><td> 19.759641</td><td> 5.809680</td><td> 112</td><td> 56</td></tr>\n\t<tr><td>1000081649</td><td> 51.086338</td><td>17.597705</td><td> 51.079939</td><td>17.502268</td><td> 60.843685</td><td>19.767471</td><td> 60.579193</td><td>16.831987</td><td> 371</td><td>182</td></tr>\n\t<tr><td>1000103948</td><td>112.149320</td><td>29.849668</td><td>112.132549</td><td>29.599549</td><td>124.743338</td><td>32.240279</td><td>124.365149</td><td>28.042923</td><td> 728</td><td>371</td></tr>\n\t<tr><td>1000117510</td><td> 21.128929</td><td>10.256774</td><td> 21.123576</td><td>10.176936</td><td> 24.905090</td><td>14.126331</td><td> 24.661630</td><td>11.424276</td><td> 302</td><td>203</td></tr>\n\t<tr><td>1000201265</td><td>129.155865</td><td>36.138959</td><td>129.125064</td><td>35.679576</td><td>140.784441</td><td>43.173963</td><td>140.345152</td><td>38.298483</td><td> 861</td><td>540</td></tr>\n\t<tr><td>1000234595</td><td> 99.208358</td><td>29.004745</td><td> 99.193653</td><td>28.785436</td><td>112.382945</td><td>30.236821</td><td>111.778967</td><td>23.622939</td><td> 705</td><td>378</td></tr>\n\t<tr><td>1000291263</td><td> 61.218582</td><td>15.533275</td><td> 61.210438</td><td>15.411811</td><td> 70.420722</td><td>20.273904</td><td> 70.020829</td><td>15.835664</td><td> 419</td><td>207</td></tr>\n\t<tr><td>1000335422</td><td>156.627975</td><td>61.134812</td><td>156.584620</td><td>60.488197</td><td>180.241515</td><td>73.519672</td><td>178.746441</td><td>56.926494</td><td>1254</td><td>730</td></tr>\n\t<tr><td>1000426032</td><td>108.298016</td><td>34.991093</td><td>108.283498</td><td>34.774564</td><td>129.255283</td><td>35.537313</td><td>128.515083</td><td>27.322162</td><td> 869</td><td>436</td></tr>\n\t<tr><td>1000450327</td><td> 65.615291</td><td>34.131709</td><td> 65.603515</td><td>33.956070</td><td> 78.465632</td><td>35.132424</td><td> 77.754470</td><td>27.239544</td><td> 601</td><td>361</td></tr>\n\t<tr><td>1000491057</td><td> 42.852309</td><td>14.497359</td><td> 42.850458</td><td>14.469759</td><td> 49.207928</td><td>18.568907</td><td> 48.890756</td><td>15.048752</td><td> 306</td><td>141</td></tr>\n\t<tr><td>1000537760</td><td> 21.704884</td><td>10.516246</td><td> 21.701290</td><td>10.462630</td><td> 26.914276</td><td>12.843436</td><td> 26.833952</td><td>11.951951</td><td> 170</td><td> 83</td></tr>\n\t<tr><td>100057323 </td><td> 93.992726</td><td>40.248668</td><td> 93.980870</td><td>40.071857</td><td>106.614575</td><td>47.751784</td><td>106.003396</td><td>40.968571</td><td> 764</td><td>460</td></tr>\n\t<tr><td>10005784  </td><td> 89.629422</td><td>27.503625</td><td> 89.611352</td><td>27.234125</td><td>102.511696</td><td>34.705535</td><td>102.157109</td><td>30.770128</td><td> 670</td><td>375</td></tr>\n\t<tr><td>1000581804</td><td> 14.128024</td><td> 6.840038</td><td> 14.124618</td><td> 6.789237</td><td> 16.955454</td><td> 4.954574</td><td> 16.923416</td><td> 4.599008</td><td> 118</td><td> 63</td></tr>\n\t<tr><td>1000644119</td><td>  2.712105</td><td> 4.821732</td><td>  2.708736</td><td> 4.771485</td><td>  3.852906</td><td> 7.745867</td><td>  3.796696</td><td> 7.122017</td><td> 157</td><td>147</td></tr>\n\t<tr><td>1000785030</td><td> 25.566557</td><td>11.687416</td><td> 25.561964</td><td>11.618904</td><td> 29.601910</td><td>16.012800</td><td> 29.413439</td><td>13.921038</td><td> 200</td><td>104</td></tr>\n\t<tr><td>1000844246</td><td>117.852028</td><td>44.605880</td><td>117.833038</td><td>44.322651</td><td>135.403393</td><td>44.445869</td><td>134.717515</td><td>36.833600</td><td> 959</td><td>542</td></tr>\n\t<tr><td>1000869383</td><td> 53.296769</td><td>12.179170</td><td> 53.287175</td><td>12.036087</td><td> 58.853073</td><td>12.086800</td><td> 58.777429</td><td>11.247261</td><td> 316</td><td>164</td></tr>\n\t<tr><td>100089599 </td><td> 16.959498</td><td> 6.228471</td><td> 16.957563</td><td> 6.199612</td><td> 19.895347</td><td> 5.296243</td><td> 19.879452</td><td> 5.119832</td><td> 115</td><td> 58</td></tr>\n\t<tr><td>1000905427</td><td> 35.229047</td><td> 8.120598</td><td> 35.221160</td><td> 8.002964</td><td> 40.310019</td><td>11.589468</td><td> 40.125907</td><td> 9.546095</td><td> 279</td><td>191</td></tr>\n\t<tr><td>1000916036</td><td>  1.814822</td><td> 3.650432</td><td>  1.808286</td><td> 3.552948</td><td>  2.591319</td><td> 5.650350</td><td>  2.476652</td><td> 4.377709</td><td> 206</td><td>202</td></tr>\n\t<tr><td>1000992238</td><td>  1.286993</td><td> 5.750879</td><td>  1.281539</td><td> 5.669544</td><td>  2.019863</td><td> 9.834237</td><td>  1.947043</td><td> 9.026039</td><td> 244</td><td>232</td></tr>\n\t<tr><td>1001020080</td><td> 27.411499</td><td> 7.969763</td><td> 27.406599</td><td> 7.901558</td><td> 31.724371</td><td> 7.857477</td><td> 31.633093</td><td> 6.846433</td><td> 190</td><td>105</td></tr>\n\t<tr><td>1001049328</td><td> 31.533777</td><td>14.955510</td><td> 31.524641</td><td>14.819254</td><td> 35.622539</td><td>15.171833</td><td> 35.275195</td><td>11.316816</td><td> 278</td><td>179</td></tr>\n\t<tr><td>1001052357</td><td> 43.956246</td><td>10.889722</td><td> 43.950959</td><td>10.810878</td><td> 50.715171</td><td>18.420895</td><td> 50.536534</td><td>16.438284</td><td> 328</td><td>185</td></tr>\n\t<tr><td>100108464 </td><td>113.979432</td><td>35.668021</td><td>113.949702</td><td>35.224619</td><td>125.768185</td><td>35.818067</td><td>125.217691</td><td>29.708367</td><td> 884</td><td>562</td></tr>\n\t<tr><td>1001087429</td><td> 59.577858</td><td>18.780395</td><td> 59.566467</td><td>18.610506</td><td> 67.471507</td><td>32.803544</td><td> 66.047487</td><td>16.998957</td><td> 439</td><td>247</td></tr>\n\t<tr><td>1001097057</td><td> 79.299717</td><td>15.298277</td><td> 79.286989</td><td>15.108457</td><td> 85.260274</td><td>17.417909</td><td> 84.770433</td><td>11.981382</td><td> 408</td><td>245</td></tr>\n\t<tr><td>1001126692</td><td> 20.711517</td><td> 8.249210</td><td> 20.701639</td><td> 8.101889</td><td> 23.276219</td><td> 7.015149</td><td> 23.157875</td><td> 5.701704</td><td> 175</td><td>116</td></tr>\n\t<tr><td>⋮</td><td>⋮</td><td>⋮</td><td>⋮</td><td>⋮</td><td>⋮</td><td>⋮</td><td>⋮</td><td>⋮</td><td>⋮</td><td>⋮</td></tr>\n\t<tr><td>998638858</td><td> 96.854764</td><td>43.9072305</td><td> 96.807962</td><td>43.209220</td><td>107.063498</td><td> 41.602158</td><td>105.999437</td><td>29.792610</td><td> 982</td><td> 687</td></tr>\n\t<tr><td>998649369</td><td> 22.144229</td><td> 6.4075257</td><td> 22.137114</td><td> 6.301407</td><td> 25.166131</td><td> 11.098689</td><td> 24.664383</td><td> 5.530002</td><td> 233</td><td> 140</td></tr>\n\t<tr><td>998654567</td><td>237.931075</td><td>92.5228802</td><td>237.867901</td><td>91.582022</td><td>270.200918</td><td>103.952664</td><td>267.464317</td><td>73.581356</td><td>2178</td><td>1355</td></tr>\n\t<tr><td>998657162</td><td> 23.808244</td><td>10.4711297</td><td> 23.805788</td><td>10.434494</td><td> 29.533123</td><td> 10.756482</td><td> 29.439272</td><td> 9.714877</td><td> 233</td><td> 137</td></tr>\n\t<tr><td>998699460</td><td>103.509980</td><td>85.7617356</td><td>103.471859</td><td>85.193187</td><td>114.338903</td><td> 98.221848</td><td>111.616306</td><td>68.004918</td><td>1189</td><td> 879</td></tr>\n\t<tr><td>998722982</td><td> 50.271632</td><td>21.5148230</td><td> 50.259942</td><td>21.340476</td><td> 58.216023</td><td> 22.133587</td><td> 58.147655</td><td>21.374800</td><td> 361</td><td> 182</td></tr>\n\t<tr><td>99876632 </td><td> 48.698036</td><td>30.3113499</td><td> 48.684229</td><td>30.105423</td><td> 56.317815</td><td> 30.534887</td><td> 55.490135</td><td>21.348826</td><td> 619</td><td> 451</td></tr>\n\t<tr><td>998897499</td><td> 39.132519</td><td>11.2702784</td><td> 39.122658</td><td>11.123204</td><td> 43.170466</td><td> 12.274025</td><td> 42.925534</td><td> 9.555635</td><td> 276</td><td> 172</td></tr>\n\t<tr><td>998910070</td><td>166.681092</td><td>46.7770770</td><td>166.659860</td><td>46.460425</td><td>188.377441</td><td> 68.623960</td><td>187.111761</td><td>54.576723</td><td>1150</td><td> 641</td></tr>\n\t<tr><td>99903470 </td><td>273.734095</td><td>77.9308612</td><td>273.666072</td><td>76.916353</td><td>311.028358</td><td>107.571410</td><td>308.456351</td><td>79.048170</td><td>2129</td><td>1290</td></tr>\n\t<tr><td>999035011</td><td>  1.576737</td><td> 0.8245922</td><td>  1.576379</td><td> 0.819253</td><td>  2.031564</td><td>  1.332404</td><td>  1.986109</td><td> 0.827914</td><td>  18</td><td>  12</td></tr>\n\t<tr><td>999045186</td><td> 90.739016</td><td>30.8637847</td><td> 90.715565</td><td>30.514039</td><td>104.277204</td><td> 40.380201</td><td>103.211247</td><td>28.549597</td><td> 852</td><td> 475</td></tr>\n\t<tr><td>999101171</td><td>178.678397</td><td>50.8719427</td><td>178.638116</td><td>50.271189</td><td>195.218995</td><td> 71.372692</td><td>193.815032</td><td>55.790711</td><td>1275</td><td> 772</td></tr>\n\t<tr><td>999123824</td><td>126.940007</td><td>36.6716292</td><td>126.920444</td><td>36.379862</td><td>141.904049</td><td> 53.589314</td><td>140.221375</td><td>34.914199</td><td> 856</td><td> 484</td></tr>\n\t<tr><td>999182097</td><td> 16.916352</td><td> 6.1694363</td><td> 16.913759</td><td> 6.130753</td><td> 19.985854</td><td>  7.210255</td><td> 19.847197</td><td> 5.671361</td><td> 139</td><td>  72</td></tr>\n\t<tr><td>999191512</td><td>106.902079</td><td>51.1084579</td><td>106.870996</td><td>50.644880</td><td>123.611249</td><td> 86.462039</td><td>122.030200</td><td>68.914660</td><td>1672</td><td>1332</td></tr>\n\t<tr><td>999206735</td><td> 52.538483</td><td>26.0903860</td><td> 52.522658</td><td>25.854368</td><td> 61.137886</td><td> 23.491064</td><td> 60.966118</td><td>21.584682</td><td> 515</td><td> 315</td></tr>\n\t<tr><td>99924900 </td><td> 54.304048</td><td>11.6148252</td><td> 54.293299</td><td>11.454507</td><td> 59.606995</td><td> 10.113542</td><td> 59.563640</td><td> 9.632358</td><td> 348</td><td> 194</td></tr>\n\t<tr><td>999272950</td><td> 70.461021</td><td>27.3810689</td><td> 70.448561</td><td>27.195228</td><td> 83.214874</td><td> 42.682207</td><td> 82.129752</td><td>30.638911</td><td> 659</td><td> 385</td></tr>\n\t<tr><td>99932539 </td><td> 16.121672</td><td> 3.2808355</td><td> 16.118247</td><td> 3.229756</td><td> 17.679335</td><td>  3.649044</td><td> 17.633440</td><td> 3.139669</td><td> 103</td><td>  55</td></tr>\n\t<tr><td>999357376</td><td>187.758913</td><td>59.9195640</td><td>187.717958</td><td>59.308761</td><td>214.207275</td><td> 81.366248</td><td>212.114659</td><td>58.141206</td><td>1553</td><td> 957</td></tr>\n\t<tr><td>999462268</td><td> 21.629980</td><td> 6.6323486</td><td> 21.624522</td><td> 6.550945</td><td> 23.316125</td><td>  8.559598</td><td> 23.158425</td><td> 6.809362</td><td> 182</td><td> 112</td></tr>\n\t<tr><td>999513399</td><td>184.431545</td><td>69.1920049</td><td>184.389694</td><td>68.567817</td><td>213.710891</td><td> 94.942027</td><td>210.553177</td><td>59.895921</td><td>1586</td><td> 942</td></tr>\n\t<tr><td>999548286</td><td> 42.130922</td><td>17.2275434</td><td> 42.122752</td><td>17.105695</td><td> 50.113839</td><td> 19.653852</td><td> 49.998534</td><td>18.374130</td><td> 367</td><td> 220</td></tr>\n\t<tr><td>999587299</td><td> 70.852602</td><td>34.7240351</td><td> 70.827570</td><td>34.350702</td><td> 80.240676</td><td> 47.551595</td><td> 78.782048</td><td>31.362911</td><td> 776</td><td> 553</td></tr>\n\t<tr><td>999701844</td><td> 12.431655</td><td> 3.3348904</td><td> 12.428571</td><td> 3.288905</td><td> 14.417824</td><td>  4.790041</td><td> 14.411608</td><td> 4.721046</td><td> 105</td><td>  55</td></tr>\n\t<tr><td>999715332</td><td> 31.423397</td><td>12.2635802</td><td> 31.414473</td><td>12.130488</td><td> 36.930187</td><td> 16.399466</td><td> 36.461879</td><td>11.201923</td><td> 300</td><td> 175</td></tr>\n\t<tr><td>999829547</td><td> 53.462691</td><td>20.8548373</td><td> 53.449417</td><td>20.656871</td><td> 64.562285</td><td> 20.728983</td><td> 64.339652</td><td>18.258085</td><td> 461</td><td> 247</td></tr>\n\t<tr><td>99984851 </td><td> 22.324816</td><td> 8.1813052</td><td> 22.322634</td><td> 8.148763</td><td> 28.202605</td><td> 16.060004</td><td> 27.557168</td><td> 8.896579</td><td> 216</td><td> 109</td></tr>\n\t<tr><td>999884872</td><td>267.216385</td><td>86.0906291</td><td>267.151141</td><td>85.117561</td><td>297.577713</td><td> 87.830384</td><td>295.930155</td><td>69.544855</td><td>2054</td><td>1298</td></tr>\n</tbody>\n</table>\n",
      "text/latex": "A data.table: 42912 × 11\n\\begin{tabular}{lllllllllll}\n doc\\_id & score\\_google\\_all\\_withstop & score\\_google\\_all\\_withoutstop & score\\_google\\_top5000\\_withstop & score\\_google\\_top5000\\_withoutstop & score\\_kck\\_all\\_withstop & score\\_kck\\_all\\_withoutstop & score\\_kck\\_top5000\\_withstop & score\\_kck\\_top5000\\_withoutstop & n\\_words\\_withstop & n\\_words\\_withoutstop\\\\\n <chr> & <dbl> & <dbl> & <dbl> & <dbl> & <dbl> & <dbl> & <dbl> & <dbl> & <int> & <int>\\\\\n\\hline\n\t 1000064918 &  16.564182 &  4.598660 &  16.561525 &  4.559029 &  19.778298 &  6.016741 &  19.759641 &  5.809680 &  112 &  56\\\\\n\t 1000081649 &  51.086338 & 17.597705 &  51.079939 & 17.502268 &  60.843685 & 19.767471 &  60.579193 & 16.831987 &  371 & 182\\\\\n\t 1000103948 & 112.149320 & 29.849668 & 112.132549 & 29.599549 & 124.743338 & 32.240279 & 124.365149 & 28.042923 &  728 & 371\\\\\n\t 1000117510 &  21.128929 & 10.256774 &  21.123576 & 10.176936 &  24.905090 & 14.126331 &  24.661630 & 11.424276 &  302 & 203\\\\\n\t 1000201265 & 129.155865 & 36.138959 & 129.125064 & 35.679576 & 140.784441 & 43.173963 & 140.345152 & 38.298483 &  861 & 540\\\\\n\t 1000234595 &  99.208358 & 29.004745 &  99.193653 & 28.785436 & 112.382945 & 30.236821 & 111.778967 & 23.622939 &  705 & 378\\\\\n\t 1000291263 &  61.218582 & 15.533275 &  61.210438 & 15.411811 &  70.420722 & 20.273904 &  70.020829 & 15.835664 &  419 & 207\\\\\n\t 1000335422 & 156.627975 & 61.134812 & 156.584620 & 60.488197 & 180.241515 & 73.519672 & 178.746441 & 56.926494 & 1254 & 730\\\\\n\t 1000426032 & 108.298016 & 34.991093 & 108.283498 & 34.774564 & 129.255283 & 35.537313 & 128.515083 & 27.322162 &  869 & 436\\\\\n\t 1000450327 &  65.615291 & 34.131709 &  65.603515 & 33.956070 &  78.465632 & 35.132424 &  77.754470 & 27.239544 &  601 & 361\\\\\n\t 1000491057 &  42.852309 & 14.497359 &  42.850458 & 14.469759 &  49.207928 & 18.568907 &  48.890756 & 15.048752 &  306 & 141\\\\\n\t 1000537760 &  21.704884 & 10.516246 &  21.701290 & 10.462630 &  26.914276 & 12.843436 &  26.833952 & 11.951951 &  170 &  83\\\\\n\t 100057323  &  93.992726 & 40.248668 &  93.980870 & 40.071857 & 106.614575 & 47.751784 & 106.003396 & 40.968571 &  764 & 460\\\\\n\t 10005784   &  89.629422 & 27.503625 &  89.611352 & 27.234125 & 102.511696 & 34.705535 & 102.157109 & 30.770128 &  670 & 375\\\\\n\t 1000581804 &  14.128024 &  6.840038 &  14.124618 &  6.789237 &  16.955454 &  4.954574 &  16.923416 &  4.599008 &  118 &  63\\\\\n\t 1000644119 &   2.712105 &  4.821732 &   2.708736 &  4.771485 &   3.852906 &  7.745867 &   3.796696 &  7.122017 &  157 & 147\\\\\n\t 1000785030 &  25.566557 & 11.687416 &  25.561964 & 11.618904 &  29.601910 & 16.012800 &  29.413439 & 13.921038 &  200 & 104\\\\\n\t 1000844246 & 117.852028 & 44.605880 & 117.833038 & 44.322651 & 135.403393 & 44.445869 & 134.717515 & 36.833600 &  959 & 542\\\\\n\t 1000869383 &  53.296769 & 12.179170 &  53.287175 & 12.036087 &  58.853073 & 12.086800 &  58.777429 & 11.247261 &  316 & 164\\\\\n\t 100089599  &  16.959498 &  6.228471 &  16.957563 &  6.199612 &  19.895347 &  5.296243 &  19.879452 &  5.119832 &  115 &  58\\\\\n\t 1000905427 &  35.229047 &  8.120598 &  35.221160 &  8.002964 &  40.310019 & 11.589468 &  40.125907 &  9.546095 &  279 & 191\\\\\n\t 1000916036 &   1.814822 &  3.650432 &   1.808286 &  3.552948 &   2.591319 &  5.650350 &   2.476652 &  4.377709 &  206 & 202\\\\\n\t 1000992238 &   1.286993 &  5.750879 &   1.281539 &  5.669544 &   2.019863 &  9.834237 &   1.947043 &  9.026039 &  244 & 232\\\\\n\t 1001020080 &  27.411499 &  7.969763 &  27.406599 &  7.901558 &  31.724371 &  7.857477 &  31.633093 &  6.846433 &  190 & 105\\\\\n\t 1001049328 &  31.533777 & 14.955510 &  31.524641 & 14.819254 &  35.622539 & 15.171833 &  35.275195 & 11.316816 &  278 & 179\\\\\n\t 1001052357 &  43.956246 & 10.889722 &  43.950959 & 10.810878 &  50.715171 & 18.420895 &  50.536534 & 16.438284 &  328 & 185\\\\\n\t 100108464  & 113.979432 & 35.668021 & 113.949702 & 35.224619 & 125.768185 & 35.818067 & 125.217691 & 29.708367 &  884 & 562\\\\\n\t 1001087429 &  59.577858 & 18.780395 &  59.566467 & 18.610506 &  67.471507 & 32.803544 &  66.047487 & 16.998957 &  439 & 247\\\\\n\t 1001097057 &  79.299717 & 15.298277 &  79.286989 & 15.108457 &  85.260274 & 17.417909 &  84.770433 & 11.981382 &  408 & 245\\\\\n\t 1001126692 &  20.711517 &  8.249210 &  20.701639 &  8.101889 &  23.276219 &  7.015149 &  23.157875 &  5.701704 &  175 & 116\\\\\n\t ⋮ & ⋮ & ⋮ & ⋮ & ⋮ & ⋮ & ⋮ & ⋮ & ⋮ & ⋮ & ⋮\\\\\n\t 998638858 &  96.854764 & 43.9072305 &  96.807962 & 43.209220 & 107.063498 &  41.602158 & 105.999437 & 29.792610 &  982 &  687\\\\\n\t 998649369 &  22.144229 &  6.4075257 &  22.137114 &  6.301407 &  25.166131 &  11.098689 &  24.664383 &  5.530002 &  233 &  140\\\\\n\t 998654567 & 237.931075 & 92.5228802 & 237.867901 & 91.582022 & 270.200918 & 103.952664 & 267.464317 & 73.581356 & 2178 & 1355\\\\\n\t 998657162 &  23.808244 & 10.4711297 &  23.805788 & 10.434494 &  29.533123 &  10.756482 &  29.439272 &  9.714877 &  233 &  137\\\\\n\t 998699460 & 103.509980 & 85.7617356 & 103.471859 & 85.193187 & 114.338903 &  98.221848 & 111.616306 & 68.004918 & 1189 &  879\\\\\n\t 998722982 &  50.271632 & 21.5148230 &  50.259942 & 21.340476 &  58.216023 &  22.133587 &  58.147655 & 21.374800 &  361 &  182\\\\\n\t 99876632  &  48.698036 & 30.3113499 &  48.684229 & 30.105423 &  56.317815 &  30.534887 &  55.490135 & 21.348826 &  619 &  451\\\\\n\t 998897499 &  39.132519 & 11.2702784 &  39.122658 & 11.123204 &  43.170466 &  12.274025 &  42.925534 &  9.555635 &  276 &  172\\\\\n\t 998910070 & 166.681092 & 46.7770770 & 166.659860 & 46.460425 & 188.377441 &  68.623960 & 187.111761 & 54.576723 & 1150 &  641\\\\\n\t 99903470  & 273.734095 & 77.9308612 & 273.666072 & 76.916353 & 311.028358 & 107.571410 & 308.456351 & 79.048170 & 2129 & 1290\\\\\n\t 999035011 &   1.576737 &  0.8245922 &   1.576379 &  0.819253 &   2.031564 &   1.332404 &   1.986109 &  0.827914 &   18 &   12\\\\\n\t 999045186 &  90.739016 & 30.8637847 &  90.715565 & 30.514039 & 104.277204 &  40.380201 & 103.211247 & 28.549597 &  852 &  475\\\\\n\t 999101171 & 178.678397 & 50.8719427 & 178.638116 & 50.271189 & 195.218995 &  71.372692 & 193.815032 & 55.790711 & 1275 &  772\\\\\n\t 999123824 & 126.940007 & 36.6716292 & 126.920444 & 36.379862 & 141.904049 &  53.589314 & 140.221375 & 34.914199 &  856 &  484\\\\\n\t 999182097 &  16.916352 &  6.1694363 &  16.913759 &  6.130753 &  19.985854 &   7.210255 &  19.847197 &  5.671361 &  139 &   72\\\\\n\t 999191512 & 106.902079 & 51.1084579 & 106.870996 & 50.644880 & 123.611249 &  86.462039 & 122.030200 & 68.914660 & 1672 & 1332\\\\\n\t 999206735 &  52.538483 & 26.0903860 &  52.522658 & 25.854368 &  61.137886 &  23.491064 &  60.966118 & 21.584682 &  515 &  315\\\\\n\t 99924900  &  54.304048 & 11.6148252 &  54.293299 & 11.454507 &  59.606995 &  10.113542 &  59.563640 &  9.632358 &  348 &  194\\\\\n\t 999272950 &  70.461021 & 27.3810689 &  70.448561 & 27.195228 &  83.214874 &  42.682207 &  82.129752 & 30.638911 &  659 &  385\\\\\n\t 99932539  &  16.121672 &  3.2808355 &  16.118247 &  3.229756 &  17.679335 &   3.649044 &  17.633440 &  3.139669 &  103 &   55\\\\\n\t 999357376 & 187.758913 & 59.9195640 & 187.717958 & 59.308761 & 214.207275 &  81.366248 & 212.114659 & 58.141206 & 1553 &  957\\\\\n\t 999462268 &  21.629980 &  6.6323486 &  21.624522 &  6.550945 &  23.316125 &   8.559598 &  23.158425 &  6.809362 &  182 &  112\\\\\n\t 999513399 & 184.431545 & 69.1920049 & 184.389694 & 68.567817 & 213.710891 &  94.942027 & 210.553177 & 59.895921 & 1586 &  942\\\\\n\t 999548286 &  42.130922 & 17.2275434 &  42.122752 & 17.105695 &  50.113839 &  19.653852 &  49.998534 & 18.374130 &  367 &  220\\\\\n\t 999587299 &  70.852602 & 34.7240351 &  70.827570 & 34.350702 &  80.240676 &  47.551595 &  78.782048 & 31.362911 &  776 &  553\\\\\n\t 999701844 &  12.431655 &  3.3348904 &  12.428571 &  3.288905 &  14.417824 &   4.790041 &  14.411608 &  4.721046 &  105 &   55\\\\\n\t 999715332 &  31.423397 & 12.2635802 &  31.414473 & 12.130488 &  36.930187 &  16.399466 &  36.461879 & 11.201923 &  300 &  175\\\\\n\t 999829547 &  53.462691 & 20.8548373 &  53.449417 & 20.656871 &  64.562285 &  20.728983 &  64.339652 & 18.258085 &  461 &  247\\\\\n\t 99984851  &  22.324816 &  8.1813052 &  22.322634 &  8.148763 &  28.202605 &  16.060004 &  27.557168 &  8.896579 &  216 &  109\\\\\n\t 999884872 & 267.216385 & 86.0906291 & 267.151141 & 85.117561 & 297.577713 &  87.830384 & 295.930155 & 69.544855 & 2054 & 1298\\\\\n\\end{tabular}\n",
      "text/markdown": "\nA data.table: 42912 × 11\n\n| doc_id &lt;chr&gt; | score_google_all_withstop &lt;dbl&gt; | score_google_all_withoutstop &lt;dbl&gt; | score_google_top5000_withstop &lt;dbl&gt; | score_google_top5000_withoutstop &lt;dbl&gt; | score_kck_all_withstop &lt;dbl&gt; | score_kck_all_withoutstop &lt;dbl&gt; | score_kck_top5000_withstop &lt;dbl&gt; | score_kck_top5000_withoutstop &lt;dbl&gt; | n_words_withstop &lt;int&gt; | n_words_withoutstop &lt;int&gt; |\n|---|---|---|---|---|---|---|---|---|---|---|\n| 1000064918 |  16.564182 |  4.598660 |  16.561525 |  4.559029 |  19.778298 |  6.016741 |  19.759641 |  5.809680 |  112 |  56 |\n| 1000081649 |  51.086338 | 17.597705 |  51.079939 | 17.502268 |  60.843685 | 19.767471 |  60.579193 | 16.831987 |  371 | 182 |\n| 1000103948 | 112.149320 | 29.849668 | 112.132549 | 29.599549 | 124.743338 | 32.240279 | 124.365149 | 28.042923 |  728 | 371 |\n| 1000117510 |  21.128929 | 10.256774 |  21.123576 | 10.176936 |  24.905090 | 14.126331 |  24.661630 | 11.424276 |  302 | 203 |\n| 1000201265 | 129.155865 | 36.138959 | 129.125064 | 35.679576 | 140.784441 | 43.173963 | 140.345152 | 38.298483 |  861 | 540 |\n| 1000234595 |  99.208358 | 29.004745 |  99.193653 | 28.785436 | 112.382945 | 30.236821 | 111.778967 | 23.622939 |  705 | 378 |\n| 1000291263 |  61.218582 | 15.533275 |  61.210438 | 15.411811 |  70.420722 | 20.273904 |  70.020829 | 15.835664 |  419 | 207 |\n| 1000335422 | 156.627975 | 61.134812 | 156.584620 | 60.488197 | 180.241515 | 73.519672 | 178.746441 | 56.926494 | 1254 | 730 |\n| 1000426032 | 108.298016 | 34.991093 | 108.283498 | 34.774564 | 129.255283 | 35.537313 | 128.515083 | 27.322162 |  869 | 436 |\n| 1000450327 |  65.615291 | 34.131709 |  65.603515 | 33.956070 |  78.465632 | 35.132424 |  77.754470 | 27.239544 |  601 | 361 |\n| 1000491057 |  42.852309 | 14.497359 |  42.850458 | 14.469759 |  49.207928 | 18.568907 |  48.890756 | 15.048752 |  306 | 141 |\n| 1000537760 |  21.704884 | 10.516246 |  21.701290 | 10.462630 |  26.914276 | 12.843436 |  26.833952 | 11.951951 |  170 |  83 |\n| 100057323  |  93.992726 | 40.248668 |  93.980870 | 40.071857 | 106.614575 | 47.751784 | 106.003396 | 40.968571 |  764 | 460 |\n| 10005784   |  89.629422 | 27.503625 |  89.611352 | 27.234125 | 102.511696 | 34.705535 | 102.157109 | 30.770128 |  670 | 375 |\n| 1000581804 |  14.128024 |  6.840038 |  14.124618 |  6.789237 |  16.955454 |  4.954574 |  16.923416 |  4.599008 |  118 |  63 |\n| 1000644119 |   2.712105 |  4.821732 |   2.708736 |  4.771485 |   3.852906 |  7.745867 |   3.796696 |  7.122017 |  157 | 147 |\n| 1000785030 |  25.566557 | 11.687416 |  25.561964 | 11.618904 |  29.601910 | 16.012800 |  29.413439 | 13.921038 |  200 | 104 |\n| 1000844246 | 117.852028 | 44.605880 | 117.833038 | 44.322651 | 135.403393 | 44.445869 | 134.717515 | 36.833600 |  959 | 542 |\n| 1000869383 |  53.296769 | 12.179170 |  53.287175 | 12.036087 |  58.853073 | 12.086800 |  58.777429 | 11.247261 |  316 | 164 |\n| 100089599  |  16.959498 |  6.228471 |  16.957563 |  6.199612 |  19.895347 |  5.296243 |  19.879452 |  5.119832 |  115 |  58 |\n| 1000905427 |  35.229047 |  8.120598 |  35.221160 |  8.002964 |  40.310019 | 11.589468 |  40.125907 |  9.546095 |  279 | 191 |\n| 1000916036 |   1.814822 |  3.650432 |   1.808286 |  3.552948 |   2.591319 |  5.650350 |   2.476652 |  4.377709 |  206 | 202 |\n| 1000992238 |   1.286993 |  5.750879 |   1.281539 |  5.669544 |   2.019863 |  9.834237 |   1.947043 |  9.026039 |  244 | 232 |\n| 1001020080 |  27.411499 |  7.969763 |  27.406599 |  7.901558 |  31.724371 |  7.857477 |  31.633093 |  6.846433 |  190 | 105 |\n| 1001049328 |  31.533777 | 14.955510 |  31.524641 | 14.819254 |  35.622539 | 15.171833 |  35.275195 | 11.316816 |  278 | 179 |\n| 1001052357 |  43.956246 | 10.889722 |  43.950959 | 10.810878 |  50.715171 | 18.420895 |  50.536534 | 16.438284 |  328 | 185 |\n| 100108464  | 113.979432 | 35.668021 | 113.949702 | 35.224619 | 125.768185 | 35.818067 | 125.217691 | 29.708367 |  884 | 562 |\n| 1001087429 |  59.577858 | 18.780395 |  59.566467 | 18.610506 |  67.471507 | 32.803544 |  66.047487 | 16.998957 |  439 | 247 |\n| 1001097057 |  79.299717 | 15.298277 |  79.286989 | 15.108457 |  85.260274 | 17.417909 |  84.770433 | 11.981382 |  408 | 245 |\n| 1001126692 |  20.711517 |  8.249210 |  20.701639 |  8.101889 |  23.276219 |  7.015149 |  23.157875 |  5.701704 |  175 | 116 |\n| ⋮ | ⋮ | ⋮ | ⋮ | ⋮ | ⋮ | ⋮ | ⋮ | ⋮ | ⋮ | ⋮ |\n| 998638858 |  96.854764 | 43.9072305 |  96.807962 | 43.209220 | 107.063498 |  41.602158 | 105.999437 | 29.792610 |  982 |  687 |\n| 998649369 |  22.144229 |  6.4075257 |  22.137114 |  6.301407 |  25.166131 |  11.098689 |  24.664383 |  5.530002 |  233 |  140 |\n| 998654567 | 237.931075 | 92.5228802 | 237.867901 | 91.582022 | 270.200918 | 103.952664 | 267.464317 | 73.581356 | 2178 | 1355 |\n| 998657162 |  23.808244 | 10.4711297 |  23.805788 | 10.434494 |  29.533123 |  10.756482 |  29.439272 |  9.714877 |  233 |  137 |\n| 998699460 | 103.509980 | 85.7617356 | 103.471859 | 85.193187 | 114.338903 |  98.221848 | 111.616306 | 68.004918 | 1189 |  879 |\n| 998722982 |  50.271632 | 21.5148230 |  50.259942 | 21.340476 |  58.216023 |  22.133587 |  58.147655 | 21.374800 |  361 |  182 |\n| 99876632  |  48.698036 | 30.3113499 |  48.684229 | 30.105423 |  56.317815 |  30.534887 |  55.490135 | 21.348826 |  619 |  451 |\n| 998897499 |  39.132519 | 11.2702784 |  39.122658 | 11.123204 |  43.170466 |  12.274025 |  42.925534 |  9.555635 |  276 |  172 |\n| 998910070 | 166.681092 | 46.7770770 | 166.659860 | 46.460425 | 188.377441 |  68.623960 | 187.111761 | 54.576723 | 1150 |  641 |\n| 99903470  | 273.734095 | 77.9308612 | 273.666072 | 76.916353 | 311.028358 | 107.571410 | 308.456351 | 79.048170 | 2129 | 1290 |\n| 999035011 |   1.576737 |  0.8245922 |   1.576379 |  0.819253 |   2.031564 |   1.332404 |   1.986109 |  0.827914 |   18 |   12 |\n| 999045186 |  90.739016 | 30.8637847 |  90.715565 | 30.514039 | 104.277204 |  40.380201 | 103.211247 | 28.549597 |  852 |  475 |\n| 999101171 | 178.678397 | 50.8719427 | 178.638116 | 50.271189 | 195.218995 |  71.372692 | 193.815032 | 55.790711 | 1275 |  772 |\n| 999123824 | 126.940007 | 36.6716292 | 126.920444 | 36.379862 | 141.904049 |  53.589314 | 140.221375 | 34.914199 |  856 |  484 |\n| 999182097 |  16.916352 |  6.1694363 |  16.913759 |  6.130753 |  19.985854 |   7.210255 |  19.847197 |  5.671361 |  139 |   72 |\n| 999191512 | 106.902079 | 51.1084579 | 106.870996 | 50.644880 | 123.611249 |  86.462039 | 122.030200 | 68.914660 | 1672 | 1332 |\n| 999206735 |  52.538483 | 26.0903860 |  52.522658 | 25.854368 |  61.137886 |  23.491064 |  60.966118 | 21.584682 |  515 |  315 |\n| 99924900  |  54.304048 | 11.6148252 |  54.293299 | 11.454507 |  59.606995 |  10.113542 |  59.563640 |  9.632358 |  348 |  194 |\n| 999272950 |  70.461021 | 27.3810689 |  70.448561 | 27.195228 |  83.214874 |  42.682207 |  82.129752 | 30.638911 |  659 |  385 |\n| 99932539  |  16.121672 |  3.2808355 |  16.118247 |  3.229756 |  17.679335 |   3.649044 |  17.633440 |  3.139669 |  103 |   55 |\n| 999357376 | 187.758913 | 59.9195640 | 187.717958 | 59.308761 | 214.207275 |  81.366248 | 212.114659 | 58.141206 | 1553 |  957 |\n| 999462268 |  21.629980 |  6.6323486 |  21.624522 |  6.550945 |  23.316125 |   8.559598 |  23.158425 |  6.809362 |  182 |  112 |\n| 999513399 | 184.431545 | 69.1920049 | 184.389694 | 68.567817 | 213.710891 |  94.942027 | 210.553177 | 59.895921 | 1586 |  942 |\n| 999548286 |  42.130922 | 17.2275434 |  42.122752 | 17.105695 |  50.113839 |  19.653852 |  49.998534 | 18.374130 |  367 |  220 |\n| 999587299 |  70.852602 | 34.7240351 |  70.827570 | 34.350702 |  80.240676 |  47.551595 |  78.782048 | 31.362911 |  776 |  553 |\n| 999701844 |  12.431655 |  3.3348904 |  12.428571 |  3.288905 |  14.417824 |   4.790041 |  14.411608 |  4.721046 |  105 |   55 |\n| 999715332 |  31.423397 | 12.2635802 |  31.414473 | 12.130488 |  36.930187 |  16.399466 |  36.461879 | 11.201923 |  300 |  175 |\n| 999829547 |  53.462691 | 20.8548373 |  53.449417 | 20.656871 |  64.562285 |  20.728983 |  64.339652 | 18.258085 |  461 |  247 |\n| 99984851  |  22.324816 |  8.1813052 |  22.322634 |  8.148763 |  28.202605 |  16.060004 |  27.557168 |  8.896579 |  216 |  109 |\n| 999884872 | 267.216385 | 86.0906291 | 267.151141 | 85.117561 | 297.577713 |  87.830384 | 295.930155 | 69.544855 | 2054 | 1298 |\n\n",
      "text/plain": "      doc_id     score_google_all_withstop score_google_all_withoutstop\n1     1000064918  16.564182                 4.598660                   \n2     1000081649  51.086338                17.597705                   \n3     1000103948 112.149320                29.849668                   \n4     1000117510  21.128929                10.256774                   \n5     1000201265 129.155865                36.138959                   \n6     1000234595  99.208358                29.004745                   \n7     1000291263  61.218582                15.533275                   \n8     1000335422 156.627975                61.134812                   \n9     1000426032 108.298016                34.991093                   \n10    1000450327  65.615291                34.131709                   \n11    1000491057  42.852309                14.497359                   \n12    1000537760  21.704884                10.516246                   \n13    100057323   93.992726                40.248668                   \n14    10005784    89.629422                27.503625                   \n15    1000581804  14.128024                 6.840038                   \n16    1000644119   2.712105                 4.821732                   \n17    1000785030  25.566557                11.687416                   \n18    1000844246 117.852028                44.605880                   \n19    1000869383  53.296769                12.179170                   \n20    100089599   16.959498                 6.228471                   \n21    1000905427  35.229047                 8.120598                   \n22    1000916036   1.814822                 3.650432                   \n23    1000992238   1.286993                 5.750879                   \n24    1001020080  27.411499                 7.969763                   \n25    1001049328  31.533777                14.955510                   \n26    1001052357  43.956246                10.889722                   \n27    100108464  113.979432                35.668021                   \n28    1001087429  59.577858                18.780395                   \n29    1001097057  79.299717                15.298277                   \n30    1001126692  20.711517                 8.249210                   \n⋮     ⋮          ⋮                         ⋮                           \n42883 998638858   96.854764                43.9072305                  \n42884 998649369   22.144229                 6.4075257                  \n42885 998654567  237.931075                92.5228802                  \n42886 998657162   23.808244                10.4711297                  \n42887 998699460  103.509980                85.7617356                  \n42888 998722982   50.271632                21.5148230                  \n42889 99876632    48.698036                30.3113499                  \n42890 998897499   39.132519                11.2702784                  \n42891 998910070  166.681092                46.7770770                  \n42892 99903470   273.734095                77.9308612                  \n42893 999035011    1.576737                 0.8245922                  \n42894 999045186   90.739016                30.8637847                  \n42895 999101171  178.678397                50.8719427                  \n42896 999123824  126.940007                36.6716292                  \n42897 999182097   16.916352                 6.1694363                  \n42898 999191512  106.902079                51.1084579                  \n42899 999206735   52.538483                26.0903860                  \n42900 99924900    54.304048                11.6148252                  \n42901 999272950   70.461021                27.3810689                  \n42902 99932539    16.121672                 3.2808355                  \n42903 999357376  187.758913                59.9195640                  \n42904 999462268   21.629980                 6.6323486                  \n42905 999513399  184.431545                69.1920049                  \n42906 999548286   42.130922                17.2275434                  \n42907 999587299   70.852602                34.7240351                  \n42908 999701844   12.431655                 3.3348904                  \n42909 999715332   31.423397                12.2635802                  \n42910 999829547   53.462691                20.8548373                  \n42911 99984851    22.324816                 8.1813052                  \n42912 999884872  267.216385                86.0906291                  \n      score_google_top5000_withstop score_google_top5000_withoutstop\n1      16.561525                     4.559029                       \n2      51.079939                    17.502268                       \n3     112.132549                    29.599549                       \n4      21.123576                    10.176936                       \n5     129.125064                    35.679576                       \n6      99.193653                    28.785436                       \n7      61.210438                    15.411811                       \n8     156.584620                    60.488197                       \n9     108.283498                    34.774564                       \n10     65.603515                    33.956070                       \n11     42.850458                    14.469759                       \n12     21.701290                    10.462630                       \n13     93.980870                    40.071857                       \n14     89.611352                    27.234125                       \n15     14.124618                     6.789237                       \n16      2.708736                     4.771485                       \n17     25.561964                    11.618904                       \n18    117.833038                    44.322651                       \n19     53.287175                    12.036087                       \n20     16.957563                     6.199612                       \n21     35.221160                     8.002964                       \n22      1.808286                     3.552948                       \n23      1.281539                     5.669544                       \n24     27.406599                     7.901558                       \n25     31.524641                    14.819254                       \n26     43.950959                    10.810878                       \n27    113.949702                    35.224619                       \n28     59.566467                    18.610506                       \n29     79.286989                    15.108457                       \n30     20.701639                     8.101889                       \n⋮     ⋮                             ⋮                               \n42883  96.807962                    43.209220                       \n42884  22.137114                     6.301407                       \n42885 237.867901                    91.582022                       \n42886  23.805788                    10.434494                       \n42887 103.471859                    85.193187                       \n42888  50.259942                    21.340476                       \n42889  48.684229                    30.105423                       \n42890  39.122658                    11.123204                       \n42891 166.659860                    46.460425                       \n42892 273.666072                    76.916353                       \n42893   1.576379                     0.819253                       \n42894  90.715565                    30.514039                       \n42895 178.638116                    50.271189                       \n42896 126.920444                    36.379862                       \n42897  16.913759                     6.130753                       \n42898 106.870996                    50.644880                       \n42899  52.522658                    25.854368                       \n42900  54.293299                    11.454507                       \n42901  70.448561                    27.195228                       \n42902  16.118247                     3.229756                       \n42903 187.717958                    59.308761                       \n42904  21.624522                     6.550945                       \n42905 184.389694                    68.567817                       \n42906  42.122752                    17.105695                       \n42907  70.827570                    34.350702                       \n42908  12.428571                     3.288905                       \n42909  31.414473                    12.130488                       \n42910  53.449417                    20.656871                       \n42911  22.322634                     8.148763                       \n42912 267.151141                    85.117561                       \n      score_kck_all_withstop score_kck_all_withoutstop\n1      19.778298              6.016741                \n2      60.843685             19.767471                \n3     124.743338             32.240279                \n4      24.905090             14.126331                \n5     140.784441             43.173963                \n6     112.382945             30.236821                \n7      70.420722             20.273904                \n8     180.241515             73.519672                \n9     129.255283             35.537313                \n10     78.465632             35.132424                \n11     49.207928             18.568907                \n12     26.914276             12.843436                \n13    106.614575             47.751784                \n14    102.511696             34.705535                \n15     16.955454              4.954574                \n16      3.852906              7.745867                \n17     29.601910             16.012800                \n18    135.403393             44.445869                \n19     58.853073             12.086800                \n20     19.895347              5.296243                \n21     40.310019             11.589468                \n22      2.591319              5.650350                \n23      2.019863              9.834237                \n24     31.724371              7.857477                \n25     35.622539             15.171833                \n26     50.715171             18.420895                \n27    125.768185             35.818067                \n28     67.471507             32.803544                \n29     85.260274             17.417909                \n30     23.276219              7.015149                \n⋮     ⋮                      ⋮                        \n42883 107.063498              41.602158               \n42884  25.166131              11.098689               \n42885 270.200918             103.952664               \n42886  29.533123              10.756482               \n42887 114.338903              98.221848               \n42888  58.216023              22.133587               \n42889  56.317815              30.534887               \n42890  43.170466              12.274025               \n42891 188.377441              68.623960               \n42892 311.028358             107.571410               \n42893   2.031564               1.332404               \n42894 104.277204              40.380201               \n42895 195.218995              71.372692               \n42896 141.904049              53.589314               \n42897  19.985854               7.210255               \n42898 123.611249              86.462039               \n42899  61.137886              23.491064               \n42900  59.606995              10.113542               \n42901  83.214874              42.682207               \n42902  17.679335               3.649044               \n42903 214.207275              81.366248               \n42904  23.316125               8.559598               \n42905 213.710891              94.942027               \n42906  50.113839              19.653852               \n42907  80.240676              47.551595               \n42908  14.417824               4.790041               \n42909  36.930187              16.399466               \n42910  64.562285              20.728983               \n42911  28.202605              16.060004               \n42912 297.577713              87.830384               \n      score_kck_top5000_withstop score_kck_top5000_withoutstop n_words_withstop\n1      19.759641                  5.809680                      112            \n2      60.579193                 16.831987                      371            \n3     124.365149                 28.042923                      728            \n4      24.661630                 11.424276                      302            \n5     140.345152                 38.298483                      861            \n6     111.778967                 23.622939                      705            \n7      70.020829                 15.835664                      419            \n8     178.746441                 56.926494                     1254            \n9     128.515083                 27.322162                      869            \n10     77.754470                 27.239544                      601            \n11     48.890756                 15.048752                      306            \n12     26.833952                 11.951951                      170            \n13    106.003396                 40.968571                      764            \n14    102.157109                 30.770128                      670            \n15     16.923416                  4.599008                      118            \n16      3.796696                  7.122017                      157            \n17     29.413439                 13.921038                      200            \n18    134.717515                 36.833600                      959            \n19     58.777429                 11.247261                      316            \n20     19.879452                  5.119832                      115            \n21     40.125907                  9.546095                      279            \n22      2.476652                  4.377709                      206            \n23      1.947043                  9.026039                      244            \n24     31.633093                  6.846433                      190            \n25     35.275195                 11.316816                      278            \n26     50.536534                 16.438284                      328            \n27    125.217691                 29.708367                      884            \n28     66.047487                 16.998957                      439            \n29     84.770433                 11.981382                      408            \n30     23.157875                  5.701704                      175            \n⋮     ⋮                          ⋮                             ⋮               \n42883 105.999437                 29.792610                      982            \n42884  24.664383                  5.530002                      233            \n42885 267.464317                 73.581356                     2178            \n42886  29.439272                  9.714877                      233            \n42887 111.616306                 68.004918                     1189            \n42888  58.147655                 21.374800                      361            \n42889  55.490135                 21.348826                      619            \n42890  42.925534                  9.555635                      276            \n42891 187.111761                 54.576723                     1150            \n42892 308.456351                 79.048170                     2129            \n42893   1.986109                  0.827914                       18            \n42894 103.211247                 28.549597                      852            \n42895 193.815032                 55.790711                     1275            \n42896 140.221375                 34.914199                      856            \n42897  19.847197                  5.671361                      139            \n42898 122.030200                 68.914660                     1672            \n42899  60.966118                 21.584682                      515            \n42900  59.563640                  9.632358                      348            \n42901  82.129752                 30.638911                      659            \n42902  17.633440                  3.139669                      103            \n42903 212.114659                 58.141206                     1553            \n42904  23.158425                  6.809362                      182            \n42905 210.553177                 59.895921                     1586            \n42906  49.998534                 18.374130                      367            \n42907  78.782048                 31.362911                      776            \n42908  14.411608                  4.721046                      105            \n42909  36.461879                 11.201923                      300            \n42910  64.339652                 18.258085                      461            \n42911  27.557168                  8.896579                      216            \n42912 295.930155                 69.544855                     2054            \n      n_words_withoutstop\n1      56                \n2     182                \n3     371                \n4     203                \n5     540                \n6     378                \n7     207                \n8     730                \n9     436                \n10    361                \n11    141                \n12     83                \n13    460                \n14    375                \n15     63                \n16    147                \n17    104                \n18    542                \n19    164                \n20     58                \n21    191                \n22    202                \n23    232                \n24    105                \n25    179                \n26    185                \n27    562                \n28    247                \n29    245                \n30    116                \n⋮     ⋮                  \n42883  687               \n42884  140               \n42885 1355               \n42886  137               \n42887  879               \n42888  182               \n42889  451               \n42890  172               \n42891  641               \n42892 1290               \n42893   12               \n42894  475               \n42895  772               \n42896  484               \n42897   72               \n42898 1332               \n42899  315               \n42900  194               \n42901  385               \n42902   55               \n42903  957               \n42904  112               \n42905  942               \n42906  220               \n42907  553               \n42908   55               \n42909  175               \n42910  247               \n42911  109               \n42912 1298               "
     },
     "metadata": {},
     "output_type": "display_data"
    }
   ],
   "source": [
    "score"
   ]
  }
 ],
 "metadata": {
  "kernelspec": {
   "display_name": "R 4.0.5",
   "language": "R",
   "name": "ir403"
  },
  "language_info": {
   "name": "R",
   "version": ""
  }
 },
 "nbformat": 4,
 "nbformat_minor": 5
}