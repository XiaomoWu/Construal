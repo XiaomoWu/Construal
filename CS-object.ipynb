{
 "cells": [
  {
   "cell_type": "markdown",
   "id": "established-clothing",
   "metadata": {},
   "source": [
    "# Init"
   ]
  },
  {
   "cell_type": "code",
   "execution_count": 51,
   "id": "genetic-regular",
   "metadata": {},
   "outputs": [
    {
     "data": {
      "text/html": [
       "<style type='text/css'>\n",
       ".datatable table.frame { margin-bottom: 0; }\n",
       ".datatable table.frame thead { border-bottom: none; }\n",
       ".datatable table.frame tr.coltypes td {  color: #FFFFFF;  line-height: 6px;  padding: 0 0.5em;}\n",
       ".datatable .bool    { background: #DDDD99; }\n",
       ".datatable .object  { background: #565656; }\n",
       ".datatable .int     { background: #5D9E5D; }\n",
       ".datatable .float   { background: #4040CC; }\n",
       ".datatable .str     { background: #CC4040; }\n",
       ".datatable .row_index {  background: var(--jp-border-color3);  border-right: 1px solid var(--jp-border-color0);  color: var(--jp-ui-font-color3);  font-size: 9px;}\n",
       ".datatable .frame tr.coltypes .row_index {  background: var(--jp-border-color0);}\n",
       ".datatable th:nth-child(2) { padding-left: 12px; }\n",
       ".datatable .hellipsis {  color: var(--jp-cell-editor-border-color);}\n",
       ".datatable .vellipsis {  background: var(--jp-layout-color0);  color: var(--jp-cell-editor-border-color);}\n",
       ".datatable .na {  color: var(--jp-cell-editor-border-color);  font-size: 80%;}\n",
       ".datatable .footer { font-size: 9px; }\n",
       ".datatable .frame_dimensions {  background: var(--jp-border-color3);  border-top: 1px solid var(--jp-border-color0);  color: var(--jp-ui-font-color3);  display: inline-block;  opacity: 0.6;  padding: 1px 10px 1px 5px;}\n",
       "</style>\n"
      ],
      "text/plain": [
       "<IPython.core.display.HTML object>"
      ]
     },
     "metadata": {},
     "output_type": "display_data"
    }
   ],
   "source": [
    "# Init for script use\n",
    "with open(\"/home/yu/OneDrive/App/Settings/jupyter + R + Python/python_startup.py\", 'r') as _:\n",
    "    exec(_.read())\n",
    "\n",
    "import datatable as dt\n",
    "import glob\n",
    "import mmcv\n",
    "import torch\n",
    "import shutil\n",
    "\n",
    "from datatable import f\n",
    "from tqdm.auto import tqdm\n",
    "\n",
    "dt.init_styles()\n",
    "\n",
    "WORK_DIR = '/home/yu/OneDrive/Construal'\n",
    "MODEL_DIR = f'{WORK_DIR}/models/mmdetection'\n",
    "DATA_DIR = f'{WORK_DIR}/data'\n",
    "\n",
    "os.chdir(MODEL_DIR)\n",
    "from mmdet.apis import init_detector, inference_detector, show_result_pyplot\n",
    "os.chdir(WORK_DIR)"
   ]
  },
  {
   "cell_type": "markdown",
   "id": "martial-arthritis",
   "metadata": {},
   "source": [
    "# Label distribution"
   ]
  },
  {
   "cell_type": "code",
   "execution_count": 53,
   "id": "dense-cloud",
   "metadata": {},
   "outputs": [
    {
     "name": "stdout",
     "output_type": "stream",
     "text": [
      "\"label_dist\" saved as \"label_dist.feather\" (80.4 KB) (<1s) (2021-03-09 4:46 PM)\n"
     ]
    }
   ],
   "source": [
    "LVIS_DATA_DIR = '/home/yu/Data/LVIS'\n",
    "\n",
    "import json\n",
    "\n",
    "with open(f'{LVIS_DATA_DIR}/lvis_v1_train.json') as ff:\n",
    "    label_dist = dt.Frame(json.load(ff)['categories'])\n",
    "\n",
    "label_dist.names = {'def': 'definition'}\n",
    "label_dist = label_dist[:, \n",
    "      [f.id, f.name, f.definition, f.instance_count, f.image_count, f.frequency]]\n",
    "\n",
    "sv('label_dist')"
   ]
  },
  {
   "cell_type": "code",
   "execution_count": 47,
   "id": "substantial-deputy",
   "metadata": {
    "scrolled": true
   },
   "outputs": [
    {
     "data": {
      "text/html": [
       "<div class='datatable'>\n",
       "  <table class='frame'>\n",
       "  <thead>\n",
       "    <tr class='colnames'><td class='row_index'></td><th>id</th><th>name</th><th>definition</th><th>instance_count</th><th>image_count</th><th>frequency</th></tr>\n",
       "    <tr class='coltypes'><td class='row_index'></td><td class='int' title='int32'>&#x25AA;&#x25AA;&#x25AA;&#x25AA;</td><td class='str' title='str32'>&#x25AA;&#x25AA;&#x25AA;&#x25AA;</td><td class='str' title='str32'>&#x25AA;&#x25AA;&#x25AA;&#x25AA;</td><td class='int' title='int32'>&#x25AA;&#x25AA;&#x25AA;&#x25AA;</td><td class='int' title='int32'>&#x25AA;&#x25AA;&#x25AA;&#x25AA;</td><td class='str' title='str32'>&#x25AA;&#x25AA;&#x25AA;&#x25AA;</td></tr>\n",
       "  </thead>\n",
       "  <tbody>\n",
       "    <tr><td class='row_index'>0</td><td>1</td><td>aerosol_can</td><td>a dispenser that holds a substance under pressure</td><td>109</td><td>64</td><td>c</td></tr>\n",
       "    <tr><td class='row_index'>1</td><td>2</td><td>air_conditioner</td><td>a machine that keeps air cool and dry</td><td>1081</td><td>364</td><td>f</td></tr>\n",
       "    <tr><td class='row_index'>2</td><td>3</td><td>airplane</td><td>an aircraft that has a fixed wing and is powered b&#133;</td><td>3720</td><td>1911</td><td>f</td></tr>\n",
       "    <tr><td class='row_index'>3</td><td>4</td><td>alarm_clock</td><td>a clock that wakes a sleeper at some preset time</td><td>158</td><td>149</td><td>f</td></tr>\n",
       "    <tr><td class='row_index'>4</td><td>5</td><td>alcohol</td><td>a liquor or brew containing alcohol as the active &#133;</td><td>207</td><td>29</td><td>c</td></tr>\n",
       "    <tr><td class='row_index'>5</td><td>6</td><td>alligator</td><td>amphibious reptiles related to crocodiles but with&#133;</td><td>39</td><td>26</td><td>c</td></tr>\n",
       "    <tr><td class='row_index'>6</td><td>7</td><td>almond</td><td>oval-shaped edible seed of the almond tree</td><td>1700</td><td>59</td><td>c</td></tr>\n",
       "    <tr><td class='row_index'>7</td><td>8</td><td>ambulance</td><td>a vehicle that takes people to and from hospitals</td><td>25</td><td>22</td><td>c</td></tr>\n",
       "    <tr><td class='row_index'>8</td><td>9</td><td>amplifier</td><td>electronic equipment that increases strength of si&#133;</td><td>16</td><td>12</td><td>c</td></tr>\n",
       "    <tr><td class='row_index'>9</td><td>10</td><td>anklet</td><td>an ornament worn around the ankle</td><td>39</td><td>28</td><td>c</td></tr>\n",
       "    <tr><td class='row_index'>10</td><td>11</td><td>antenna</td><td>an electrical device that sends or receives radio &#133;</td><td>1018</td><td>505</td><td>f</td></tr>\n",
       "    <tr><td class='row_index'>11</td><td>12</td><td>apple</td><td>fruit with red or yellow or green skin and sweet t&#133;</td><td>17451</td><td>1207</td><td>f</td></tr>\n",
       "    <tr><td class='row_index'>12</td><td>13</td><td>applesauce</td><td>puree of stewed apples usually sweetened and spice&#133;</td><td>7</td><td>4</td><td>r</td></tr>\n",
       "    <tr><td class='row_index'>13</td><td>14</td><td>apricot</td><td>downy yellow to rosy-colored fruit resembling a sm&#133;</td><td>62</td><td>10</td><td>r</td></tr>\n",
       "    <tr><td class='row_index'>14</td><td>15</td><td>apron</td><td>a garment of cloth that is tied about the waist an&#133;</td><td>881</td><td>500</td><td>f</td></tr>\n",
       "    <tr><td class='row_index'>&#x22EE;</td><td class='hellipsis'>&#x22EE;</td><td class='hellipsis'>&#x22EE;</td><td class='hellipsis'>&#x22EE;</td><td class='hellipsis'>&#x22EE;</td><td class='hellipsis'>&#x22EE;</td><td class='hellipsis'>&#x22EE;</td></tr>\n",
       "    <tr><td class='row_index'>1198</td><td>1199</td><td>yacht</td><td>an expensive vessel propelled by sail or power and&#133;</td><td>50</td><td>12</td><td>c</td></tr>\n",
       "    <tr><td class='row_index'>1199</td><td>1200</td><td>yogurt</td><td>a custard-like food made from curdled milk</td><td>116</td><td>52</td><td>c</td></tr>\n",
       "    <tr><td class='row_index'>1200</td><td>1201</td><td>yoke_(animal_equipment)</td><td>gear joining two animals at the neck; NOT egg yolk</td><td>20</td><td>11</td><td>c</td></tr>\n",
       "    <tr><td class='row_index'>1201</td><td>1202</td><td>zebra</td><td>any of several fleet black-and-white striped Afric&#133;</td><td>5443</td><td>1674</td><td>f</td></tr>\n",
       "    <tr><td class='row_index'>1202</td><td>1203</td><td>zucchini</td><td>small cucumber-shaped vegetable marrow; typically &#133;</td><td>798</td><td>81</td><td>c</td></tr>\n",
       "  </tbody>\n",
       "  </table>\n",
       "  <div class='footer'>\n",
       "    <div class='frame_dimensions'>1203 rows &times; 6 columns</div>\n",
       "  </div>\n",
       "</div>\n"
      ],
      "text/plain": [
       "<Frame#7f485c10c170 1203x6>"
      ]
     },
     "execution_count": 47,
     "metadata": {},
     "output_type": "execute_result"
    }
   ],
   "source": [
    "labels"
   ]
  },
  {
   "cell_type": "markdown",
   "id": "identified-belarus",
   "metadata": {
    "toc-hr-collapsed": true
   },
   "source": [
    "# Obj Detect"
   ]
  },
  {
   "cell_type": "markdown",
   "id": "yellow-framing",
   "metadata": {},
   "source": [
    "## config Model"
   ]
  },
  {
   "cell_type": "code",
   "execution_count": 2,
   "id": "bright-decline",
   "metadata": {},
   "outputs": [],
   "source": [
    "# Specify the path to model config and checkpoint file\n",
    "config_file = f'{MODEL_DIR}/configs/lvis/mask_rcnn_x101_64x4d_fpn_sample1e-3_mstrain_1x_lvis_v1.py'\n",
    "checkpoint_file = f'{MODEL_DIR}/checkpoints/mask_rcnn_x101_64x4d_fpn_sample1e-3_mstrain_1x_lvis_v1-43d9edfe.pth'\n",
    "\n",
    "# build the model from a config file and a checkpoint file\n",
    "model_cuda0 = init_detector(config_file, checkpoint_file, device='cuda:0')\n",
    "model_cuda1 = init_detector(config_file, checkpoint_file, device='cuda:1')"
   ]
  },
  {
   "cell_type": "markdown",
   "id": "automotive-mechanics",
   "metadata": {},
   "source": [
    "## move jpgs"
   ]
  },
  {
   "cell_type": "code",
   "execution_count": 3,
   "id": "personal-genre",
   "metadata": {},
   "outputs": [
    {
     "name": "stdout",
     "output_type": "stream",
     "text": [
      "\"pjson.feather\" (167.5 MB) loaded (<1s) (2021-03-09 4:02 PM)\n"
     ]
    }
   ],
   "source": [
    "# get pid of \"product design\"\n",
    "ld('pjson', path=DATA_DIR)\n",
    "pids = pjson[f.category=='Product Design',f.pid].to_list()[0]"
   ]
  },
  {
   "cell_type": "code",
   "execution_count": 5,
   "id": "executed-affiliate",
   "metadata": {},
   "outputs": [
    {
     "data": {
      "text/plain": [
       "'1003704820'"
      ]
     },
     "execution_count": 5,
     "metadata": {},
     "output_type": "execute_result"
    }
   ],
   "source": [
    "pids[1]"
   ]
  },
  {
   "cell_type": "code",
   "execution_count": 4,
   "id": "vital-burner",
   "metadata": {
    "scrolled": true
   },
   "outputs": [
    {
     "data": {
      "application/vnd.jupyter.widget-view+json": {
       "model_id": "45728f3d4e5f41d1958ca3bf7714e5f9",
       "version_major": 2,
       "version_minor": 0
      },
      "text/plain": [
       "  0%|          | 0/819 [00:00<?, ?it/s]"
      ]
     },
     "metadata": {},
     "output_type": "display_data"
    }
   ],
   "source": [
    "# Copy all jpgs in a project folder to '/Kickstarter Image/project_folder'\n",
    "def copy_jpg(pid):\n",
    "    pdir = f'{DATA_DIR}/Kickstarter Data/{pid}'\n",
    "    for i, file in enumerate(os.listdir(pdir)):\n",
    "        if file.endswith('.jpg'):\n",
    "            file_full_path = f'{pdir}/{file}'\n",
    "            target_dir = f'{DATA_DIR}/Kickstarter Image/{pid}'\n",
    "            target_path = f'{target_dir}/{file}'\n",
    "\n",
    "            if not os.path.exists(target_dir):\n",
    "                os.mkdir(target_dir)\n",
    "\n",
    "            shutil.copyfile(file_full_path, target_path)\n",
    "\n",
    "for pid in tqdm(pids):\n",
    "    copy_jpg(pid)"
   ]
  },
  {
   "cell_type": "code",
   "execution_count": 137,
   "id": "resident-ready",
   "metadata": {},
   "outputs": [
    {
     "data": {
      "application/vnd.jupyter.widget-view+json": {
       "model_id": "df36a56c48b544fa90e793f4dfd4a429",
       "version_major": 2,
       "version_minor": 0
      },
      "text/plain": [
       "  0%|          | 0/43131 [00:00<?, ?it/s]"
      ]
     },
     "metadata": {},
     "output_type": "display_data"
    }
   ],
   "source": [
    "# Move depth detection results to a new subfolder\n",
    "# Only need to do onece\n",
    "def move_depth_results():\n",
    "    pids = os.listdir(f'{DATA_DIR}/Kickstarter Image/')\n",
    "\n",
    "    for pid in tqdm(pids):\n",
    "        pdir = f'{DATA_DIR}/Kickstarter Image/{pid}'\n",
    "        for file in os.listdir(pdir):\n",
    "            if file.endswith('md2.jpg') or file.endswith('md2.npy'):\n",
    "                file_full_path = f'{pdir}/{file}'\n",
    "                target_dir = f'{DATA_DIR}/Kickstarter Image/{pid}/depth results'\n",
    "                target_path = f'{target_dir}/{file}'\n",
    "\n",
    "                if not os.path.exists(target_dir):\n",
    "                    os.mkdir(target_dir)\n",
    "\n",
    "                shutil.move(file_full_path, target_path)\n",
    "                \n",
    "# move_depth_results()"
   ]
  },
  {
   "cell_type": "markdown",
   "id": "synthetic-poetry",
   "metadata": {},
   "source": [
    "## Inference"
   ]
  },
  {
   "cell_type": "markdown",
   "id": "floating-yield",
   "metadata": {},
   "source": [
    "### Unit test"
   ]
  },
  {
   "cell_type": "code",
   "execution_count": null,
   "id": "boxed-syracuse",
   "metadata": {},
   "outputs": [],
   "source": [
    "target = f'{DATA_DIR}/Sharing'\n",
    "\n",
    "def unit(pid, model):\n",
    "    pdir = f'{DATA_DIR}/Kickstarter Image/{pid}'\n",
    "    output = {}\n",
    "    for i, file in enumerate(os.listdir(pdir)):\n",
    "        if file.endswith('profile_full.jpg'):\n",
    "            img = f'{pdir}/{file}'\n",
    "            res = inference_detector(model, img)\n",
    "            \n",
    "            model.show_result(img, res, out_file=f'{target}/example_{i}.jpg')\n",
    "            \n",
    "for pid in tqdm(pids[:5]):\n",
    "    unit(pid, model_cuda1)"
   ]
  },
  {
   "cell_type": "markdown",
   "id": "nasty-maria",
   "metadata": {},
   "source": [
    "### Batch run"
   ]
  },
  {
   "cell_type": "code",
   "execution_count": 5,
   "id": "minute-slovakia",
   "metadata": {},
   "outputs": [
    {
     "name": "stderr",
     "output_type": "stream",
     "text": [
      "/home/yu/OneDrive/Construal/models/mmdetection/mmdet/datasets/utils.py:62: UserWarning: \"ImageToTensor\" pipeline is replaced by \"DefaultFormatBundle\" for batch inference. It is recommended to manually replace it in the test data pipeline in your config file.\n",
      "  warnings.warn(\n"
     ]
    }
   ],
   "source": [
    "# Start Detecting!\n",
    "def obj_detect(pid, model):\n",
    "    pdir = f'{DATA_DIR}/Kickstarter Image/{pid}'\n",
    "    output = {}\n",
    "    for i, file in enumerate(os.listdir(pdir)):\n",
    "        if file.endswith('.jpg'):\n",
    "            img = f'{pdir}/{file}'\n",
    "            res = inference_detector(model, img)\n",
    "            \n",
    "            # get cat_idx and cat_n\n",
    "            # res[0]: box\n",
    "            # res[1]: segment\n",
    "            box_res = {}\n",
    "            for cat_idx, cat in enumerate(res[0]):\n",
    "                if len(cat)>0:\n",
    "                    box_res[cat_idx] = {'n':len(cat),\n",
    "                                        'prob':cat[:,-1].tolist()}\n",
    "            \n",
    "            output[file] = box_res\n",
    "\n",
    "    return output\n",
    "\n",
    "x = obj_detect(pids[0], model_cuda0)"
   ]
  },
  {
   "cell_type": "code",
   "execution_count": 229,
   "id": "equivalent-sugar",
   "metadata": {
    "lines_to_next_cell": 0,
    "scrolled": true
   },
   "outputs": [],
   "source": [
    "# Start Detecting!\n",
    "def obj_detect(pid, model):\n",
    "    pdir = f'{DATA_DIR}/Kickstarter Image/{pid}'\n",
    "    output = {}\n",
    "    for i, file in enumerate(os.listdir(pdir)):\n",
    "        if file.endswith('.jpg'):\n",
    "            img = f'{pdir}/{file}'\n",
    "            res = inference_detector(model, img)\n",
    "            \n",
    "            # get cat_idx and cat_n\n",
    "            # res[0]: box\n",
    "            # res[1]: segment\n",
    "            box_res = {}\n",
    "            for cat_idx, cat in enumerate(res[0]):\n",
    "                if len(cat)>0:\n",
    "                    box_res[cat_idx] = {'n':len(cat),\n",
    "                                        'prob':cat[:,-1].tolist()}\n",
    "            \n",
    "            output[file] = box_res\n",
    "            \n",
    "\n",
    "\n",
    "    # save results\n",
    "    save_dir = f'{pdir}/object results'\n",
    "    save_path = f'{save_dir}/mrcnn_lvis.pt'\n",
    "    if not os.path.exists(save_path):\n",
    "        os.mkdir(save_dir)\n",
    "    torch.save(output, save_path)\n",
    "    \n",
    "    \n",
    "device_id = 0\n",
    "print(f'Using GPU:{device_id}')\n",
    "\n",
    "half = int(len(pids)/2)\n",
    "pids = [pids[:half], pids[half:]]\n",
    "\n",
    "model = init_detector(config_file, checkpoint_file, device=f'cuda:{device_id}')\n",
    "\n",
    "for pid in tqdm(pids[device_id]):\n",
    "    obj_detect(pid, model)"
   ]
  },
  {
   "cell_type": "markdown",
   "id": "official-august",
   "metadata": {},
   "source": [
    "## Retreving results for sharing\n"
   ]
  },
  {
   "cell_type": "code",
   "execution_count": 15,
   "id": "spectacular-holmes",
   "metadata": {
    "lines_to_next_cell": 2
   },
   "outputs": [
    {
     "name": "stdout",
     "output_type": "stream",
     "text": [
      "pjson (167.5 MB) already loaded, will NOT load again!\n"
     ]
    }
   ],
   "source": [
    "# get pid of \"product design\"\n",
    "ld('pjson', path=DATA_DIR)\n",
    "pids = pjson[f.category=='Product Design',f.pid].to_list()[0]"
   ]
  },
  {
   "cell_type": "code",
   "execution_count": null,
   "id": "dominican-roots",
   "metadata": {
    "lines_to_next_cell": 0
   },
   "outputs": [],
   "source": [
    "target = f'{DATA_DIR}/Sharing/object detect results'\n",
    "if not os.path.exists:\n",
    "    os.mkdir(target)\n",
    "\n",
    "def save_sharing(pid):\n",
    "    pdir = f'{DATA_DIR}/Kickstarter Image/{pid}/object results'\n",
    "    target_dir = f'{target}/{pid}'\n",
    "    if not os.path.exists(target_dir):\n",
    "        shutil.copytree(pdir, target_dir)\n",
    "\n",
    "for pid in tqdm(pids):\n",
    "    save_sharing(pid)"
   ]
  },
  {
   "cell_type": "code",
   "execution_count": 3,
   "id": "featured-warrior",
   "metadata": {
    "lines_to_next_cell": 2
   },
   "outputs": [],
   "source": [
    "import torch\n",
    "\n",
    "root_dir = '/home/yu/OneDrive/Construal/data/Sharing/object detect results'\n",
    "\n",
    "outputs = {}\n",
    "for i, pid in enumerate(os.listdir(root_dir)):\n",
    "    res = torch.load(f'{root_dir}/{pid}/mrcnn_lvis.pt')\n",
    "    outputs[pid] = res\n",
    "    \n",
    "# outputs will be the collected results.\n",
    "# It's a dictionary, the key is the project_id, for example, type\n",
    "# outputs['843185506'], then the results for pid=843185506 will\n",
    "# show up."
   ]
  }
 ],
 "metadata": {
  "jupytext": {
   "formats": "ipynb,py:light"
  },
  "kernelspec": {
   "display_name": "Python-3.8",
   "language": "python",
   "name": "python3"
  },
  "language_info": {
   "codemirror_mode": {
    "name": "ipython",
    "version": 3
   },
   "file_extension": ".py",
   "mimetype": "text/x-python",
   "name": "python",
   "nbconvert_exporter": "python",
   "pygments_lexer": "ipython3",
   "version": "3.8.5"
  },
  "toc-autonumbering": true
 },
 "nbformat": 4,
 "nbformat_minor": 5
}
