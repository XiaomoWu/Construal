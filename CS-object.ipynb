{
 "cells": [
  {
   "cell_type": "markdown",
   "id": "sporting-radius",
   "metadata": {},
   "source": [
    "# Init"
   ]
  },
  {
   "cell_type": "code",
   "execution_count": 3,
   "id": "apart-settle",
   "metadata": {},
   "outputs": [
    {
     "data": {
      "text/html": [
       "<style type='text/css'>\n",
       ".datatable table.frame { margin-bottom: 0; }\n",
       ".datatable table.frame thead { border-bottom: none; }\n",
       ".datatable table.frame tr.coltypes td {  color: #FFFFFF;  line-height: 6px;  padding: 0 0.5em;}\n",
       ".datatable .bool    { background: #DDDD99; }\n",
       ".datatable .object  { background: #565656; }\n",
       ".datatable .int     { background: #5D9E5D; }\n",
       ".datatable .float   { background: #4040CC; }\n",
       ".datatable .str     { background: #CC4040; }\n",
       ".datatable .row_index {  background: var(--jp-border-color3);  border-right: 1px solid var(--jp-border-color0);  color: var(--jp-ui-font-color3);  font-size: 9px;}\n",
       ".datatable .frame tr.coltypes .row_index {  background: var(--jp-border-color0);}\n",
       ".datatable th:nth-child(2) { padding-left: 12px; }\n",
       ".datatable .hellipsis {  color: var(--jp-cell-editor-border-color);}\n",
       ".datatable .vellipsis {  background: var(--jp-layout-color0);  color: var(--jp-cell-editor-border-color);}\n",
       ".datatable .na {  color: var(--jp-cell-editor-border-color);  font-size: 80%;}\n",
       ".datatable .footer { font-size: 9px; }\n",
       ".datatable .frame_dimensions {  background: var(--jp-border-color3);  border-top: 1px solid var(--jp-border-color0);  color: var(--jp-ui-font-color3);  display: inline-block;  opacity: 0.6;  padding: 1px 10px 1px 5px;}\n",
       "</style>\n"
      ],
      "text/plain": [
       "<IPython.core.display.HTML object>"
      ]
     },
     "metadata": {},
     "output_type": "display_data"
    }
   ],
   "source": [
    "# Init for script use\n",
    "with open(\"/home/yu/OneDrive/App/Settings/jupyter + R + Python/python_startup.py\", 'r') as _:\n",
    "    exec(_.read())\n",
    "\n",
    "import datatable as dt\n",
    "import glob\n",
    "import mmcv\n",
    "import torch\n",
    "import shutil\n",
    "\n",
    "from datatable import f\n",
    "from tqdm.auto import tqdm\n",
    "\n",
    "dt.init_styles()\n",
    "\n",
    "WORK_DIR = '/home/yu/OneDrive/Construal'\n",
    "MODEL_DIR = f'{WORK_DIR}/models/mmdetection'\n",
    "DATA_DIR = f'{WORK_DIR}/data'\n",
    "\n",
    "os.chdir(WORK_DIR)"
   ]
  },
  {
   "cell_type": "markdown",
   "id": "graduate-calendar",
   "metadata": {
    "incorrectly_encoded_metadata": "toc-hr-collapsed=true"
   },
   "source": [
    "# Obj Detect"
   ]
  },
  {
   "cell_type": "code",
   "execution_count": null,
   "id": "tight-birth",
   "metadata": {},
   "outputs": [],
   "source": [
    "os.chdir(MODEL_DIR)\n",
    "from mmdet.apis import init_detector, inference_detector, show_result_pyplot\n",
    "os.chdir(WORK_DIR)"
   ]
  },
  {
   "cell_type": "markdown",
   "id": "addressed-exhibit",
   "metadata": {},
   "source": [
    "## config Model"
   ]
  },
  {
   "cell_type": "code",
   "execution_count": 2,
   "id": "instant-revelation",
   "metadata": {},
   "outputs": [],
   "source": [
    "# Specify the path to model config and checkpoint file\n",
    "config_file = f'{MODEL_DIR}/configs/lvis/mask_rcnn_x101_64x4d_fpn_sample1e-3_mstrain_1x_lvis_v1.py'\n",
    "checkpoint_file = f'{MODEL_DIR}/checkpoints/mask_rcnn_x101_64x4d_fpn_sample1e-3_mstrain_1x_lvis_v1-43d9edfe.pth'\n",
    "\n",
    "# build the model from a config file and a checkpoint file\n",
    "model_cuda0 = init_detector(config_file, checkpoint_file, device='cuda:0')\n",
    "model_cuda1 = init_detector(config_file, checkpoint_file, device='cuda:1')"
   ]
  },
  {
   "cell_type": "markdown",
   "id": "religious-border",
   "metadata": {},
   "source": [
    "## move jpgs"
   ]
  },
  {
   "cell_type": "code",
   "execution_count": 3,
   "id": "whole-kuwait",
   "metadata": {},
   "outputs": [
    {
     "name": "stdout",
     "output_type": "stream",
     "text": [
      "\"pjson.feather\" (167.5 MB) loaded (<1s) (2021-03-09 4:02 PM)\n"
     ]
    }
   ],
   "source": [
    "# get pid of \"product design\"\n",
    "ld('pjson', path=DATA_DIR)\n",
    "pids = pjson[f.category=='Product Design',f.pid].to_list()[0]"
   ]
  },
  {
   "cell_type": "code",
   "execution_count": 5,
   "id": "dominican-windows",
   "metadata": {},
   "outputs": [
    {
     "data": {
      "text/plain": [
       "'1003704820'"
      ]
     },
     "execution_count": 5,
     "metadata": {},
     "output_type": "execute_result"
    }
   ],
   "source": [
    "pids[1]"
   ]
  },
  {
   "cell_type": "code",
   "execution_count": 4,
   "id": "falling-belle",
   "metadata": {
    "scrolled": true
   },
   "outputs": [
    {
     "data": {
      "application/vnd.jupyter.widget-view+json": {
       "model_id": "45728f3d4e5f41d1958ca3bf7714e5f9",
       "version_major": 2,
       "version_minor": 0
      },
      "text/plain": [
       "  0%|          | 0/819 [00:00<?, ?it/s]"
      ]
     },
     "metadata": {},
     "output_type": "display_data"
    }
   ],
   "source": [
    "# Copy all jpgs in a project folder to '/Kickstarter Image/project_folder'\n",
    "def copy_jpg(pid):\n",
    "    pdir = f'{DATA_DIR}/Kickstarter Data/{pid}'\n",
    "    for i, file in enumerate(os.listdir(pdir)):\n",
    "        if file.endswith('.jpg'):\n",
    "            file_full_path = f'{pdir}/{file}'\n",
    "            target_dir = f'{DATA_DIR}/Kickstarter Image/{pid}'\n",
    "            target_path = f'{target_dir}/{file}'\n",
    "\n",
    "            if not os.path.exists(target_dir):\n",
    "                os.mkdir(target_dir)\n",
    "\n",
    "            shutil.copyfile(file_full_path, target_path)\n",
    "\n",
    "for pid in tqdm(pids):\n",
    "    copy_jpg(pid)"
   ]
  },
  {
   "cell_type": "code",
   "execution_count": 137,
   "id": "apart-cooking",
   "metadata": {},
   "outputs": [
    {
     "data": {
      "application/vnd.jupyter.widget-view+json": {
       "model_id": "df36a56c48b544fa90e793f4dfd4a429",
       "version_major": 2,
       "version_minor": 0
      },
      "text/plain": [
       "  0%|          | 0/43131 [00:00<?, ?it/s]"
      ]
     },
     "metadata": {},
     "output_type": "display_data"
    }
   ],
   "source": [
    "# Move depth detection results to a new subfolder\n",
    "# Only need to do onece\n",
    "def move_depth_results():\n",
    "    pids = os.listdir(f'{DATA_DIR}/Kickstarter Image/')\n",
    "\n",
    "    for pid in tqdm(pids):\n",
    "        pdir = f'{DATA_DIR}/Kickstarter Image/{pid}'\n",
    "        for file in os.listdir(pdir):\n",
    "            if file.endswith('md2.jpg') or file.endswith('md2.npy'):\n",
    "                file_full_path = f'{pdir}/{file}'\n",
    "                target_dir = f'{DATA_DIR}/Kickstarter Image/{pid}/depth results'\n",
    "                target_path = f'{target_dir}/{file}'\n",
    "\n",
    "                if not os.path.exists(target_dir):\n",
    "                    os.mkdir(target_dir)\n",
    "\n",
    "                shutil.move(file_full_path, target_path)\n",
    "                \n",
    "# move_depth_results()"
   ]
  },
  {
   "cell_type": "markdown",
   "id": "biological-institute",
   "metadata": {},
   "source": [
    "## Inference"
   ]
  },
  {
   "cell_type": "markdown",
   "id": "intimate-religion",
   "metadata": {},
   "source": [
    "### Unit test"
   ]
  },
  {
   "cell_type": "code",
   "execution_count": null,
   "id": "speaking-maintenance",
   "metadata": {},
   "outputs": [],
   "source": [
    "target = f'{DATA_DIR}/Sharing'\n",
    "\n",
    "def unit(pid, model):\n",
    "    pdir = f'{DATA_DIR}/Kickstarter Image/{pid}'\n",
    "    output = {}\n",
    "    for i, file in enumerate(os.listdir(pdir)):\n",
    "        if file.endswith('profile_full.jpg'):\n",
    "            img = f'{pdir}/{file}'\n",
    "            res = inference_detector(model, img)\n",
    "            \n",
    "            model.show_result(img, res, out_file=f'{target}/example_{i}.jpg')\n",
    "            \n",
    "for pid in tqdm(pids[:5]):\n",
    "    unit(pid, model_cuda1)"
   ]
  },
  {
   "cell_type": "markdown",
   "id": "prescribed-residence",
   "metadata": {},
   "source": [
    "### Batch run"
   ]
  },
  {
   "cell_type": "code",
   "execution_count": 5,
   "id": "second-question",
   "metadata": {},
   "outputs": [
    {
     "name": "stderr",
     "output_type": "stream",
     "text": [
      "/home/yu/OneDrive/Construal/models/mmdetection/mmdet/datasets/utils.py:62: UserWarning: \"ImageToTensor\" pipeline is replaced by \"DefaultFormatBundle\" for batch inference. It is recommended to manually replace it in the test data pipeline in your config file.\n",
      "  warnings.warn(\n"
     ]
    }
   ],
   "source": [
    "# Start Detecting!\n",
    "def obj_detect(pid, model):\n",
    "    pdir = f'{DATA_DIR}/Kickstarter Image/{pid}'\n",
    "    output = {}\n",
    "    for i, file in enumerate(os.listdir(pdir)):\n",
    "        if file.endswith('.jpg'):\n",
    "            img = f'{pdir}/{file}'\n",
    "            res = inference_detector(model, img)\n",
    "            \n",
    "            # get cat_idx and cat_n\n",
    "            # res[0]: box\n",
    "            # res[1]: segment\n",
    "            box_res = {}\n",
    "            for cat_idx, cat in enumerate(res[0]):\n",
    "                if len(cat)>0:\n",
    "                    box_res[cat_idx] = {'n':len(cat),\n",
    "                                        'prob':cat[:,-1].tolist()}\n",
    "            \n",
    "            output[file] = box_res\n",
    "\n",
    "    return output\n",
    "\n",
    "x = obj_detect(pids[0], model_cuda0)"
   ]
  },
  {
   "cell_type": "code",
   "execution_count": 229,
   "id": "funny-aviation",
   "metadata": {
    "lines_to_next_cell": 0,
    "scrolled": true
   },
   "outputs": [],
   "source": [
    "# Start Detecting!\n",
    "def obj_detect(pid, model):\n",
    "    pdir = f'{DATA_DIR}/Kickstarter Image/{pid}'\n",
    "    output = {}\n",
    "    for i, file in enumerate(os.listdir(pdir)):\n",
    "        if file.endswith('.jpg'):\n",
    "            img = f'{pdir}/{file}'\n",
    "            res = inference_detector(model, img)\n",
    "            \n",
    "            # get cat_idx and cat_n\n",
    "            # res[0]: box\n",
    "            # res[1]: segment\n",
    "            box_res = {}\n",
    "            for cat_idx, cat in enumerate(res[0]):\n",
    "                if len(cat)>0:\n",
    "                    box_res[cat_idx] = {'n':len(cat),\n",
    "                                        'prob':cat[:,-1].tolist()}\n",
    "            \n",
    "            output[file] = box_res\n",
    "            \n",
    "\n",
    "\n",
    "    # save results\n",
    "    save_dir = f'{pdir}/object results'\n",
    "    save_path = f'{save_dir}/mrcnn_lvis.pt'\n",
    "    if not os.path.exists(save_path):\n",
    "        os.mkdir(save_dir)\n",
    "    torch.save(output, save_path)\n",
    "    \n",
    "    \n",
    "device_id = 0\n",
    "print(f'Using GPU:{device_id}')\n",
    "\n",
    "half = int(len(pids)/2)\n",
    "pids = [pids[:half], pids[half:]]\n",
    "\n",
    "model = init_detector(config_file, checkpoint_file, device=f'cuda:{device_id}')\n",
    "\n",
    "for pid in tqdm(pids[device_id]):\n",
    "    obj_detect(pid, model)"
   ]
  },
  {
   "cell_type": "markdown",
   "id": "loaded-delicious",
   "metadata": {},
   "source": [
    "## Retreving results for sharing\n"
   ]
  },
  {
   "cell_type": "code",
   "execution_count": 2,
   "id": "acting-consent",
   "metadata": {
    "lines_to_next_cell": 2
   },
   "outputs": [
    {
     "name": "stdout",
     "output_type": "stream",
     "text": [
      "\"pjson.feather\" (167.5 MB) loaded (<1s) (2021-03-21 3:50 PM)\n"
     ]
    }
   ],
   "source": [
    "# get pid of \"product design\"\n",
    "ld('pjson', path=DATA_DIR)\n",
    "pids = pjson[f.category=='Product Design',f.pid].to_list()[0]"
   ]
  },
  {
   "cell_type": "code",
   "execution_count": 3,
   "id": "perfect-vector",
   "metadata": {
    "lines_to_next_cell": 0
   },
   "outputs": [
    {
     "name": "stderr",
     "output_type": "stream",
     "text": [
      "100%|##########| 819/819 [00:00<00:00, 277878.58it/s]\n"
     ]
    }
   ],
   "source": [
    "target = f'{DATA_DIR}/Sharing/object detect results'\n",
    "if not os.path.exists:\n",
    "    os.mkdir(target)\n",
    "\n",
    "def save_sharing(pid):\n",
    "    pdir = f'{DATA_DIR}/Kickstarter Image/{pid}/object results'\n",
    "    target_dir = f'{target}/{pid}'\n",
    "    if not os.path.exists(target_dir):\n",
    "        shutil.copytree(pdir, target_dir)\n",
    "\n",
    "for pid in tqdm(pids):\n",
    "    save_sharing(pid)"
   ]
  },
  {
   "cell_type": "code",
   "execution_count": null,
   "id": "typical-scanner",
   "metadata": {},
   "outputs": [],
   "source": [
    "import torch\n",
    "\n",
    "root_dir = '/home/yu/OneDrive/Construal/data/Sharing/object detect results'\n",
    "\n",
    "detect_res = {}\n",
    "for i, pid in enumerate(os.listdir(root_dir)):\n",
    "    res = torch.load(f'{root_dir}/{pid}/mrcnn_lvis.pt')\n",
    "    detect_res[pid] = res\n",
    "    \n",
    "\n",
    "df_objdet = []\n",
    "for pid, v in detect_res.items():\n",
    "    for jpg, labels in v.items():\n",
    "        for label_id, label_counts in labels.items():\n",
    "            for inst_id, prob in enumerate(label_counts['prob']):\n",
    "                df_objdet.append((pid, jpg, label_id, inst_id, prob))\n",
    "df_objdet = dt.Frame(df_objdet, names=['pid', 'jpg', 'label_id', 'inst_id', 'prob'])\n",
    "sv('df_objdet')"
   ]
  },
  {
   "cell_type": "markdown",
   "id": "golden-emerald",
   "metadata": {},
   "source": [
    "# Label distribution"
   ]
  },
  {
   "cell_type": "markdown",
   "id": "sticky-legend",
   "metadata": {},
   "source": [
    "## LVIS distribution"
   ]
  },
  {
   "cell_type": "code",
   "execution_count": 4,
   "id": "western-stream",
   "metadata": {},
   "outputs": [
    {
     "name": "stdout",
     "output_type": "stream",
     "text": [
      "\"lvis_dist\" saved as \"lvis_dist.feather\" (80.4 KB) (<1s) (2021-03-26 12:57 PM)\n"
     ]
    }
   ],
   "source": [
    "LVIS_DATA_DIR = '/home/yu/Data/LVIS'\n",
    "\n",
    "import json\n",
    "\n",
    "with open(f'{LVIS_DATA_DIR}/lvis_v1_train.json') as ff:\n",
    "    lvis_dist = dt.Frame(json.load(ff)['categories'])\n",
    "\n",
    "lvis_dist.names = {'def': 'definition'}\n",
    "lvis_dist = lvis_dist[:, \n",
    "      [f.id, f.name, f.definition, f.instance_count, f.image_count, f.frequency]]\n",
    "\n",
    "sv('lvis_dist')"
   ]
  },
  {
   "cell_type": "markdown",
   "id": "latin-drilling",
   "metadata": {},
   "source": [
    "## kick distribution (R)"
   ]
  },
  {
   "cell_type": "code",
   "execution_count": 1,
   "id": "indoor-honey",
   "metadata": {},
   "outputs": [
    {
     "name": "stdout",
     "output_type": "stream",
     "text": [
      "\"lvis_dist.feather\" (80.4 KB) loaded (0.03 secs) (2021-03-30 6:15 PM)\n",
      "\"df_objdet.feather\" (73.1 MB) loaded (0.61 secs) (2021-03-30 6:15 PM)\n"
     ]
    }
   ],
   "source": [
    "ld(lvis_dist, force=T) # dist of LVIS\n",
    "ld(df_objdet) # object detection results"
   ]
  },
  {
   "cell_type": "code",
   "execution_count": 34,
   "id": "under-safety",
   "metadata": {
    "scrolled": true
   },
   "outputs": [],
   "source": [
    "kick = df_objdet[prob>=0.5, .(kick_freq=.N),\n",
    "      keyby=.(label_id)\n",
    "    ][, .(label_id, kick_freq=kick_freq/sum(kick_freq))]\n",
    "\n",
    "dist = lvis_dist[, .(label_id=id, lvis_freq=instance_count)\n",
    "    ][kick, on=.(label_id), nomatch=NULL\n",
    "    ][, ':='(lvis_freq=lvis_freq/sum(lvis_freq))\n",
    "    ][, ':='(is_kick_more=sign(kick_freq-lvis_freq))]"
   ]
  },
  {
   "cell_type": "code",
   "execution_count": 38,
   "id": "spoken-pressure",
   "metadata": {
    "scrolled": true
   },
   "outputs": [],
   "source": [
    "# plot_ly(dist, x=~label_id, y=~lvis_freq, type='bar', name='LVIS') %>%\n",
    "#     add_trace(y=~kick_freq, name='Kickstart') %>%\n",
    "#     plotly::layout(barmode='group')\n",
    "\n",
    "kick_dist = df_objdet[prob>=0.5, .(inst_count=.N), keyby=.(pid, label_id)\n",
    "    ][dist, on=.(label_id), nomatch=NULL\n",
    "    ][, {\n",
    "      n_labels=uniqueN(label_id)\n",
    "      n_instances=sum(inst_count)\n",
    "    \n",
    "      kick_freq=sum(kick_freq*inst_count)\n",
    "      kick_freq_norm=kick_freq/n_instances\n",
    "    \n",
    "      lvis_freq=sum(lvis_freq*inst_count)\n",
    "      lvis_freq_norm=lvis_freq/n_instances\n",
    "    \n",
    "      abs_freq_diff=abs(sum(kick_freq*inst_count)-sum(lvis_freq*inst_count))\n",
    "      sign_freq_diff=sign(sum(is_kick_more*inst_count))\n",
    "      \n",
    "       \n",
    "      list(n_labels=n_labels, n_instances=n_instances, kick_freq=kick_freq,\n",
    "           kick_freq_norm=kick_freq_norm, lvis_freq=lvis_freq, \n",
    "           lvis_freq_norm=lvis_freq_norm,\n",
    "           abs_freq_diff=abs_freq_diff, sign_freq_diff=sign_freq_diff)\n",
    "      },\n",
    "      keyby=.(pid)]"
   ]
  },
  {
   "cell_type": "code",
   "execution_count": 39,
   "id": "unexpected-attachment",
   "metadata": {
    "scrolled": true
   },
   "outputs": [
    {
     "name": "stdout",
     "output_type": "stream",
     "text": [
      "\"kick_dist\" saved as \"kick_dist.feather\" (47.8 KB) (0 secs, 2021-03-30 19:25:03)\n"
     ]
    },
    {
     "data": {
      "text/html": [
       "<table class=\"dataframe\">\n",
       "<caption>A data.table: 791 × 9</caption>\n",
       "<thead>\n",
       "\t<tr><th scope=col>pid</th><th scope=col>n_labels</th><th scope=col>n_instances</th><th scope=col>kick_freq</th><th scope=col>kick_freq_norm</th><th scope=col>lvis_freq</th><th scope=col>lvis_freq_norm</th><th scope=col>abs_freq_diff</th><th scope=col>sign_freq_diff</th></tr>\n",
       "\t<tr><th scope=col>&lt;chr&gt;</th><th scope=col>&lt;int&gt;</th><th scope=col>&lt;int&gt;</th><th scope=col>&lt;dbl&gt;</th><th scope=col>&lt;dbl&gt;</th><th scope=col>&lt;dbl&gt;</th><th scope=col>&lt;dbl&gt;</th><th scope=col>&lt;dbl&gt;</th><th scope=col>&lt;dbl&gt;</th></tr>\n",
       "</thead>\n",
       "<tbody>\n",
       "\t<tr><td>1000426032</td><td>10</td><td> 18</td><td>0.095407266</td><td>0.005300404</td><td>0.0570949825</td><td>0.0031719435</td><td>6.896211e-01</td><td> 1</td></tr>\n",
       "\t<tr><td>1003704820</td><td>11</td><td> 13</td><td>0.073212716</td><td>0.005631747</td><td>0.0088308741</td><td>0.0006792980</td><td>8.369639e-01</td><td> 1</td></tr>\n",
       "\t<tr><td>1008644427</td><td> 7</td><td> 13</td><td>0.233921770</td><td>0.017993982</td><td>0.0326333468</td><td>0.0025102574</td><td>2.616749e+00</td><td> 1</td></tr>\n",
       "\t<tr><td>1012055917</td><td>31</td><td> 69</td><td>1.161734544</td><td>0.016836733</td><td>0.2376139445</td><td>0.0034436804</td><td>6.376432e+01</td><td> 1</td></tr>\n",
       "\t<tr><td>1013676718</td><td> 6</td><td> 10</td><td>0.088302080</td><td>0.008830208</td><td>0.0295438783</td><td>0.0029543878</td><td>5.875820e-01</td><td> 1</td></tr>\n",
       "\t<tr><td>1018040483</td><td> 1</td><td>  1</td><td>0.003113097</td><td>0.003113097</td><td>0.0002942351</td><td>0.0002942351</td><td>2.818862e-03</td><td> 1</td></tr>\n",
       "\t<tr><td>1018102507</td><td>23</td><td> 52</td><td>0.654006739</td><td>0.012577053</td><td>0.0776016401</td><td>0.0014923392</td><td>2.997307e+01</td><td> 1</td></tr>\n",
       "\t<tr><td>1028008630</td><td>20</td><td> 32</td><td>0.408255201</td><td>0.012757975</td><td>0.0741396012</td><td>0.0023168625</td><td>1.069170e+01</td><td> 1</td></tr>\n",
       "\t<tr><td>1028089348</td><td>15</td><td> 20</td><td>0.090023440</td><td>0.004501172</td><td>0.0296909958</td><td>0.0014845498</td><td>1.206649e+00</td><td> 1</td></tr>\n",
       "\t<tr><td>102828073 </td><td>15</td><td> 42</td><td>0.856760914</td><td>0.020399069</td><td>0.1622725649</td><td>0.0038636325</td><td>2.916851e+01</td><td> 1</td></tr>\n",
       "\t<tr><td>1035856835</td><td>13</td><td> 25</td><td>0.201618810</td><td>0.008064752</td><td>0.0269874721</td><td>0.0010794989</td><td>4.365783e+00</td><td> 1</td></tr>\n",
       "\t<tr><td>1036068984</td><td>20</td><td> 30</td><td>0.307720481</td><td>0.010257349</td><td>0.0395918157</td><td>0.0013197272</td><td>8.043860e+00</td><td> 1</td></tr>\n",
       "\t<tr><td>1039282296</td><td>11</td><td> 17</td><td>0.151259889</td><td>0.008897641</td><td>0.0861803126</td><td>0.0050694302</td><td>1.106353e+00</td><td>-1</td></tr>\n",
       "\t<tr><td>1041111863</td><td>16</td><td> 23</td><td>0.091708175</td><td>0.003987312</td><td>0.0043065318</td><td>0.0001872405</td><td>2.010238e+00</td><td> 1</td></tr>\n",
       "\t<tr><td>1041880097</td><td> 5</td><td>  6</td><td>0.016151480</td><td>0.002691913</td><td>0.0310284281</td><td>0.0051714047</td><td>8.926169e-02</td><td>-1</td></tr>\n",
       "\t<tr><td>1046763454</td><td>16</td><td> 30</td><td>0.586946967</td><td>0.019564899</td><td>0.0537666869</td><td>0.0017922229</td><td>1.599541e+01</td><td> 1</td></tr>\n",
       "\t<tr><td>1046797281</td><td> 1</td><td>  1</td><td>0.001355113</td><td>0.001355113</td><td>0.0001528494</td><td>0.0001528494</td><td>1.202263e-03</td><td> 1</td></tr>\n",
       "\t<tr><td>1048820311</td><td> 6</td><td>  9</td><td>0.071637855</td><td>0.007959762</td><td>0.0020118802</td><td>0.0002235422</td><td>6.266338e-01</td><td> 1</td></tr>\n",
       "\t<tr><td>1049169155</td><td> 2</td><td>  5</td><td>0.130969821</td><td>0.026193964</td><td>0.0070368042</td><td>0.0014073608</td><td>6.196651e-01</td><td> 1</td></tr>\n",
       "\t<tr><td>105048635 </td><td>26</td><td> 53</td><td>0.598556988</td><td>0.011293528</td><td>0.0623606443</td><td>0.0011766159</td><td>2.841841e+01</td><td> 1</td></tr>\n",
       "\t<tr><td>1051619742</td><td>14</td><td> 39</td><td>0.205244653</td><td>0.005262683</td><td>0.0363380341</td><td>0.0009317445</td><td>6.587358e+00</td><td> 1</td></tr>\n",
       "\t<tr><td>1051758499</td><td>26</td><td> 59</td><td>0.543253736</td><td>0.009207690</td><td>0.0652494980</td><td>0.0011059237</td><td>2.820225e+01</td><td> 1</td></tr>\n",
       "\t<tr><td>1051858659</td><td>28</td><td> 40</td><td>0.330647524</td><td>0.008266188</td><td>0.0827335587</td><td>0.0020683390</td><td>9.916559e+00</td><td> 1</td></tr>\n",
       "\t<tr><td>1052995092</td><td>26</td><td> 66</td><td>1.288712277</td><td>0.019525944</td><td>0.1805972972</td><td>0.0027363227</td><td>7.313559e+01</td><td> 1</td></tr>\n",
       "\t<tr><td>1053266942</td><td>21</td><td> 34</td><td>0.173857310</td><td>0.005113450</td><td>0.0583712750</td><td>0.0017168022</td><td>3.926525e+00</td><td> 1</td></tr>\n",
       "\t<tr><td>1057476782</td><td> 9</td><td> 16</td><td>0.336873718</td><td>0.021054607</td><td>0.0379314891</td><td>0.0023707181</td><td>4.783076e+00</td><td> 1</td></tr>\n",
       "\t<tr><td>1057706074</td><td>34</td><td> 98</td><td>0.615843832</td><td>0.006284121</td><td>0.2216793946</td><td>0.0022620346</td><td>3.862811e+01</td><td> 1</td></tr>\n",
       "\t<tr><td>1060111198</td><td>26</td><td>103</td><td>2.678581893</td><td>0.026005649</td><td>0.1500675403</td><td>0.0014569664</td><td>2.604370e+02</td><td> 1</td></tr>\n",
       "\t<tr><td>1062590152</td><td>13</td><td> 45</td><td>1.680046880</td><td>0.037334375</td><td>0.0530521159</td><td>0.0011789359</td><td>7.321476e+01</td><td> 1</td></tr>\n",
       "\t<tr><td>1062882819</td><td> 8</td><td> 44</td><td>0.070539115</td><td>0.001603162</td><td>0.2133013369</td><td>0.0048477577</td><td>6.281538e+00</td><td> 1</td></tr>\n",
       "\t<tr><td>⋮</td><td>⋮</td><td>⋮</td><td>⋮</td><td>⋮</td><td>⋮</td><td>⋮</td><td>⋮</td><td>⋮</td></tr>\n",
       "\t<tr><td>911808750</td><td> 6</td><td>  6</td><td>0.056511866</td><td>0.009418644</td><td>9.415523e-03</td><td>1.569254e-03</td><td>2.825781e-01</td><td> 1</td></tr>\n",
       "\t<tr><td>912718247</td><td> 1</td><td>  1</td><td>0.005713449</td><td>0.005713449</td><td>3.056988e-05</td><td>3.056988e-05</td><td>5.682879e-03</td><td> 1</td></tr>\n",
       "\t<tr><td>91340786 </td><td>33</td><td> 91</td><td>1.439422795</td><td>0.015817833</td><td>1.073500e-01</td><td>1.179670e-03</td><td>1.212186e+02</td><td> 1</td></tr>\n",
       "\t<tr><td>913549659</td><td>41</td><td> 98</td><td>1.430632874</td><td>0.014598295</td><td>3.043633e-01</td><td>3.105748e-03</td><td>1.103744e+02</td><td> 1</td></tr>\n",
       "\t<tr><td>916820303</td><td>27</td><td>141</td><td>3.843722531</td><td>0.027260443</td><td>1.410513e-01</td><td>1.000364e-03</td><td>5.220766e+02</td><td> 1</td></tr>\n",
       "\t<tr><td>922328660</td><td>29</td><td> 82</td><td>0.634998535</td><td>0.007743885</td><td>4.999513e-02</td><td>6.096967e-04</td><td>4.797028e+01</td><td> 1</td></tr>\n",
       "\t<tr><td>927308326</td><td> 7</td><td> 13</td><td>0.043546733</td><td>0.003349749</td><td>1.015875e-02</td><td>7.814426e-04</td><td>4.340437e-01</td><td> 1</td></tr>\n",
       "\t<tr><td>931442406</td><td>24</td><td> 63</td><td>0.585884852</td><td>0.009299760</td><td>9.657789e-02</td><td>1.532982e-03</td><td>3.082634e+01</td><td> 1</td></tr>\n",
       "\t<tr><td>936841841</td><td>10</td><td> 16</td><td>0.129797832</td><td>0.008112364</td><td>3.474840e-02</td><td>2.171775e-03</td><td>1.520791e+00</td><td> 1</td></tr>\n",
       "\t<tr><td>941262729</td><td>83</td><td>301</td><td>3.997729270</td><td>0.013281493</td><td>8.152261e-01</td><td>2.708392e-03</td><td>9.579335e+02</td><td> 1</td></tr>\n",
       "\t<tr><td>943226793</td><td>21</td><td> 50</td><td>0.514906241</td><td>0.010298125</td><td>1.356233e-01</td><td>2.712465e-03</td><td>1.896415e+01</td><td> 1</td></tr>\n",
       "\t<tr><td>943456689</td><td>15</td><td> 56</td><td>0.226047466</td><td>0.004036562</td><td>3.061535e-01</td><td>5.467027e-03</td><td>4.485939e+00</td><td> 1</td></tr>\n",
       "\t<tr><td>94500682 </td><td> 2</td><td>  2</td><td>0.020509815</td><td>0.010254908</td><td>1.891511e-03</td><td>9.457557e-04</td><td>3.723661e-02</td><td> 1</td></tr>\n",
       "\t<tr><td>948487094</td><td>12</td><td> 35</td><td>0.336287723</td><td>0.009608221</td><td>2.469473e-02</td><td>7.055637e-04</td><td>1.090575e+01</td><td> 1</td></tr>\n",
       "\t<tr><td>949655843</td><td>14</td><td> 26</td><td>0.143458834</td><td>0.005517647</td><td>4.327549e-02</td><td>1.664442e-03</td><td>2.604767e+00</td><td> 1</td></tr>\n",
       "\t<tr><td>958798714</td><td>11</td><td> 25</td><td>0.234837386</td><td>0.009393495</td><td>1.584093e-02</td><td>6.336372e-04</td><td>5.474911e+00</td><td> 1</td></tr>\n",
       "\t<tr><td>960013523</td><td>33</td><td>103</td><td>0.549186932</td><td>0.005331912</td><td>1.062819e-01</td><td>1.031863e-03</td><td>4.561922e+01</td><td> 1</td></tr>\n",
       "\t<tr><td>961962090</td><td>11</td><td> 18</td><td>0.199238207</td><td>0.011068789</td><td>1.083817e-01</td><td>6.021205e-03</td><td>1.635417e+00</td><td> 1</td></tr>\n",
       "\t<tr><td>963693326</td><td>18</td><td> 38</td><td>0.329292411</td><td>0.008665590</td><td>5.917373e-02</td><td>1.557204e-03</td><td>1.026451e+01</td><td> 1</td></tr>\n",
       "\t<tr><td>965466197</td><td> 8</td><td> 12</td><td>0.108262526</td><td>0.009021877</td><td>6.316501e-03</td><td>5.263751e-04</td><td>1.223352e+00</td><td> 1</td></tr>\n",
       "\t<tr><td>973425568</td><td>13</td><td> 36</td><td>0.360423381</td><td>0.010011761</td><td>5.626195e-02</td><td>1.562832e-03</td><td>1.094981e+01</td><td> 1</td></tr>\n",
       "\t<tr><td>973454982</td><td>13</td><td> 23</td><td>0.102256080</td><td>0.004445917</td><td>8.510272e-02</td><td>3.700118e-03</td><td>3.945272e-01</td><td> 1</td></tr>\n",
       "\t<tr><td>977006758</td><td>11</td><td> 26</td><td>0.341415177</td><td>0.013131353</td><td>2.739825e-02</td><td>1.053779e-03</td><td>8.164440e+00</td><td> 1</td></tr>\n",
       "\t<tr><td>978046606</td><td> 1</td><td>  1</td><td>0.003259596</td><td>0.003259596</td><td>4.168967e-03</td><td>4.168967e-03</td><td>9.093717e-04</td><td>-1</td></tr>\n",
       "\t<tr><td>98138658 </td><td>11</td><td> 22</td><td>0.375622619</td><td>0.017073755</td><td>6.845934e-02</td><td>3.111788e-03</td><td>6.757592e+00</td><td> 1</td></tr>\n",
       "\t<tr><td>982112698</td><td> 9</td><td> 21</td><td>0.115331087</td><td>0.005491957</td><td>4.540009e-02</td><td>2.161909e-03</td><td>1.468551e+00</td><td> 1</td></tr>\n",
       "\t<tr><td>984026754</td><td>13</td><td> 98</td><td>0.755273953</td><td>0.007706877</td><td>7.377849e-02</td><td>7.528418e-04</td><td>6.678655e+01</td><td> 1</td></tr>\n",
       "\t<tr><td>98642816 </td><td>11</td><td> 17</td><td>0.154629358</td><td>0.009095845</td><td>2.003474e-02</td><td>1.178514e-03</td><td>2.288109e+00</td><td> 1</td></tr>\n",
       "\t<tr><td>986550836</td><td> 8</td><td>  9</td><td>0.031900088</td><td>0.003544454</td><td>1.175603e-02</td><td>1.306225e-03</td><td>1.812965e-01</td><td> 1</td></tr>\n",
       "\t<tr><td>999884872</td><td>20</td><td> 45</td><td>0.306841488</td><td>0.006818700</td><td>4.465304e-02</td><td>9.922898e-04</td><td>1.179848e+01</td><td> 1</td></tr>\n",
       "</tbody>\n",
       "</table>\n"
      ],
      "text/latex": [
       "A data.table: 791 × 9\n",
       "\\begin{tabular}{lllllllll}\n",
       " pid & n\\_labels & n\\_instances & kick\\_freq & kick\\_freq\\_norm & lvis\\_freq & lvis\\_freq\\_norm & abs\\_freq\\_diff & sign\\_freq\\_diff\\\\\n",
       " <chr> & <int> & <int> & <dbl> & <dbl> & <dbl> & <dbl> & <dbl> & <dbl>\\\\\n",
       "\\hline\n",
       "\t 1000426032 & 10 &  18 & 0.095407266 & 0.005300404 & 0.0570949825 & 0.0031719435 & 6.896211e-01 &  1\\\\\n",
       "\t 1003704820 & 11 &  13 & 0.073212716 & 0.005631747 & 0.0088308741 & 0.0006792980 & 8.369639e-01 &  1\\\\\n",
       "\t 1008644427 &  7 &  13 & 0.233921770 & 0.017993982 & 0.0326333468 & 0.0025102574 & 2.616749e+00 &  1\\\\\n",
       "\t 1012055917 & 31 &  69 & 1.161734544 & 0.016836733 & 0.2376139445 & 0.0034436804 & 6.376432e+01 &  1\\\\\n",
       "\t 1013676718 &  6 &  10 & 0.088302080 & 0.008830208 & 0.0295438783 & 0.0029543878 & 5.875820e-01 &  1\\\\\n",
       "\t 1018040483 &  1 &   1 & 0.003113097 & 0.003113097 & 0.0002942351 & 0.0002942351 & 2.818862e-03 &  1\\\\\n",
       "\t 1018102507 & 23 &  52 & 0.654006739 & 0.012577053 & 0.0776016401 & 0.0014923392 & 2.997307e+01 &  1\\\\\n",
       "\t 1028008630 & 20 &  32 & 0.408255201 & 0.012757975 & 0.0741396012 & 0.0023168625 & 1.069170e+01 &  1\\\\\n",
       "\t 1028089348 & 15 &  20 & 0.090023440 & 0.004501172 & 0.0296909958 & 0.0014845498 & 1.206649e+00 &  1\\\\\n",
       "\t 102828073  & 15 &  42 & 0.856760914 & 0.020399069 & 0.1622725649 & 0.0038636325 & 2.916851e+01 &  1\\\\\n",
       "\t 1035856835 & 13 &  25 & 0.201618810 & 0.008064752 & 0.0269874721 & 0.0010794989 & 4.365783e+00 &  1\\\\\n",
       "\t 1036068984 & 20 &  30 & 0.307720481 & 0.010257349 & 0.0395918157 & 0.0013197272 & 8.043860e+00 &  1\\\\\n",
       "\t 1039282296 & 11 &  17 & 0.151259889 & 0.008897641 & 0.0861803126 & 0.0050694302 & 1.106353e+00 & -1\\\\\n",
       "\t 1041111863 & 16 &  23 & 0.091708175 & 0.003987312 & 0.0043065318 & 0.0001872405 & 2.010238e+00 &  1\\\\\n",
       "\t 1041880097 &  5 &   6 & 0.016151480 & 0.002691913 & 0.0310284281 & 0.0051714047 & 8.926169e-02 & -1\\\\\n",
       "\t 1046763454 & 16 &  30 & 0.586946967 & 0.019564899 & 0.0537666869 & 0.0017922229 & 1.599541e+01 &  1\\\\\n",
       "\t 1046797281 &  1 &   1 & 0.001355113 & 0.001355113 & 0.0001528494 & 0.0001528494 & 1.202263e-03 &  1\\\\\n",
       "\t 1048820311 &  6 &   9 & 0.071637855 & 0.007959762 & 0.0020118802 & 0.0002235422 & 6.266338e-01 &  1\\\\\n",
       "\t 1049169155 &  2 &   5 & 0.130969821 & 0.026193964 & 0.0070368042 & 0.0014073608 & 6.196651e-01 &  1\\\\\n",
       "\t 105048635  & 26 &  53 & 0.598556988 & 0.011293528 & 0.0623606443 & 0.0011766159 & 2.841841e+01 &  1\\\\\n",
       "\t 1051619742 & 14 &  39 & 0.205244653 & 0.005262683 & 0.0363380341 & 0.0009317445 & 6.587358e+00 &  1\\\\\n",
       "\t 1051758499 & 26 &  59 & 0.543253736 & 0.009207690 & 0.0652494980 & 0.0011059237 & 2.820225e+01 &  1\\\\\n",
       "\t 1051858659 & 28 &  40 & 0.330647524 & 0.008266188 & 0.0827335587 & 0.0020683390 & 9.916559e+00 &  1\\\\\n",
       "\t 1052995092 & 26 &  66 & 1.288712277 & 0.019525944 & 0.1805972972 & 0.0027363227 & 7.313559e+01 &  1\\\\\n",
       "\t 1053266942 & 21 &  34 & 0.173857310 & 0.005113450 & 0.0583712750 & 0.0017168022 & 3.926525e+00 &  1\\\\\n",
       "\t 1057476782 &  9 &  16 & 0.336873718 & 0.021054607 & 0.0379314891 & 0.0023707181 & 4.783076e+00 &  1\\\\\n",
       "\t 1057706074 & 34 &  98 & 0.615843832 & 0.006284121 & 0.2216793946 & 0.0022620346 & 3.862811e+01 &  1\\\\\n",
       "\t 1060111198 & 26 & 103 & 2.678581893 & 0.026005649 & 0.1500675403 & 0.0014569664 & 2.604370e+02 &  1\\\\\n",
       "\t 1062590152 & 13 &  45 & 1.680046880 & 0.037334375 & 0.0530521159 & 0.0011789359 & 7.321476e+01 &  1\\\\\n",
       "\t 1062882819 &  8 &  44 & 0.070539115 & 0.001603162 & 0.2133013369 & 0.0048477577 & 6.281538e+00 &  1\\\\\n",
       "\t ⋮ & ⋮ & ⋮ & ⋮ & ⋮ & ⋮ & ⋮ & ⋮ & ⋮\\\\\n",
       "\t 911808750 &  6 &   6 & 0.056511866 & 0.009418644 & 9.415523e-03 & 1.569254e-03 & 2.825781e-01 &  1\\\\\n",
       "\t 912718247 &  1 &   1 & 0.005713449 & 0.005713449 & 3.056988e-05 & 3.056988e-05 & 5.682879e-03 &  1\\\\\n",
       "\t 91340786  & 33 &  91 & 1.439422795 & 0.015817833 & 1.073500e-01 & 1.179670e-03 & 1.212186e+02 &  1\\\\\n",
       "\t 913549659 & 41 &  98 & 1.430632874 & 0.014598295 & 3.043633e-01 & 3.105748e-03 & 1.103744e+02 &  1\\\\\n",
       "\t 916820303 & 27 & 141 & 3.843722531 & 0.027260443 & 1.410513e-01 & 1.000364e-03 & 5.220766e+02 &  1\\\\\n",
       "\t 922328660 & 29 &  82 & 0.634998535 & 0.007743885 & 4.999513e-02 & 6.096967e-04 & 4.797028e+01 &  1\\\\\n",
       "\t 927308326 &  7 &  13 & 0.043546733 & 0.003349749 & 1.015875e-02 & 7.814426e-04 & 4.340437e-01 &  1\\\\\n",
       "\t 931442406 & 24 &  63 & 0.585884852 & 0.009299760 & 9.657789e-02 & 1.532982e-03 & 3.082634e+01 &  1\\\\\n",
       "\t 936841841 & 10 &  16 & 0.129797832 & 0.008112364 & 3.474840e-02 & 2.171775e-03 & 1.520791e+00 &  1\\\\\n",
       "\t 941262729 & 83 & 301 & 3.997729270 & 0.013281493 & 8.152261e-01 & 2.708392e-03 & 9.579335e+02 &  1\\\\\n",
       "\t 943226793 & 21 &  50 & 0.514906241 & 0.010298125 & 1.356233e-01 & 2.712465e-03 & 1.896415e+01 &  1\\\\\n",
       "\t 943456689 & 15 &  56 & 0.226047466 & 0.004036562 & 3.061535e-01 & 5.467027e-03 & 4.485939e+00 &  1\\\\\n",
       "\t 94500682  &  2 &   2 & 0.020509815 & 0.010254908 & 1.891511e-03 & 9.457557e-04 & 3.723661e-02 &  1\\\\\n",
       "\t 948487094 & 12 &  35 & 0.336287723 & 0.009608221 & 2.469473e-02 & 7.055637e-04 & 1.090575e+01 &  1\\\\\n",
       "\t 949655843 & 14 &  26 & 0.143458834 & 0.005517647 & 4.327549e-02 & 1.664442e-03 & 2.604767e+00 &  1\\\\\n",
       "\t 958798714 & 11 &  25 & 0.234837386 & 0.009393495 & 1.584093e-02 & 6.336372e-04 & 5.474911e+00 &  1\\\\\n",
       "\t 960013523 & 33 & 103 & 0.549186932 & 0.005331912 & 1.062819e-01 & 1.031863e-03 & 4.561922e+01 &  1\\\\\n",
       "\t 961962090 & 11 &  18 & 0.199238207 & 0.011068789 & 1.083817e-01 & 6.021205e-03 & 1.635417e+00 &  1\\\\\n",
       "\t 963693326 & 18 &  38 & 0.329292411 & 0.008665590 & 5.917373e-02 & 1.557204e-03 & 1.026451e+01 &  1\\\\\n",
       "\t 965466197 &  8 &  12 & 0.108262526 & 0.009021877 & 6.316501e-03 & 5.263751e-04 & 1.223352e+00 &  1\\\\\n",
       "\t 973425568 & 13 &  36 & 0.360423381 & 0.010011761 & 5.626195e-02 & 1.562832e-03 & 1.094981e+01 &  1\\\\\n",
       "\t 973454982 & 13 &  23 & 0.102256080 & 0.004445917 & 8.510272e-02 & 3.700118e-03 & 3.945272e-01 &  1\\\\\n",
       "\t 977006758 & 11 &  26 & 0.341415177 & 0.013131353 & 2.739825e-02 & 1.053779e-03 & 8.164440e+00 &  1\\\\\n",
       "\t 978046606 &  1 &   1 & 0.003259596 & 0.003259596 & 4.168967e-03 & 4.168967e-03 & 9.093717e-04 & -1\\\\\n",
       "\t 98138658  & 11 &  22 & 0.375622619 & 0.017073755 & 6.845934e-02 & 3.111788e-03 & 6.757592e+00 &  1\\\\\n",
       "\t 982112698 &  9 &  21 & 0.115331087 & 0.005491957 & 4.540009e-02 & 2.161909e-03 & 1.468551e+00 &  1\\\\\n",
       "\t 984026754 & 13 &  98 & 0.755273953 & 0.007706877 & 7.377849e-02 & 7.528418e-04 & 6.678655e+01 &  1\\\\\n",
       "\t 98642816  & 11 &  17 & 0.154629358 & 0.009095845 & 2.003474e-02 & 1.178514e-03 & 2.288109e+00 &  1\\\\\n",
       "\t 986550836 &  8 &   9 & 0.031900088 & 0.003544454 & 1.175603e-02 & 1.306225e-03 & 1.812965e-01 &  1\\\\\n",
       "\t 999884872 & 20 &  45 & 0.306841488 & 0.006818700 & 4.465304e-02 & 9.922898e-04 & 1.179848e+01 &  1\\\\\n",
       "\\end{tabular}\n"
      ],
      "text/markdown": [
       "\n",
       "A data.table: 791 × 9\n",
       "\n",
       "| pid &lt;chr&gt; | n_labels &lt;int&gt; | n_instances &lt;int&gt; | kick_freq &lt;dbl&gt; | kick_freq_norm &lt;dbl&gt; | lvis_freq &lt;dbl&gt; | lvis_freq_norm &lt;dbl&gt; | abs_freq_diff &lt;dbl&gt; | sign_freq_diff &lt;dbl&gt; |\n",
       "|---|---|---|---|---|---|---|---|---|\n",
       "| 1000426032 | 10 |  18 | 0.095407266 | 0.005300404 | 0.0570949825 | 0.0031719435 | 6.896211e-01 |  1 |\n",
       "| 1003704820 | 11 |  13 | 0.073212716 | 0.005631747 | 0.0088308741 | 0.0006792980 | 8.369639e-01 |  1 |\n",
       "| 1008644427 |  7 |  13 | 0.233921770 | 0.017993982 | 0.0326333468 | 0.0025102574 | 2.616749e+00 |  1 |\n",
       "| 1012055917 | 31 |  69 | 1.161734544 | 0.016836733 | 0.2376139445 | 0.0034436804 | 6.376432e+01 |  1 |\n",
       "| 1013676718 |  6 |  10 | 0.088302080 | 0.008830208 | 0.0295438783 | 0.0029543878 | 5.875820e-01 |  1 |\n",
       "| 1018040483 |  1 |   1 | 0.003113097 | 0.003113097 | 0.0002942351 | 0.0002942351 | 2.818862e-03 |  1 |\n",
       "| 1018102507 | 23 |  52 | 0.654006739 | 0.012577053 | 0.0776016401 | 0.0014923392 | 2.997307e+01 |  1 |\n",
       "| 1028008630 | 20 |  32 | 0.408255201 | 0.012757975 | 0.0741396012 | 0.0023168625 | 1.069170e+01 |  1 |\n",
       "| 1028089348 | 15 |  20 | 0.090023440 | 0.004501172 | 0.0296909958 | 0.0014845498 | 1.206649e+00 |  1 |\n",
       "| 102828073  | 15 |  42 | 0.856760914 | 0.020399069 | 0.1622725649 | 0.0038636325 | 2.916851e+01 |  1 |\n",
       "| 1035856835 | 13 |  25 | 0.201618810 | 0.008064752 | 0.0269874721 | 0.0010794989 | 4.365783e+00 |  1 |\n",
       "| 1036068984 | 20 |  30 | 0.307720481 | 0.010257349 | 0.0395918157 | 0.0013197272 | 8.043860e+00 |  1 |\n",
       "| 1039282296 | 11 |  17 | 0.151259889 | 0.008897641 | 0.0861803126 | 0.0050694302 | 1.106353e+00 | -1 |\n",
       "| 1041111863 | 16 |  23 | 0.091708175 | 0.003987312 | 0.0043065318 | 0.0001872405 | 2.010238e+00 |  1 |\n",
       "| 1041880097 |  5 |   6 | 0.016151480 | 0.002691913 | 0.0310284281 | 0.0051714047 | 8.926169e-02 | -1 |\n",
       "| 1046763454 | 16 |  30 | 0.586946967 | 0.019564899 | 0.0537666869 | 0.0017922229 | 1.599541e+01 |  1 |\n",
       "| 1046797281 |  1 |   1 | 0.001355113 | 0.001355113 | 0.0001528494 | 0.0001528494 | 1.202263e-03 |  1 |\n",
       "| 1048820311 |  6 |   9 | 0.071637855 | 0.007959762 | 0.0020118802 | 0.0002235422 | 6.266338e-01 |  1 |\n",
       "| 1049169155 |  2 |   5 | 0.130969821 | 0.026193964 | 0.0070368042 | 0.0014073608 | 6.196651e-01 |  1 |\n",
       "| 105048635  | 26 |  53 | 0.598556988 | 0.011293528 | 0.0623606443 | 0.0011766159 | 2.841841e+01 |  1 |\n",
       "| 1051619742 | 14 |  39 | 0.205244653 | 0.005262683 | 0.0363380341 | 0.0009317445 | 6.587358e+00 |  1 |\n",
       "| 1051758499 | 26 |  59 | 0.543253736 | 0.009207690 | 0.0652494980 | 0.0011059237 | 2.820225e+01 |  1 |\n",
       "| 1051858659 | 28 |  40 | 0.330647524 | 0.008266188 | 0.0827335587 | 0.0020683390 | 9.916559e+00 |  1 |\n",
       "| 1052995092 | 26 |  66 | 1.288712277 | 0.019525944 | 0.1805972972 | 0.0027363227 | 7.313559e+01 |  1 |\n",
       "| 1053266942 | 21 |  34 | 0.173857310 | 0.005113450 | 0.0583712750 | 0.0017168022 | 3.926525e+00 |  1 |\n",
       "| 1057476782 |  9 |  16 | 0.336873718 | 0.021054607 | 0.0379314891 | 0.0023707181 | 4.783076e+00 |  1 |\n",
       "| 1057706074 | 34 |  98 | 0.615843832 | 0.006284121 | 0.2216793946 | 0.0022620346 | 3.862811e+01 |  1 |\n",
       "| 1060111198 | 26 | 103 | 2.678581893 | 0.026005649 | 0.1500675403 | 0.0014569664 | 2.604370e+02 |  1 |\n",
       "| 1062590152 | 13 |  45 | 1.680046880 | 0.037334375 | 0.0530521159 | 0.0011789359 | 7.321476e+01 |  1 |\n",
       "| 1062882819 |  8 |  44 | 0.070539115 | 0.001603162 | 0.2133013369 | 0.0048477577 | 6.281538e+00 |  1 |\n",
       "| ⋮ | ⋮ | ⋮ | ⋮ | ⋮ | ⋮ | ⋮ | ⋮ | ⋮ |\n",
       "| 911808750 |  6 |   6 | 0.056511866 | 0.009418644 | 9.415523e-03 | 1.569254e-03 | 2.825781e-01 |  1 |\n",
       "| 912718247 |  1 |   1 | 0.005713449 | 0.005713449 | 3.056988e-05 | 3.056988e-05 | 5.682879e-03 |  1 |\n",
       "| 91340786  | 33 |  91 | 1.439422795 | 0.015817833 | 1.073500e-01 | 1.179670e-03 | 1.212186e+02 |  1 |\n",
       "| 913549659 | 41 |  98 | 1.430632874 | 0.014598295 | 3.043633e-01 | 3.105748e-03 | 1.103744e+02 |  1 |\n",
       "| 916820303 | 27 | 141 | 3.843722531 | 0.027260443 | 1.410513e-01 | 1.000364e-03 | 5.220766e+02 |  1 |\n",
       "| 922328660 | 29 |  82 | 0.634998535 | 0.007743885 | 4.999513e-02 | 6.096967e-04 | 4.797028e+01 |  1 |\n",
       "| 927308326 |  7 |  13 | 0.043546733 | 0.003349749 | 1.015875e-02 | 7.814426e-04 | 4.340437e-01 |  1 |\n",
       "| 931442406 | 24 |  63 | 0.585884852 | 0.009299760 | 9.657789e-02 | 1.532982e-03 | 3.082634e+01 |  1 |\n",
       "| 936841841 | 10 |  16 | 0.129797832 | 0.008112364 | 3.474840e-02 | 2.171775e-03 | 1.520791e+00 |  1 |\n",
       "| 941262729 | 83 | 301 | 3.997729270 | 0.013281493 | 8.152261e-01 | 2.708392e-03 | 9.579335e+02 |  1 |\n",
       "| 943226793 | 21 |  50 | 0.514906241 | 0.010298125 | 1.356233e-01 | 2.712465e-03 | 1.896415e+01 |  1 |\n",
       "| 943456689 | 15 |  56 | 0.226047466 | 0.004036562 | 3.061535e-01 | 5.467027e-03 | 4.485939e+00 |  1 |\n",
       "| 94500682  |  2 |   2 | 0.020509815 | 0.010254908 | 1.891511e-03 | 9.457557e-04 | 3.723661e-02 |  1 |\n",
       "| 948487094 | 12 |  35 | 0.336287723 | 0.009608221 | 2.469473e-02 | 7.055637e-04 | 1.090575e+01 |  1 |\n",
       "| 949655843 | 14 |  26 | 0.143458834 | 0.005517647 | 4.327549e-02 | 1.664442e-03 | 2.604767e+00 |  1 |\n",
       "| 958798714 | 11 |  25 | 0.234837386 | 0.009393495 | 1.584093e-02 | 6.336372e-04 | 5.474911e+00 |  1 |\n",
       "| 960013523 | 33 | 103 | 0.549186932 | 0.005331912 | 1.062819e-01 | 1.031863e-03 | 4.561922e+01 |  1 |\n",
       "| 961962090 | 11 |  18 | 0.199238207 | 0.011068789 | 1.083817e-01 | 6.021205e-03 | 1.635417e+00 |  1 |\n",
       "| 963693326 | 18 |  38 | 0.329292411 | 0.008665590 | 5.917373e-02 | 1.557204e-03 | 1.026451e+01 |  1 |\n",
       "| 965466197 |  8 |  12 | 0.108262526 | 0.009021877 | 6.316501e-03 | 5.263751e-04 | 1.223352e+00 |  1 |\n",
       "| 973425568 | 13 |  36 | 0.360423381 | 0.010011761 | 5.626195e-02 | 1.562832e-03 | 1.094981e+01 |  1 |\n",
       "| 973454982 | 13 |  23 | 0.102256080 | 0.004445917 | 8.510272e-02 | 3.700118e-03 | 3.945272e-01 |  1 |\n",
       "| 977006758 | 11 |  26 | 0.341415177 | 0.013131353 | 2.739825e-02 | 1.053779e-03 | 8.164440e+00 |  1 |\n",
       "| 978046606 |  1 |   1 | 0.003259596 | 0.003259596 | 4.168967e-03 | 4.168967e-03 | 9.093717e-04 | -1 |\n",
       "| 98138658  | 11 |  22 | 0.375622619 | 0.017073755 | 6.845934e-02 | 3.111788e-03 | 6.757592e+00 |  1 |\n",
       "| 982112698 |  9 |  21 | 0.115331087 | 0.005491957 | 4.540009e-02 | 2.161909e-03 | 1.468551e+00 |  1 |\n",
       "| 984026754 | 13 |  98 | 0.755273953 | 0.007706877 | 7.377849e-02 | 7.528418e-04 | 6.678655e+01 |  1 |\n",
       "| 98642816  | 11 |  17 | 0.154629358 | 0.009095845 | 2.003474e-02 | 1.178514e-03 | 2.288109e+00 |  1 |\n",
       "| 986550836 |  8 |   9 | 0.031900088 | 0.003544454 | 1.175603e-02 | 1.306225e-03 | 1.812965e-01 |  1 |\n",
       "| 999884872 | 20 |  45 | 0.306841488 | 0.006818700 | 4.465304e-02 | 9.922898e-04 | 1.179848e+01 |  1 |\n",
       "\n"
      ],
      "text/plain": [
       "       pid        n_labels n_instances kick_freq   kick_freq_norm lvis_freq   \n",
       "1      1000426032 10        18         0.095407266 0.005300404    0.0570949825\n",
       "2      1003704820 11        13         0.073212716 0.005631747    0.0088308741\n",
       "3      1008644427  7        13         0.233921770 0.017993982    0.0326333468\n",
       "4      1012055917 31        69         1.161734544 0.016836733    0.2376139445\n",
       "5      1013676718  6        10         0.088302080 0.008830208    0.0295438783\n",
       "6      1018040483  1         1         0.003113097 0.003113097    0.0002942351\n",
       "7      1018102507 23        52         0.654006739 0.012577053    0.0776016401\n",
       "8      1028008630 20        32         0.408255201 0.012757975    0.0741396012\n",
       "9      1028089348 15        20         0.090023440 0.004501172    0.0296909958\n",
       "10     102828073  15        42         0.856760914 0.020399069    0.1622725649\n",
       "11     1035856835 13        25         0.201618810 0.008064752    0.0269874721\n",
       "12     1036068984 20        30         0.307720481 0.010257349    0.0395918157\n",
       "13     1039282296 11        17         0.151259889 0.008897641    0.0861803126\n",
       "14     1041111863 16        23         0.091708175 0.003987312    0.0043065318\n",
       "15     1041880097  5         6         0.016151480 0.002691913    0.0310284281\n",
       "16     1046763454 16        30         0.586946967 0.019564899    0.0537666869\n",
       "17     1046797281  1         1         0.001355113 0.001355113    0.0001528494\n",
       "18     1048820311  6         9         0.071637855 0.007959762    0.0020118802\n",
       "19     1049169155  2         5         0.130969821 0.026193964    0.0070368042\n",
       "20     105048635  26        53         0.598556988 0.011293528    0.0623606443\n",
       "21     1051619742 14        39         0.205244653 0.005262683    0.0363380341\n",
       "22     1051758499 26        59         0.543253736 0.009207690    0.0652494980\n",
       "23     1051858659 28        40         0.330647524 0.008266188    0.0827335587\n",
       "24     1052995092 26        66         1.288712277 0.019525944    0.1805972972\n",
       "25     1053266942 21        34         0.173857310 0.005113450    0.0583712750\n",
       "26     1057476782  9        16         0.336873718 0.021054607    0.0379314891\n",
       "27     1057706074 34        98         0.615843832 0.006284121    0.2216793946\n",
       "28     1060111198 26       103         2.678581893 0.026005649    0.1500675403\n",
       "29     1062590152 13        45         1.680046880 0.037334375    0.0530521159\n",
       "30     1062882819  8        44         0.070539115 0.001603162    0.2133013369\n",
       "<U+22EE> <U+22EE>   <U+22EE> <U+22EE>    <U+22EE>    <U+22EE>       <U+22EE>    \n",
       "762    911808750   6         6         0.056511866 0.009418644    9.415523e-03\n",
       "763    912718247   1         1         0.005713449 0.005713449    3.056988e-05\n",
       "764    91340786   33        91         1.439422795 0.015817833    1.073500e-01\n",
       "765    913549659  41        98         1.430632874 0.014598295    3.043633e-01\n",
       "766    916820303  27       141         3.843722531 0.027260443    1.410513e-01\n",
       "767    922328660  29        82         0.634998535 0.007743885    4.999513e-02\n",
       "768    927308326   7        13         0.043546733 0.003349749    1.015875e-02\n",
       "769    931442406  24        63         0.585884852 0.009299760    9.657789e-02\n",
       "770    936841841  10        16         0.129797832 0.008112364    3.474840e-02\n",
       "771    941262729  83       301         3.997729270 0.013281493    8.152261e-01\n",
       "772    943226793  21        50         0.514906241 0.010298125    1.356233e-01\n",
       "773    943456689  15        56         0.226047466 0.004036562    3.061535e-01\n",
       "774    94500682    2         2         0.020509815 0.010254908    1.891511e-03\n",
       "775    948487094  12        35         0.336287723 0.009608221    2.469473e-02\n",
       "776    949655843  14        26         0.143458834 0.005517647    4.327549e-02\n",
       "777    958798714  11        25         0.234837386 0.009393495    1.584093e-02\n",
       "778    960013523  33       103         0.549186932 0.005331912    1.062819e-01\n",
       "779    961962090  11        18         0.199238207 0.011068789    1.083817e-01\n",
       "780    963693326  18        38         0.329292411 0.008665590    5.917373e-02\n",
       "781    965466197   8        12         0.108262526 0.009021877    6.316501e-03\n",
       "782    973425568  13        36         0.360423381 0.010011761    5.626195e-02\n",
       "783    973454982  13        23         0.102256080 0.004445917    8.510272e-02\n",
       "784    977006758  11        26         0.341415177 0.013131353    2.739825e-02\n",
       "785    978046606   1         1         0.003259596 0.003259596    4.168967e-03\n",
       "786    98138658   11        22         0.375622619 0.017073755    6.845934e-02\n",
       "787    982112698   9        21         0.115331087 0.005491957    4.540009e-02\n",
       "788    984026754  13        98         0.755273953 0.007706877    7.377849e-02\n",
       "789    98642816   11        17         0.154629358 0.009095845    2.003474e-02\n",
       "790    986550836   8         9         0.031900088 0.003544454    1.175603e-02\n",
       "791    999884872  20        45         0.306841488 0.006818700    4.465304e-02\n",
       "       lvis_freq_norm abs_freq_diff sign_freq_diff\n",
       "1      0.0031719435   6.896211e-01   1            \n",
       "2      0.0006792980   8.369639e-01   1            \n",
       "3      0.0025102574   2.616749e+00   1            \n",
       "4      0.0034436804   6.376432e+01   1            \n",
       "5      0.0029543878   5.875820e-01   1            \n",
       "6      0.0002942351   2.818862e-03   1            \n",
       "7      0.0014923392   2.997307e+01   1            \n",
       "8      0.0023168625   1.069170e+01   1            \n",
       "9      0.0014845498   1.206649e+00   1            \n",
       "10     0.0038636325   2.916851e+01   1            \n",
       "11     0.0010794989   4.365783e+00   1            \n",
       "12     0.0013197272   8.043860e+00   1            \n",
       "13     0.0050694302   1.106353e+00  -1            \n",
       "14     0.0001872405   2.010238e+00   1            \n",
       "15     0.0051714047   8.926169e-02  -1            \n",
       "16     0.0017922229   1.599541e+01   1            \n",
       "17     0.0001528494   1.202263e-03   1            \n",
       "18     0.0002235422   6.266338e-01   1            \n",
       "19     0.0014073608   6.196651e-01   1            \n",
       "20     0.0011766159   2.841841e+01   1            \n",
       "21     0.0009317445   6.587358e+00   1            \n",
       "22     0.0011059237   2.820225e+01   1            \n",
       "23     0.0020683390   9.916559e+00   1            \n",
       "24     0.0027363227   7.313559e+01   1            \n",
       "25     0.0017168022   3.926525e+00   1            \n",
       "26     0.0023707181   4.783076e+00   1            \n",
       "27     0.0022620346   3.862811e+01   1            \n",
       "28     0.0014569664   2.604370e+02   1            \n",
       "29     0.0011789359   7.321476e+01   1            \n",
       "30     0.0048477577   6.281538e+00   1            \n",
       "<U+22EE> <U+22EE>       <U+22EE>      <U+22EE>      \n",
       "762    1.569254e-03   2.825781e-01   1            \n",
       "763    3.056988e-05   5.682879e-03   1            \n",
       "764    1.179670e-03   1.212186e+02   1            \n",
       "765    3.105748e-03   1.103744e+02   1            \n",
       "766    1.000364e-03   5.220766e+02   1            \n",
       "767    6.096967e-04   4.797028e+01   1            \n",
       "768    7.814426e-04   4.340437e-01   1            \n",
       "769    1.532982e-03   3.082634e+01   1            \n",
       "770    2.171775e-03   1.520791e+00   1            \n",
       "771    2.708392e-03   9.579335e+02   1            \n",
       "772    2.712465e-03   1.896415e+01   1            \n",
       "773    5.467027e-03   4.485939e+00   1            \n",
       "774    9.457557e-04   3.723661e-02   1            \n",
       "775    7.055637e-04   1.090575e+01   1            \n",
       "776    1.664442e-03   2.604767e+00   1            \n",
       "777    6.336372e-04   5.474911e+00   1            \n",
       "778    1.031863e-03   4.561922e+01   1            \n",
       "779    6.021205e-03   1.635417e+00   1            \n",
       "780    1.557204e-03   1.026451e+01   1            \n",
       "781    5.263751e-04   1.223352e+00   1            \n",
       "782    1.562832e-03   1.094981e+01   1            \n",
       "783    3.700118e-03   3.945272e-01   1            \n",
       "784    1.053779e-03   8.164440e+00   1            \n",
       "785    4.168967e-03   9.093717e-04  -1            \n",
       "786    3.111788e-03   6.757592e+00   1            \n",
       "787    2.161909e-03   1.468551e+00   1            \n",
       "788    7.528418e-04   6.678655e+01   1            \n",
       "789    1.178514e-03   2.288109e+00   1            \n",
       "790    1.306225e-03   1.812965e-01   1            \n",
       "791    9.922898e-04   1.179848e+01   1            "
      ]
     },
     "metadata": {},
     "output_type": "display_data"
    }
   ],
   "source": [
    "sv(kick_dist)\n",
    "kick_dist"
   ]
  }
 ],
 "metadata": {
  "jupytext": {
   "formats": "ipynb,py:light"
  },
  "kernelspec": {
   "display_name": "R 4.0.3",
   "language": "R",
   "name": "ir403"
  },
  "language_info": {
   "codemirror_mode": "r",
   "file_extension": ".r",
   "mimetype": "text/x-r-source",
   "name": "R",
   "pygments_lexer": "r",
   "version": "4.0.4"
  },
  "toc-autonumbering": true
 },
 "nbformat": 4,
 "nbformat_minor": 5
}
