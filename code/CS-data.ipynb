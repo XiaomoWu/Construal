{
 "cells": [
  {
   "cell_type": "markdown",
   "metadata": {},
   "source": [
    "# Init"
   ]
  },
  {
   "cell_type": "code",
   "execution_count": null,
   "metadata": {},
   "outputs": [],
   "source": [
    "# if you've not installed my toolbox `utilr`, please install through:\n",
    "# devtools::install_github('xiaomowu/utilr')\n",
    "# then `library(utilr)`q\n",
    "library(utilr)\n",
    "library(jsonlite)\n",
    "library(quanteda)\n",
    "\n",
    "quanteda_options(threads = 32) # On your laptop, you probably want to set it to 4 or 8.\n",
    "\n",
    "setwd('~/OneDrive/Construal')"
   ]
  },
  {
   "cell_type": "markdown",
   "metadata": {},
   "source": [
    "# Parse JSON"
   ]
  },
  {
   "cell_type": "markdown",
   "metadata": {},
   "source": [
    "## get `project_ids` and `project_dirs`"
   ]
  },
  {
   "cell_type": "code",
   "execution_count": null,
   "metadata": {},
   "outputs": [],
   "source": [
    "data_root_dir = './data/Kickstarter Data/'\n",
    "\n",
    "project_ids = list.dirs(data_root_dir, full.names=F, recursive=F)\n",
    "\n",
    "project_dirs = str_c(data_root_dir, project_ids, '/')"
   ]
  },
  {
   "cell_type": "markdown",
   "metadata": {},
   "source": [
    "## parse JSON"
   ]
  },
  {
   "cell_type": "code",
   "execution_count": null,
   "metadata": {
    "scrolled": true
   },
   "outputs": [],
   "source": [
    "pjson = vector(mode = \"list\", length=length(project_ids))\n",
    "\n",
    "for (i in 1:length(project_ids)) {\n",
    "    pid = project_ids[i]\n",
    "    pdir = project_dirs[i]\n",
    "    \n",
    "    tryCatch({\n",
    "        json_path = sprintf('%s/%s.json', pdir, pid)\n",
    "        json = fromJSON(json_path)\n",
    "        json$pledge_money = str_c(json$pledge_money, collapse=',')\n",
    "        json$pledge_count = str_c(json$pledge_count, collapse=',')\n",
    "        pjson[[pid]] = json\n",
    "    }, error=function(cond) {\n",
    "        message(sprintf('Error: %s', json_path))\n",
    "        NULL\n",
    "    })\n",
    "}\n",
    "\n",
    "pjson = rbindlist(pjson, use.names=T, idcol='pid') %>% unique()"
   ]
  },
  {
   "cell_type": "code",
   "execution_count": null,
   "metadata": {},
   "outputs": [],
   "source": [
    "write_feather(pjson, './data/pjson.feather', version = 2)"
   ]
  },
  {
   "cell_type": "code",
   "execution_count": null,
   "metadata": {},
   "outputs": [],
   "source": [
    "success_pct = round(pjson[, .N]/length(project_ids)*100, 2)\n",
    "message(sprintf('%s%% projects have been successfully parsed.', success_pct))"
   ]
  },
  {
   "cell_type": "code",
   "execution_count": null,
   "metadata": {},
   "outputs": [],
   "source": [
    "pjson[1, .(pid, pledge_count)]"
   ]
  },
  {
   "cell_type": "code",
   "execution_count": null,
   "metadata": {},
   "outputs": [],
   "source": [
    "ld(pjson, ldtype='feather')"
   ]
  },
  {
   "cell_type": "code",
   "execution_count": null,
   "metadata": {},
   "outputs": [],
   "source": [
    "pjson[category=='Product Design'][order(pid)]"
   ]
  },
  {
   "cell_type": "markdown",
   "metadata": {
    "toc-hr-collapsed": true,
    "toc-nb-collapsed": true
   },
   "source": [
    "# Parse HTML"
   ]
  },
  {
   "cell_type": "markdown",
   "metadata": {},
   "source": [
    "## get `project_ids` and `project_dirs`"
   ]
  },
  {
   "cell_type": "code",
   "execution_count": null,
   "metadata": {},
   "outputs": [],
   "source": [
    "data_root_dir = './data/Kickstarter Data/'\n",
    "\n",
    "project_ids = list.dirs(data_root_dir, full.names=F, recursive=F)\n",
    "\n",
    "project_dirs = str_c(data_root_dir, project_ids, '/')"
   ]
  },
  {
   "cell_type": "code",
   "execution_count": null,
   "metadata": {},
   "outputs": [],
   "source": [
    "# risk\n",
    "# the json file already captured the risk portion\n",
    "risk = getNodeSet(parsed_html, '//div[@class=\"mb3 mb10-sm mb3 js-risks\"]//p') %>%\n",
    "    xmlValue() %>%\n",
    "    str_c(collapse='\\n')\n",
    "\n",
    "# cat(sprintf('[risk]:\\n%s\\n', risk))\n",
    "# cat('---------------------------\\n')"
   ]
  },
  {
   "cell_type": "code",
   "execution_count": null,
   "metadata": {
    "scrolled": true
   },
   "outputs": [],
   "source": [
    "# get parsed_html\n",
    "pid = 1649873594\n",
    "html_page = sprintf(\"C:/Users/rossz/OneDrive/Construal/data/Kickstarter Data/%s/%s.html\", pid, pid)\n",
    "parsed_html = htmlParse(html_page)\n",
    "\n",
    "\n",
    "split_team_and_project <- function(pid,\n",
    "    parsed_html, \n",
    "    bold_title_xpath,\n",
    "    pos_team_xpath) {\n",
    "    \n",
    "    # possible team_titles\n",
    "    team_titles = c(\"Who's on the team?\", \"The Team\", \"About Us\", \"About the Artist\", \"Meet the team\", \"Who we are\", \"Meet the creators\", \n",
    "                    \"Who's involved\", \"Who is involved\") %>% tolower()\n",
    "    \n",
    "    # root node for proj_desc and team_desc\n",
    "    root = xmlDoc(parsed_html['//div[@class=\"full-description js-full-description responsive-media formatted-lists\"]'][[1]])\n",
    "    \n",
    "    # all the <p> under the root\n",
    "    all_p = root['//p']\n",
    "    \n",
    "    # set default team_desc/proj_desc\n",
    "    team_desc = NA\n",
    "    proj_desc = getNodeSet(parsed_html, '//div[@class=\"full-description js-full-description responsive-media formatted-lists\"]//text()') %>%\n",
    "        xmlValue() %>%\n",
    "        str_c(collapse='\\n') %>%\n",
    "        str_trim()\n",
    "    success_counter = 0\n",
    "    \n",
    "    # print(proj_desc)\n",
    "    \n",
    "    # find out all bold titles\n",
    "    # convert them to lower case\n",
    "    bold_titles = getNodeSet(root, bold_title_xpath) %>%\n",
    "        xmlValue() %>%\n",
    "        str_trim() %>%\n",
    "        tolower()\n",
    "    \n",
    "    # print(bold_titles)\n",
    "    \n",
    "    # loop over every possible team_title\n",
    "    for (team_title in team_titles) {\n",
    "        idx = match(team_title, bold_titles)\n",
    "        \n",
    "        # if successfully finds team_title, output BOTH team_description and project_descriptoin;\n",
    "        # else, pased_html as project_description\n",
    "        if (is.na(idx)) {\n",
    "            next\n",
    "        } else {\n",
    "            success_counter = success_counter + 1\n",
    "            \n",
    "            team_title_next = bold_titles[idx+1]\n",
    "            \n",
    "#             print(team_title)\n",
    "#             print(team_title_next)\n",
    "            \n",
    "            \n",
    "           \n",
    "            pos_team_start = getNodeSet(all_p, sprintf(pos_team_xpath, team_title))\n",
    "\n",
    "            pos_team_end = getNodeSet(all_p, sprintf(pos_team_xpath, team_title_next))\n",
    "\n",
    "            # extract team_description\n",
    "            team_desc = getNodeSet(all_p, sprintf('//p[position()>%s and position()<%s]', pos_team_start, pos_team_end)) %>%\n",
    "                xmlValue() %>%\n",
    "                str_c(collapse='\\n') %>%  \n",
    "                str_trim()\n",
    "            \n",
    "#             print(pos_team_start)\n",
    "#             print(pos_team_end)\n",
    "            \n",
    "\n",
    "            \n",
    "            # extract project_description\n",
    "            proj_desc = getNodeSet(all_p, sprintf('//p[position()<=%s or position()>=%s]', pos_team_start, pos_team_end)) %>%\n",
    "                xmlValue() %>%\n",
    "                str_c(collapse='\\n') %>%\n",
    "                str_trim()\n",
    "        }\n",
    "    }\n",
    "    \n",
    "    # log message if more than one team_description have been found\n",
    "    if (success_counter>1) {\n",
    "        message(sprintf('More than one team_description have been found (%s).', parsed_html))\n",
    "    }\n",
    "    return(list(pid=pid, team_desc=team_desc, proj_desc=proj_desc))\n",
    "}\n",
    "\n",
    "# h1 = split_team_and_project(\n",
    "#     pid,\n",
    "#     parsed_html,\n",
    "#     bold_title_xpath='//div[@class=\"full-description js-full-description responsive-media formatted-lists\"]//h1',\n",
    "#     pos_team_xpath='count(//div[@class=\"full-description js-full-description responsive-media formatted-lists\"]//h1[contains(lower-case(text()),\"%s\")]/preceding-sibling::p)+1')\n",
    "# print(h1)\n",
    "\n",
    "b = split_team_and_project(\n",
    "    pid,\n",
    "    parsed_html,\n",
    "    bold_title_xpath='//p[count(./b)=1]//b',\n",
    "    pos_team_xpath='count(//p[contains(lower-case(text()),\"%s\")]/preceding-sibling::p)+1')\n",
    "# b"
   ]
  },
  {
   "cell_type": "code",
   "execution_count": null,
   "metadata": {},
   "outputs": [],
   "source": [
    "all_p[[1]]\n",
    "cat('---------')\n",
    "str(all_p[[1]])"
   ]
  },
  {
   "cell_type": "code",
   "execution_count": null,
   "metadata": {
    "scrolled": true
   },
   "outputs": [],
   "source": [
    "# get parsed_html\n",
    "pid = 1649873594\n",
    "html_page = sprintf(\"C:/Users/rossz/OneDrive/Construal/data/Kickstarter Data/%s/%s.html\", pid, pid)\n",
    "parsed_html = htmlParse(html_page)\n",
    "\n",
    "root = parsed_html['//div[@class=\"full-description js-full-description responsive-media formatted-lists\"]'][[1]]\n",
    "\n",
    "root_children = xmlChildren(root) # I shouldn't use `xmlChildren` \n",
    "length(root_children)\n",
    "\n",
    "# root_children[[2]] %>% class()\n",
    "# root_children[[2]]\n",
    "cat('------------\\n')\n",
    "\n",
    "getNodeSet(root, './/p[count(.//b)=1 and contains(.//b, \"About\")]/preceding::*')"
   ]
  },
  {
   "cell_type": "code",
   "execution_count": null,
   "metadata": {
    "scrolled": true
   },
   "outputs": [],
   "source": [
    "root = xmlDoc(parsed_html['//div[@class=\"full-description js-full-description responsive-media formatted-lists\"]'][[1]])\n",
    "\n",
    "pos_team_start = getNodeSet(root, sprintf('count(//p[contains(lower-case(.//b/text()),\"%s\")]/preceding-sibling::*)+1', 'about'))\n",
    "pos_team_start\n",
    "\n",
    "names(root)"
   ]
  },
  {
   "cell_type": "code",
   "execution_count": null,
   "metadata": {},
   "outputs": [],
   "source": [
    "class(parsed_html['//div[@class=\"full-description js-full-description responsive-media formatted-lists\"]'][1][[1]])"
   ]
  },
  {
   "cell_type": "code",
   "execution_count": null,
   "metadata": {
    "scrolled": true
   },
   "outputs": [],
   "source": [
    "all_p = getNodeSet(parsed_html, '//div[@class=\"full-description js-full-description responsive-media formatted-lists\"]//p')\n",
    "\n",
    "getNodeSet(all_p[[1]], './/text()')"
   ]
  },
  {
   "cell_type": "code",
   "execution_count": null,
   "metadata": {},
   "outputs": [],
   "source": [
    "getNodeSet(parsed_html, \n",
    "           sprintf('//div[@class=\"full-description js-full-description responsive-media formatted-lists\"]//p[contains(lower-case(./b/text()),\"%s\")]', 'shipping'))"
   ]
  },
  {
   "cell_type": "markdown",
   "metadata": {},
   "source": [
    "# Test"
   ]
  },
  {
   "cell_type": "code",
   "execution_count": 20,
   "metadata": {},
   "outputs": [
    {
     "name": "stdout",
     "output_type": "stream",
     "text": [
      "pjson (167.5 MB) already loaded, will NOT load again! (0 secs) (2021-06-23 3:24 PM)\n",
      "bscore_bypid (2.4 MB) already loaded, will NOT load again! (0 secs) (2021-06-23 3:24 PM)\n",
      "\"score.feather\" (3.3 MB) loaded (0.02 secs) (2021-06-23 3:24 PM)\n"
     ]
    }
   ],
   "source": [
    "ld(pjson, path='../data', ldtype='feather')\n",
    "ld(bscore_bypid, path='../data')\n",
    "ld(score, path='../data')"
   ]
  },
  {
   "cell_type": "code",
   "execution_count": 34,
   "metadata": {},
   "outputs": [
    {
     "data": {
      "text/html": [
       "<table class=\"dataframe\">\n",
       "<caption>A data.table: 1 × 2</caption>\n",
       "<thead>\n",
       "\t<tr><th scope=col>pid</th><th scope=col>diff</th></tr>\n",
       "\t<tr><th scope=col>&lt;chr&gt;</th><th scope=col>&lt;dbl&gt;</th></tr>\n",
       "</thead>\n",
       "<tbody>\n",
       "\t<tr><td>2002220833</td><td>6.534847</td></tr>\n",
       "</tbody>\n",
       "</table>\n"
      ],
      "text/latex": [
       "A data.table: 1 × 2\n",
       "\\begin{tabular}{ll}\n",
       " pid & diff\\\\\n",
       " <chr> & <dbl>\\\\\n",
       "\\hline\n",
       "\t 2002220833 & 6.534847\\\\\n",
       "\\end{tabular}\n"
      ],
      "text/markdown": [
       "\n",
       "A data.table: 1 × 2\n",
       "\n",
       "| pid &lt;chr&gt; | diff &lt;dbl&gt; |\n",
       "|---|---|\n",
       "| 2002220833 | 6.534847 |\n",
       "\n"
      ],
      "text/plain": [
       "  pid        diff    \n",
       "1 2002220833 6.534847"
      ]
     },
     "metadata": {},
     "output_type": "display_data"
    }
   ],
   "source": [
    "score[, .(pid=doc_id, diff=score_google_top5000_withoutstop-score_kck_top5000_withoutstop)\n",
    "    ][pid=='2002220833']"
   ]
  },
  {
   "cell_type": "code",
   "execution_count": 49,
   "metadata": {},
   "outputs": [
    {
     "data": {
      "text/html": [
       "<table class=\"dataframe\">\n",
       "<caption>A data.table: 1 × 1</caption>\n",
       "<thead>\n",
       "\t<tr><th scope=col>V1</th></tr>\n",
       "\t<tr><th scope=col>&lt;dbl&gt;</th></tr>\n",
       "</thead>\n",
       "<tbody>\n",
       "\t<tr><td>3.003413</td></tr>\n",
       "</tbody>\n",
       "</table>\n"
      ],
      "text/latex": [
       "A data.table: 1 × 1\n",
       "\\begin{tabular}{l}\n",
       " V1\\\\\n",
       " <dbl>\\\\\n",
       "\\hline\n",
       "\t 3.003413\\\\\n",
       "\\end{tabular}\n"
      ],
      "text/markdown": [
       "\n",
       "A data.table: 1 × 1\n",
       "\n",
       "| V1 &lt;dbl&gt; |\n",
       "|---|\n",
       "| 3.003413 |\n",
       "\n"
      ],
      "text/plain": [
       "  V1      \n",
       "1 3.003413"
      ]
     },
     "metadata": {},
     "output_type": "display_data"
    }
   ],
   "source": [
    "bscore_bypid[pid=='384333840', .(bscore_nostopwords/ntoken_bscore_nostopwords)]"
   ]
  },
  {
   "cell_type": "code",
   "execution_count": 5,
   "metadata": {},
   "outputs": [],
   "source": [
    "fwrite(pjson[category=='Product Design', .(pid, project_desc)], 'pjson.csv')"
   ]
  }
 ],
 "metadata": {
  "interpreter": {
   "hash": "04438afc90196b610ae9d8cae348c2d42203a24c961452fd32ef34edb45ea985"
  },
  "kernelspec": {
   "display_name": "R 4.1.0",
   "language": "R",
   "name": "ir410"
  },
  "language_info": {
   "codemirror_mode": "r",
   "file_extension": ".r",
   "mimetype": "text/x-r-source",
   "name": "R",
   "pygments_lexer": "r",
   "version": "4.1.0"
  },
  "toc-autonumbering": true
 },
 "nbformat": 4,
 "nbformat_minor": 4
}