{
 "cells": [
  {
   "cell_type": "markdown",
   "metadata": {},
   "source": [
    "# How to install MMCV and MMDet\n",
    "\n",
    "> MMCV and MMDet are extremely picky about package version. Make sure you follow the following steps strictly.\n",
    "\n",
    "- Install CUDA-11.1\n",
    "\n",
    "    - Download installer with this command: `wget https://developer.download.nvidia.com/compute/cuda/11.1.1/local_installers/cuda_11.1.1_455.32.00_linux.run`\n",
    "\n",
    "    - Install with this command: `sudo sh cuda_11.1.1_455.32.00_linux.run`.\n",
    "\n",
    "        > Note: As long as your GPU driver version is higher than 455, you don't need to install the driver.\n",
    "\n",
    "    - Add the following two lines to the end of file `~/.bashrc` (important!)\n",
    "\n",
    "        ```bash\n",
    "        export PATH=${PATH}:/usr/local/cuda-11.1/bin\n",
    "\n",
    "        export LD_LIBRARY_PATH=${LD_LIBRARY_PATH}:/usr/local/cuda-11.1/lib64\n",
    "        ```\n",
    "\n",
    "    - reboot\n",
    "\n",
    "- Make sure you've installed the following packages with the correct version. The easiet way to guarantee that is to install them with the following command:\n",
    "\n",
    "    ```bash\n",
    "    pip3 install torch==1.8.1+cu111 torchvision==0.9.1+cu111 torchaudio===0.8.1 -f https://download.pytorch.org/whl/lts/1.8/torch_lts.html\n",
    "    ```\n",
    "\n",
    "- Install MMCV with the following command:\n",
    "\n",
    "    ```bash\n",
    "    pip install mmcv-full==1.3.8 -f https://download.openmmlab.com/mmcv/dist/cu111/torch1.8.0/index.html\n",
    "    ```"
   ]
  },
  {
   "cell_type": "markdown",
   "metadata": {},
   "source": [
    "# Object Detect"
   ]
  },
  {
   "cell_type": "markdown",
   "metadata": {},
   "source": [
    "## config Model"
   ]
  },
  {
   "cell_type": "code",
   "execution_count": 7,
   "metadata": {},
   "outputs": [],
   "source": [
    "# Init for script use\n",
    "import os\n",
    "from tqdm.auto import tqdm\n",
    "from mmdet.apis import init_detector, inference_detector, show_result_pyplot\n",
    "\n",
    "# The root directory of your project\n",
    "WORK_DIR = '/home/yu/OneDrive/Construal'\n",
    "\n",
    "MODEL_DIR = f'{WORK_DIR}/pretrained_models/mmdetection'\n",
    "\n",
    "os.chdir(WORK_DIR)"
   ]
  },
  {
   "cell_type": "markdown",
   "metadata": {},
   "source": [
    "- Models and config files can be downloaded from this link: \n",
    "\n",
    "    https://github.com/open-mmlab/mmdetection/tree/master/configs/lvis\n",
    "\n",
    "    - Click on the \"config\" to download the config file (which is a .py file), put it at the directory `{WORK_DIR}/pretrained_models/mmdetection/configs`, where `{WORK_DIR}` is your project root directory.\n",
    "\n",
    "    - Click on the \"model\" to download the model checkpoints (in a few hundreds of MBs), put it at the directory `{WORD_DIR}/pretrained_models/mmdetection/checkpoints`\n",
    "\n",
    "- The model I used in the paper is \"X-101-64x4d-FPN.\" However, your GPU may not have sufficient vRAM to ran it. As a compromise, choose a smaller model like \"R-50-FPN\""
   ]
  },
  {
   "cell_type": "code",
   "execution_count": 4,
   "metadata": {},
   "outputs": [
    {
     "name": "stdout",
     "output_type": "stream",
     "text": [
      "Use load_from_local loader\n"
     ]
    }
   ],
   "source": [
    "# Specify the path to model config and checkpoint file\n",
    "config_file = f'{MODEL_DIR}/configs/lvis/mask_rcnn_x101_64x4d_fpn_sample1e-3_mstrain_1x_lvis_v1.py'\n",
    "\n",
    "checkpoint_file = f'{MODEL_DIR}/checkpoints/mask_rcnn_x101_64x4d_fpn_sample1e-3_mstrain_1x_lvis_v1-43d9edfe.pth'\n",
    "\n",
    "# build the model from a config file and a checkpoint file\n",
    "model = init_detector(config_file, checkpoint_file, device='cuda:0')"
   ]
  },
  {
   "cell_type": "markdown",
   "metadata": {},
   "source": [
    "## Run"
   ]
  },
  {
   "cell_type": "code",
   "execution_count": 5,
   "metadata": {},
   "outputs": [
    {
     "name": "stderr",
     "output_type": "stream",
     "text": [
      "/home/yu/Software/Anaconda/lib/python3.8/site-packages/mmdet/datasets/utils.py:64: UserWarning: \"ImageToTensor\" pipeline is replaced by \"DefaultFormatBundle\" for batch inference. It is recommended to manually replace it in the test data pipeline in your config file.\n",
      "  warnings.warn(\n"
     ]
    }
   ],
   "source": [
    "img = '/home/yu/OneDrive/Construal/data/kickstarter-image/21109/profile_full.jpg'\n",
    "\n",
    "res = inference_detector(model, img)\n",
    "model.show_result(img, res, out_file='output.jpg')"
   ]
  }
 ],
 "metadata": {
  "interpreter": {
   "hash": "04438afc90196b610ae9d8cae348c2d42203a24c961452fd32ef34edb45ea985"
  },
  "jupytext": {
   "formats": "ipynb,py:light"
  },
  "kernelspec": {
   "display_name": "Python 3.8.5 64-bit ('base': conda)",
   "name": "python3"
  },
  "language_info": {
   "codemirror_mode": {
    "name": "ipython",
    "version": 3
   },
   "file_extension": ".py",
   "mimetype": "text/x-python",
   "name": "python",
   "nbconvert_exporter": "python",
   "pygments_lexer": "ipython3",
   "version": "3.8.5"
  },
  "metadata": {
   "interpreter": {
    "hash": "04438afc90196b610ae9d8cae348c2d42203a24c961452fd32ef34edb45ea985"
   }
  },
  "toc-autonumbering": true
 },
 "nbformat": 4,
 "nbformat_minor": 5
}