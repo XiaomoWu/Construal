{
 "cells": [
  {
   "cell_type": "markdown",
   "metadata": {},
   "source": [
    "# Init"
   ]
  },
  {
   "cell_type": "code",
   "execution_count": null,
   "metadata": {},
   "outputs": [],
   "source": [
    "# Init for script use\n",
    "with open(\"/home/yu/OneDrive/App/Settings/jupyter + R + Python/python_startup.py\", 'r') as _:\n",
    "    exec(_.read())\n",
    "\n",
    "import datatable as dt\n",
    "import glob\n",
    "import mmcv\n",
    "import torch\n",
    "import shutil\n",
    "\n",
    "from datatable import f\n",
    "from tqdm.auto import tqdm\n",
    "\n",
    "dt.init_styles()\n",
    "\n",
    "WORK_DIR = '/home/yu/OneDrive/Construal'\n",
    "MODEL_DIR = f'{WORK_DIR}/pretrained_models/mmdetection'\n",
    "DATA_DIR = f'{WORK_DIR}/data'\n",
    "\n",
    "os.chdir(WORK_DIR)"
   ]
  },
  {
   "cell_type": "markdown",
   "metadata": {
    "incorrectly_encoded_metadata": "toc-hr-collapsed=true"
   },
   "source": [
    "# Obj Detect"
   ]
  },
  {
   "cell_type": "code",
   "execution_count": null,
   "metadata": {},
   "outputs": [],
   "source": [
    "os.chdir(MODEL_DIR)\n",
    "from mmdet.apis import init_detector, inference_detector, show_result_pyplot\n",
    "os.chdir(WORK_DIR)"
   ]
  },
  {
   "cell_type": "markdown",
   "metadata": {},
   "source": [
    "## config Model"
   ]
  },
  {
   "cell_type": "code",
   "execution_count": 2,
   "metadata": {},
   "outputs": [],
   "source": [
    "# Specify the path to model config and checkpoint file\n",
    "config_file = f'{MODEL_DIR}/configs/lvis/mask_rcnn_x101_64x4d_fpn_sample1e-3_mstrain_1x_lvis_v1.py'\n",
    "checkpoint_file = f'{MODEL_DIR}/checkpoints/mask_rcnn_x101_64x4d_fpn_sample1e-3_mstrain_1x_lvis_v1-43d9edfe.pth'\n",
    "\n",
    "# build the model from a config file and a checkpoint file\n",
    "model_cuda0 = init_detector(config_file, checkpoint_file, device='cuda:0')\n",
    "model_cuda1 = init_detector(config_file, checkpoint_file, device='cuda:1')"
   ]
  },
  {
   "cell_type": "markdown",
   "metadata": {},
   "source": [
    "## move jpgs"
   ]
  },
  {
   "cell_type": "code",
   "execution_count": 3,
   "metadata": {},
   "outputs": [
    {
     "name": "stdout",
     "output_type": "stream",
     "text": [
      "\"pjson.feather\" (167.5 MB) loaded (<1s) (2021-03-09 4:02 PM)\n"
     ]
    }
   ],
   "source": [
    "# get pid of \"product design\"\n",
    "ld('pjson', path=DATA_DIR)\n",
    "pids = pjson[f.category=='Product Design',f.pid].to_list()[0]"
   ]
  },
  {
   "cell_type": "code",
   "execution_count": 4,
   "metadata": {
    "scrolled": true
   },
   "outputs": [
    {
     "data": {
      "application/vnd.jupyter.widget-view+json": {
       "model_id": "45728f3d4e5f41d1958ca3bf7714e5f9",
       "version_major": 2,
       "version_minor": 0
      },
      "text/plain": [
       "  0%|          | 0/819 [00:00<?, ?it/s]"
      ]
     },
     "metadata": {},
     "output_type": "display_data"
    }
   ],
   "source": [
    "# Copy all jpgs in a project folder to '/Kickstarter Image/project_folder'\n",
    "def copy_jpg(pid):\n",
    "    pdir = f'{DATA_DIR}/Kickstarter Data/{pid}'\n",
    "    for i, file in enumerate(os.listdir(pdir)):\n",
    "        if file.endswith('.jpg'):\n",
    "            file_full_path = f'{pdir}/{file}'\n",
    "            target_dir = f'{DATA_DIR}/Kickstarter Image/{pid}'\n",
    "            target_path = f'{target_dir}/{file}'\n",
    "\n",
    "            if not os.path.exists(target_dir):\n",
    "                os.mkdir(target_dir)\n",
    "\n",
    "            shutil.copyfile(file_full_path, target_path)\n",
    "\n",
    "for pid in tqdm(pids):\n",
    "    copy_jpg(pid)"
   ]
  },
  {
   "cell_type": "code",
   "execution_count": 137,
   "metadata": {},
   "outputs": [
    {
     "data": {
      "application/vnd.jupyter.widget-view+json": {
       "model_id": "df36a56c48b544fa90e793f4dfd4a429",
       "version_major": 2,
       "version_minor": 0
      },
      "text/plain": [
       "  0%|          | 0/43131 [00:00<?, ?it/s]"
      ]
     },
     "metadata": {},
     "output_type": "display_data"
    }
   ],
   "source": [
    "# Move depth detection results to a new subfolder\n",
    "# Only need to do onece\n",
    "def move_depth_results():\n",
    "    pids = os.listdir(f'{DATA_DIR}/Kickstarter Image/')\n",
    "\n",
    "    for pid in tqdm(pids):\n",
    "        pdir = f'{DATA_DIR}/Kickstarter Image/{pid}'\n",
    "        for file in os.listdir(pdir):\n",
    "            if file.endswith('md2.jpg') or file.endswith('md2.npy'):\n",
    "                file_full_path = f'{pdir}/{file}'\n",
    "                target_dir = f'{DATA_DIR}/Kickstarter Image/{pid}/depth results'\n",
    "                target_path = f'{target_dir}/{file}'\n",
    "\n",
    "                if not os.path.exists(target_dir):\n",
    "                    os.mkdir(target_dir)\n",
    "\n",
    "                shutil.move(file_full_path, target_path)\n",
    "                \n",
    "# move_depth_results()"
   ]
  },
  {
   "cell_type": "markdown",
   "metadata": {},
   "source": [
    "## Inference"
   ]
  },
  {
   "cell_type": "markdown",
   "metadata": {},
   "source": [
    "### Unit test"
   ]
  },
  {
   "cell_type": "code",
   "execution_count": null,
   "metadata": {},
   "outputs": [],
   "source": [
    "target = f'{DATA_DIR}/Sharing'\n",
    "\n",
    "def unit(pid, model):\n",
    "    pdir = f'{DATA_DIR}/Kickstarter Image/{pid}'\n",
    "    output = {}\n",
    "    for i, file in enumerate(os.listdir(pdir)):\n",
    "        if file.endswith('profile_full.jpg'):\n",
    "            img = f'{pdir}/{file}'\n",
    "            res = inference_detector(model, img)\n",
    "            \n",
    "            model.show_result(img, res, out_file=f'{target}/example_{i}.jpg')\n",
    "            \n",
    "for pid in tqdm(pids[:5]):\n",
    "    unit(pid, model_cuda1)"
   ]
  },
  {
   "cell_type": "markdown",
   "metadata": {},
   "source": [
    "### Batch run"
   ]
  },
  {
   "cell_type": "code",
   "execution_count": 5,
   "metadata": {},
   "outputs": [
    {
     "name": "stderr",
     "output_type": "stream",
     "text": [
      "/home/yu/OneDrive/Construal/models/mmdetection/mmdet/datasets/utils.py:62: UserWarning: \"ImageToTensor\" pipeline is replaced by \"DefaultFormatBundle\" for batch inference. It is recommended to manually replace it in the test data pipeline in your config file.\n",
      "  warnings.warn(\n"
     ]
    }
   ],
   "source": [
    "# Start Detecting!\n",
    "def obj_detect(pid, model):\n",
    "    pdir = f'{DATA_DIR}/Kickstarter Image/{pid}'\n",
    "    output = {}\n",
    "    for i, file in enumerate(os.listdir(pdir)):\n",
    "        if file.endswith('.jpg'):\n",
    "            img = f'{pdir}/{file}'\n",
    "            res = inference_detector(model, img)\n",
    "            \n",
    "            # get cat_idx and cat_n\n",
    "            # res[0]: box\n",
    "            # res[1]: segment\n",
    "            box_res = {}\n",
    "            for cat_idx, cat in enumerate(res[0]):\n",
    "                if len(cat)>0:\n",
    "                    box_res[cat_idx] = {'n':len(cat),\n",
    "                                        'prob':cat[:,-1].tolist()}\n",
    "            \n",
    "            output[file] = box_res\n",
    "\n",
    "    return output\n",
    "\n",
    "x = obj_detect(pids[0], model_cuda0)"
   ]
  },
  {
   "cell_type": "code",
   "execution_count": 229,
   "metadata": {
    "lines_to_next_cell": 0,
    "scrolled": true
   },
   "outputs": [],
   "source": [
    "# Start Detecting!\n",
    "def obj_detect(pid, model):\n",
    "    pdir = f'{DATA_DIR}/Kickstarter Image/{pid}'\n",
    "    output = {}\n",
    "    for i, file in enumerate(os.listdir(pdir)):\n",
    "        if file.endswith('.jpg'):\n",
    "            img = f'{pdir}/{file}'\n",
    "            res = inference_detector(model, img)\n",
    "            \n",
    "            # get cat_idx and cat_n\n",
    "            # res[0]: box\n",
    "            # res[1]: segment\n",
    "            box_res = {}\n",
    "            for cat_idx, cat in enumerate(res[0]):\n",
    "                if len(cat)>0:\n",
    "                    box_res[cat_idx] = {'n':len(cat),\n",
    "                                        'prob':cat[:,-1].tolist()}\n",
    "            \n",
    "            output[file] = box_res\n",
    "            \n",
    "\n",
    "\n",
    "    # save results\n",
    "    save_dir = f'{pdir}/object results'\n",
    "    save_path = f'{save_dir}/mrcnn_lvis.pt'\n",
    "    if not os.path.exists(save_path):\n",
    "        os.mkdir(save_dir)\n",
    "    torch.save(output, save_path)\n",
    "    \n",
    "    \n",
    "device_id = 0\n",
    "print(f'Using GPU:{device_id}')\n",
    "\n",
    "half = int(len(pids)/2)\n",
    "pids = [pids[:half], pids[half:]]\n",
    "\n",
    "model = init_detector(config_file, checkpoint_file, device=f'cuda:{device_id}')\n",
    "\n",
    "for pid in tqdm(pids[device_id]):\n",
    "    obj_detect(pid, model)"
   ]
  },
  {
   "cell_type": "markdown",
   "metadata": {},
   "source": [
    "## Retreving results for sharing\n"
   ]
  },
  {
   "cell_type": "code",
   "execution_count": 2,
   "metadata": {
    "lines_to_next_cell": 2
   },
   "outputs": [
    {
     "name": "stdout",
     "output_type": "stream",
     "text": [
      "\"pjson.feather\" (167.5 MB) loaded (<1s) (2021-03-21 3:50 PM)\n"
     ]
    }
   ],
   "source": [
    "# get pid of \"product design\"\n",
    "ld('pjson', path=DATA_DIR)\n",
    "pids = pjson[f.category=='Product Design',f.pid].to_list()[0]"
   ]
  },
  {
   "cell_type": "code",
   "execution_count": 3,
   "metadata": {
    "lines_to_next_cell": 0
   },
   "outputs": [
    {
     "name": "stderr",
     "output_type": "stream",
     "text": [
      "100%|##########| 819/819 [00:00<00:00, 277878.58it/s]\n"
     ]
    }
   ],
   "source": [
    "target = f'{DATA_DIR}/Sharing/object detect results'\n",
    "if not os.path.exists:\n",
    "    os.mkdir(target)\n",
    "\n",
    "def save_sharing(pid):\n",
    "    pdir = f'{DATA_DIR}/Kickstarter Image/{pid}/object results'\n",
    "    target_dir = f'{target}/{pid}'\n",
    "    if not os.path.exists(target_dir):\n",
    "        shutil.copytree(pdir, target_dir)\n",
    "\n",
    "for pid in tqdm(pids):\n",
    "    save_sharing(pid)"
   ]
  },
  {
   "cell_type": "code",
   "execution_count": null,
   "metadata": {},
   "outputs": [],
   "source": [
    "import torch\n",
    "\n",
    "root_dir = '/home/yu/OneDrive/Construal/data/Sharing/object detect results'\n",
    "\n",
    "detect_res = {}\n",
    "for i, pid in enumerate(os.listdir(root_dir)):\n",
    "    res = torch.load(f'{root_dir}/{pid}/mrcnn_lvis.pt')\n",
    "    detect_res[pid] = res\n",
    "    \n",
    "\n",
    "df_objdet = []\n",
    "for pid, v in detect_res.items():\n",
    "    for jpg, labels in v.items():\n",
    "        for label_id, label_counts in labels.items():\n",
    "            for inst_id, prob in enumerate(label_counts['prob']):\n",
    "                df_objdet.append((pid, jpg, label_id, inst_id, prob))\n",
    "df_objdet = dt.Frame(df_objdet, names=['pid', 'jpg', 'label_id', 'inst_id', 'prob'])\n",
    "sv('df_objdet')"
   ]
  },
  {
   "cell_type": "markdown",
   "metadata": {},
   "source": [
    "# Image Label distribution"
   ]
  },
  {
   "cell_type": "markdown",
   "metadata": {},
   "source": [
    "## LVIS distribution (Py)"
   ]
  },
  {
   "cell_type": "code",
   "execution_count": null,
   "metadata": {},
   "outputs": [],
   "source": [
    "LVIS_DATA_DIR = '/home/yu/Data/LVIS'\n",
    "\n",
    "import json\n",
    "\n",
    "with open(f'{LVIS_DATA_DIR}/lvis_v1_train.json') as ff:\n",
    "    lvis_dist = dt.Frame(json.load(ff)['categories'])\n",
    "\n",
    "lvis_dist.names = {'def': 'definition'}\n",
    "lvis_dist = lvis_dist[:, \n",
    "      [f.id, f.name, f.definition, f.instance_count, f.image_count, f.frequency]]\n",
    "\n",
    "sv('lvis_dist')"
   ]
  },
  {
   "cell_type": "markdown",
   "metadata": {},
   "source": [
    "## kick distribution (R)"
   ]
  },
  {
   "cell_type": "code",
   "execution_count": 2,
   "metadata": {},
   "outputs": [
    {
     "name": "stdout",
     "output_type": "stream",
     "text": [
      "\"lvis_dist.feather\" (80.4 KB) loaded (0.03 secs) (2021-04-21 1:09 AM)\n",
      "\"df_objdet.feather\" (73.1 MB) loaded (0.61 secs) (2021-04-21 1:09 AM)\n"
     ]
    }
   ],
   "source": [
    "ld(lvis_dist, force=T) # dist of LVIS\n",
    "ld(df_objdet) # object detection results"
   ]
  },
  {
   "cell_type": "code",
   "execution_count": 34,
   "metadata": {
    "scrolled": true
   },
   "outputs": [],
   "source": [
    "kick = df_objdet[prob>=0.5, .(kick_freq=.N),\n",
    "      keyby=.(label_id)\n",
    "    ][, .(label_id, kick_freq=kick_freq/sum(kick_freq))]\n",
    "\n",
    "dist = lvis_dist[, .(label_id=id, lvis_freq=instance_count)\n",
    "    ][kick, on=.(label_id), nomatch=NULL\n",
    "    ][, ':='(lvis_freq=lvis_freq/sum(lvis_freq))\n",
    "    ][, ':='(is_kick_more=sign(kick_freq-lvis_freq))]"
   ]
  },
  {
   "cell_type": "code",
   "execution_count": 38,
   "metadata": {
    "scrolled": true
   },
   "outputs": [],
   "source": [
    "# plot_ly(dist, x=~label_id, y=~lvis_freq, type='bar', name='LVIS') %>%\n",
    "#     add_trace(y=~kick_freq, name='Kickstart') %>%\n",
    "#     plotly::layout(barmode='group')\n",
    "\n",
    "kick_dist = df_objdet[prob>=0.5, .(inst_count=.N), keyby=.(pid, label_id)\n",
    "    ][dist, on=.(label_id), nomatch=NULL\n",
    "    ][, {\n",
    "      n_labels=uniqueN(label_id)\n",
    "      n_instances=sum(inst_count)\n",
    "    \n",
    "      kick_freq=sum(kick_freq*inst_count)\n",
    "      kick_freq_norm=kick_freq/n_instances\n",
    "    \n",
    "      lvis_freq=sum(lvis_freq*inst_count)\n",
    "      lvis_freq_norm=lvis_freq/n_instances\n",
    "    \n",
    "      abs_freq_diff=abs(sum(kick_freq*inst_count)-sum(lvis_freq*inst_count))\n",
    "      sign_freq_diff=sign(sum(is_kick_more*inst_count))\n",
    "      \n",
    "       \n",
    "      list(n_labels=n_labels, n_instances=n_instances, kick_freq=kick_freq,\n",
    "           kick_freq_norm=kick_freq_norm, lvis_freq=lvis_freq, \n",
    "           lvis_freq_norm=lvis_freq_norm,\n",
    "           abs_freq_diff=abs_freq_diff, sign_freq_diff=sign_freq_diff)\n",
    "      },\n",
    "      keyby=.(pid)]"
   ]
  },
  {
   "cell_type": "code",
   "execution_count": 7,
   "metadata": {},
   "outputs": [
    {
     "name": "stdout",
     "output_type": "stream",
     "text": [
      "\"lvis_dist.feather\" (80.4 KB) loaded (0.02 secs) (2021-05-13 10:28 PM)\n"
     ]
    }
   ],
   "source": [
    "ld(lvis_dist)"
   ]
  },
  {
   "cell_type": "code",
   "execution_count": 6,
   "metadata": {},
   "outputs": [],
   "source": [
    "fwrite(lvis_dist, 'object_detect_lvis_distribution.csv')"
   ]
  },
  {
   "cell_type": "markdown",
   "metadata": {},
   "source": [
    "# Test"
   ]
  }
 ],
 "metadata": {
  "jupytext": {
   "formats": "ipynb,py:light"
  },
  "kernelspec": {
   "display_name": "R 4.1.0",
   "language": "R",
   "name": "ir410"
  },
  "language_info": {
   "codemirror_mode": "r",
   "file_extension": ".r",
   "mimetype": "text/x-r-source",
   "name": "R",
   "pygments_lexer": "r",
   "version": "4.1.0"
  },
  "metadata": {
   "interpreter": {
    "hash": "04438afc90196b610ae9d8cae348c2d42203a24c961452fd32ef34edb45ea985"
   }
  },
  "toc-autonumbering": true
 },
 "nbformat": 4,
 "nbformat_minor": 5
}