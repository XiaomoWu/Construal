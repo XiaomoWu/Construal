{
 "cells": [
  {
   "cell_type": "code",
   "execution_count": 81,
   "metadata": {},
   "outputs": [],
   "source": [
    "import pandas as pd\n",
    "import numpy as np\n",
    "from datetime import datetime\n",
    "\n",
    "def convert_to_extension_dtypes(data):\n",
    "    \"\"\"\n",
    "    Convert the data types of a given DataFrame or Series to Pandas extension data types.\n",
    "    \n",
    "    :param data: DataFrame or Series\n",
    "    :return: DataFrame or Series with updated data types\n",
    "    \"\"\"\n",
    "    # Check if the input is a DataFrame or Series\n",
    "    if not isinstance(data, (pd.DataFrame, pd.Series)):\n",
    "        raise ValueError(\"Input must be a pandas DataFrame or Series\")\n",
    "\n",
    "    # Convert data types for DataFrame\n",
    "    if isinstance(data, pd.DataFrame):\n",
    "        for col in data.columns:\n",
    "            col_data = data[col]\n",
    "            # Convert to appropriate extension dtype\n",
    "            # if pd.api.types.is_integer_dtype(col_data):\n",
    "            #     data[col] = col_data.astype(\"Int64\")\n",
    "            # elif pd.api.types.is_float_dtype(col_data):\n",
    "            #     data[col] = col_data.astype(\"Float64\")\n",
    "            \n",
    "            if pd.api.types.is_string_dtype(col_data):\n",
    "                data[col] = col_data.astype(\"string\")\n",
    "            elif pd.api.types.is_bool_dtype(col_data):\n",
    "                data[col] = col_data.astype(\"boolean\")\n",
    "\n",
    "    # Convert data type for Series\n",
    "    else:\n",
    "        if pd.api.types.is_integer_dtype(data):\n",
    "            data = data.astype(\"Int64\")\n",
    "        elif pd.api.types.is_float_dtype(data):\n",
    "            data = data.astype(\"Float64\")\n",
    "        elif pd.api.types.is_string_dtype(data):\n",
    "            data = data.astype(\"string\")\n",
    "        elif pd.api.types.is_bool_dtype(data):\n",
    "            data = data.astype(\"boolean\")\n",
    "\n",
    "    return data\n"
   ]
  }
 ],
 "metadata": {
  "kernelspec": {
   "display_name": "py311-base",
   "language": "python",
   "name": "python3"
  },
  "language_info": {
   "codemirror_mode": {
    "name": "ipython",
    "version": 3
   },
   "file_extension": ".py",
   "mimetype": "text/x-python",
   "name": "python",
   "nbconvert_exporter": "python",
   "pygments_lexer": "ipython3",
   "version": "3.11.5"
  }
 },
 "nbformat": 4,
 "nbformat_minor": 2
}
