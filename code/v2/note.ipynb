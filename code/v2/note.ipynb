{
 "cells": [
  {
   "cell_type": "markdown",
   "metadata": {},
   "source": [
    "## Python"
   ]
  },
  {
   "cell_type": "code",
   "execution_count": 5,
   "metadata": {},
   "outputs": [],
   "source": [
    "import pandas as pd\n",
    "import numpy as np\n",
    "import os\n",
    "from datetime import datetime\n",
    "from pathlib import Path\n",
    "from pyarrow.feather import write_feather, read_feather\n",
    "\n",
    "def convert_to_extension_dtypes(data):\n",
    "    \"\"\"\n",
    "    Convert the data types of a given DataFrame or Series to Pandas extension data types.\n",
    "    \n",
    "    :param data: DataFrame or Series\n",
    "    :return: DataFrame or Series with updated data types\n",
    "    \"\"\"\n",
    "    # Check if the input is a DataFrame or Series\n",
    "    if not isinstance(data, (pd.DataFrame, pd.Series)):\n",
    "        raise ValueError(\"Input must be a pandas DataFrame or Series\")\n",
    "\n",
    "    # Convert data types for DataFrame\n",
    "    if isinstance(data, pd.DataFrame):\n",
    "        for col in data.columns:\n",
    "            col_data = data[col]\n",
    "            # Convert to appropriate extension dtype\n",
    "            # if pd.api.types.is_integer_dtype(col_data):\n",
    "            #     data[col] = col_data.astype(\"Int64\")\n",
    "            # elif pd.api.types.is_float_dtype(col_data):\n",
    "            #     data[col] = col_data.astype(\"Float64\")\n",
    "            \n",
    "            if pd.api.types.is_string_dtype(col_data):\n",
    "                data[col] = col_data.astype(\"string\")\n",
    "            elif pd.api.types.is_bool_dtype(col_data):\n",
    "                data[col] = col_data.astype(\"boolean\")\n",
    "\n",
    "    # Convert data type for Series\n",
    "    else:\n",
    "        if pd.api.types.is_integer_dtype(data):\n",
    "            data = data.astype(\"Int64\")\n",
    "        elif pd.api.types.is_float_dtype(data):\n",
    "            data = data.astype(\"Float64\")\n",
    "        elif pd.api.types.is_string_dtype(data):\n",
    "            data = data.astype(\"string\")\n",
    "        elif pd.api.types.is_bool_dtype(data):\n",
    "            data = data.astype(\"boolean\")\n",
    "\n",
    "    return data\n",
    "\n",
    "wdir = '/home/yu/OneDrive/Construal'\n",
    "os.chdir(wdir)"
   ]
  },
  {
   "cell_type": "code",
   "execution_count": 7,
   "metadata": {},
   "outputs": [
    {
     "data": {
      "text/plain": [
       "'code/v2/profile_full.jpg'"
      ]
     },
     "execution_count": 7,
     "metadata": {},
     "output_type": "execute_result"
    }
   ],
   "source": [
    "import shutil\n",
    "\n",
    "pid = 1000117510\n",
    "img = Path(f'/home/yu/chaoyang/research-resources/kickstart-raw-from-amrita/kickstarter-image/{pid}/profile_full.jpg')\n",
    "\n",
    "# Specify the destination folder\n",
    "destination_folder = Path('code/v2')\n",
    "\n",
    "# Copy the file to the destination folder\n",
    "shutil.copy(img, destination_folder)\n"
   ]
  },
  {
   "cell_type": "code",
   "execution_count": null,
   "metadata": {},
   "outputs": [],
   "source": [
    "import os\n",
    "import pandas as pd\n",
    "\n",
    "from flask import Flask, request, render_template\n",
    "from pathlib import Path\n",
    "from mmdet.apis import DetInferencer\n",
    "from PIL import Image\n",
    "from pyarrow.feather import read_feather\n",
    "from scipy.stats import percentileofscore\n",
    "\n",
    "wdir = Path('/home/yu/OneDrive/Construal/code/v2/app/dev')\n",
    "os.chdir(wdir)\n",
    "\n",
    "inferencer = DetInferencer(\n",
    "    # Deformable-DETR (DETR is faster)\n",
    "    model=str(\n",
    "        wdir\n",
    "        / \"data/V3Det/checkpoints/configs/v3det/deformable-detr-refine-twostage_swin_16xb2_sample1e-3_v3det_50e.py\"\n",
    "    ),\n",
    "    weights=str(wdir / \"data/V3Det/checkpoints/Deformable_DETR_V3Det_SwinB.pth\"),\n",
    "    device=\"cpu\",\n",
    ")\n",
    "\n",
    "img_path = Path('/home/yu/OneDrive/Construal/code/v2/profile_full.jpg')\n",
    "\n",
    "# Get the objects in the image\n",
    "objects = inferencer(str(img_path), show=False)[\"predictions\"][0]\n"
   ]
  },
  {
   "cell_type": "code",
   "execution_count": null,
   "metadata": {},
   "outputs": [],
   "source": [
    "\n",
    "# get size of each object\n",
    "obj_size = [w * h for x, y, w, h in objects[\"bboxes\"]]\n",
    "\n",
    "# get the image size\n",
    "with Image.open(img_path) as img:\n",
    "    w, h = img.size\n",
    "    img_size = w * h\n",
    "\n",
    "# get the ratio of each object\n",
    "obj_size_ratio = [x / img_size for x in obj_size]\n",
    "\n",
    "# collect the results into a dataframe\n",
    "df = pd.DataFrame(\n",
    "    {\n",
    "        \"name\": img_path.stem,\n",
    "        \"label\": objects[\"labels\"],\n",
    "        \"score\": objects[\"scores\"],\n",
    "        \"size_ratio\": obj_size_ratio,\n",
    "    }\n",
    ")"
   ]
  },
  {
   "cell_type": "code",
   "execution_count": 3,
   "metadata": {},
   "outputs": [
    {
     "data": {
      "text/html": [
       "<div>\n",
       "<style scoped>\n",
       "    .dataframe tbody tr th:only-of-type {\n",
       "        vertical-align: middle;\n",
       "    }\n",
       "\n",
       "    .dataframe tbody tr th {\n",
       "        vertical-align: top;\n",
       "    }\n",
       "\n",
       "    .dataframe thead th {\n",
       "        text-align: right;\n",
       "    }\n",
       "</style>\n",
       "<table border=\"1\" class=\"dataframe\">\n",
       "  <thead>\n",
       "    <tr style=\"text-align: right;\">\n",
       "      <th></th>\n",
       "      <th>name</th>\n",
       "      <th>label</th>\n",
       "      <th>score</th>\n",
       "      <th>size_ratio</th>\n",
       "    </tr>\n",
       "  </thead>\n",
       "  <tbody>\n",
       "    <tr>\n",
       "      <th>0</th>\n",
       "      <td>profile_full</td>\n",
       "      <td>834</td>\n",
       "      <td>0.454427</td>\n",
       "      <td>1.0</td>\n",
       "    </tr>\n",
       "    <tr>\n",
       "      <th>1</th>\n",
       "      <td>profile_full</td>\n",
       "      <td>262</td>\n",
       "      <td>0.372870</td>\n",
       "      <td>1.0</td>\n",
       "    </tr>\n",
       "    <tr>\n",
       "      <th>2</th>\n",
       "      <td>profile_full</td>\n",
       "      <td>816</td>\n",
       "      <td>0.242126</td>\n",
       "      <td>1.0</td>\n",
       "    </tr>\n",
       "    <tr>\n",
       "      <th>3</th>\n",
       "      <td>profile_full</td>\n",
       "      <td>822</td>\n",
       "      <td>0.171373</td>\n",
       "      <td>1.0</td>\n",
       "    </tr>\n",
       "    <tr>\n",
       "      <th>4</th>\n",
       "      <td>profile_full</td>\n",
       "      <td>869</td>\n",
       "      <td>0.144089</td>\n",
       "      <td>1.0</td>\n",
       "    </tr>\n",
       "    <tr>\n",
       "      <th>5</th>\n",
       "      <td>profile_full</td>\n",
       "      <td>13187</td>\n",
       "      <td>0.117059</td>\n",
       "      <td>1.0</td>\n",
       "    </tr>\n",
       "    <tr>\n",
       "      <th>6</th>\n",
       "      <td>profile_full</td>\n",
       "      <td>13110</td>\n",
       "      <td>0.115787</td>\n",
       "      <td>1.0</td>\n",
       "    </tr>\n",
       "    <tr>\n",
       "      <th>7</th>\n",
       "      <td>profile_full</td>\n",
       "      <td>470</td>\n",
       "      <td>0.106532</td>\n",
       "      <td>1.0</td>\n",
       "    </tr>\n",
       "    <tr>\n",
       "      <th>8</th>\n",
       "      <td>profile_full</td>\n",
       "      <td>830</td>\n",
       "      <td>0.102406</td>\n",
       "      <td>1.0</td>\n",
       "    </tr>\n",
       "  </tbody>\n",
       "</table>\n",
       "</div>"
      ],
      "text/plain": [
       "           name  label     score  size_ratio\n",
       "0  profile_full    834  0.454427         1.0\n",
       "1  profile_full    262  0.372870         1.0\n",
       "2  profile_full    816  0.242126         1.0\n",
       "3  profile_full    822  0.171373         1.0\n",
       "4  profile_full    869  0.144089         1.0\n",
       "5  profile_full  13187  0.117059         1.0\n",
       "6  profile_full  13110  0.115787         1.0\n",
       "7  profile_full    470  0.106532         1.0\n",
       "8  profile_full    830  0.102406         1.0"
      ]
     },
     "execution_count": 3,
     "metadata": {},
     "output_type": "execute_result"
    }
   ],
   "source": [
    "df.loc[df.score>=0.1]"
   ]
  },
  {
   "cell_type": "markdown",
   "metadata": {},
   "source": [
    "## R"
   ]
  },
  {
   "cell_type": "code",
   "execution_count": null,
   "metadata": {},
   "outputs": [],
   "source": [
    "library(arrow)\n",
    "\n",
    "wdir = '/home/yu/OneDrive/Construal/'\n",
    "setwd(wdir)"
   ]
  },
  {
   "cell_type": "code",
   "execution_count": null,
   "metadata": {},
   "outputs": [],
   "source": [
    "x = read_feather(\"data/v2/proj_metrics_p10.feather\")\n",
    "sum = x[, .(pid, mni_k100_v3d, freq_v3d, obj_num, obj_size_lt_10)]\n",
    "sum[1]\n",
    "\n",
    "avg = sum[, .(\n",
    "    pid, mni=mni_k100_v3d/obj_num, \n",
    "    unique_v3d=freq_v3d/obj_num,\n",
    "    readability=0.4 * (obj_num + 100 * obj_size_lt_10 / obj_num))]\n",
    "avg[1]\n"
   ]
  },
  {
   "cell_type": "code",
   "execution_count": null,
   "metadata": {},
   "outputs": [],
   "source": []
  }
 ],
 "metadata": {
  "kernelspec": {
   "display_name": "py311-mmdet",
   "language": "python",
   "name": "python3"
  },
  "language_info": {
   "codemirror_mode": {
    "name": "ipython",
    "version": 3
   },
   "file_extension": ".py",
   "mimetype": "text/x-python",
   "name": "python",
   "nbconvert_exporter": "python",
   "pygments_lexer": "ipython3",
   "version": "3.11.6"
  }
 },
 "nbformat": 4,
 "nbformat_minor": 2
}
