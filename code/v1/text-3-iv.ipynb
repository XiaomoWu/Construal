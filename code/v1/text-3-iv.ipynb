{
 "cells": [
  {
   "cell_type": "markdown",
   "metadata": {},
   "source": [
    "# Add IV"
   ]
  },
  {
   "cell_type": "markdown",
   "metadata": {},
   "source": [
    "Steps:\n",
    "1. For every product title, only extract the nouns,\n",
    "2. For every noun, find its K nearest neighbors according to word embedding\n",
    "3. Among the K+1 words, select the most common word as the \"generic form\" of the noun.\n",
    "4. Repeat for every noun\n",
    "5. compute the average concreteness score of the nouns"
   ]
  },
  {
   "cell_type": "code",
   "execution_count": 5,
   "metadata": {},
   "outputs": [],
   "source": [
    "import datatable as dt\n",
    "import numpy as np\n",
    "import os\n",
    "import torch\n",
    "import torch.nn.functional as F\n",
    "import torchtext\n",
    "\n",
    "from datatable import f, fread\n",
    "from sklearn.metrics.pairwise import cosine_distances\n",
    "from tqdm import tqdm\n",
    "from utilpy import ld, sv\n",
    "\n",
    "from IPython.core.interactiveshell import InteractiveShell\n",
    "InteractiveShell.ast_node_interactivity = 'all'\n",
    "\n",
    "WORK_DIR = '/home/yu/OneDrive/Construal/'\n",
    "os.chdir(WORK_DIR)"
   ]
  },
  {
   "cell_type": "markdown",
   "metadata": {},
   "source": [
    "## extract the nouns from title\n"
   ]
  },
  {
   "cell_type": "code",
   "execution_count": 2,
   "metadata": {},
   "outputs": [
    {
     "name": "stdout",
     "output_type": "stream",
     "text": [
      "\"pjson.feather\" (167.5 MB) loaded (<1s) (2022-09-22 1:03 AM)\n"
     ]
    }
   ],
   "source": [
    "# get titles\n",
    "pjson = ld('pjson')\n",
    "titles = pjson[(f.category=='Product Design') | (f.category=='Accessories'), f.title].to_list()[0]\n",
    "titles = [t.strip() for t in titles]\n",
    "\n",
    "# get description (only select product design)\n",
    "descs = pjson[(f.category=='Product Design') | (f.category=='Accessories'), f.project_desc].to_list()[0]\n",
    "descs = [d.strip() for d in descs]"
   ]
  },
  {
   "cell_type": "code",
   "execution_count": 4,
   "metadata": {},
   "outputs": [],
   "source": [
    "# find out all the nouns in the noun_chunk\n",
    "# here I create two versions:\n",
    "# - v1: include all the nouns in the noun chunk\n",
    "# - v2: only the root of the noun chunk\n",
    "# Output: title_nouns\n",
    "import spacy\n",
    "\n",
    "nlp = spacy.load('en_core_web_sm')\n",
    "\n",
    "# parse title\n",
    "titles = list(nlp.pipe(titles))\n",
    "\n",
    "# parse desc (keep first 200 words)\n",
    "descs = list(nlp.pipe(descs))"
   ]
  },
  {
   "cell_type": "code",
   "execution_count": null,
   "metadata": {},
   "outputs": [],
   "source": [
    "def get_nouns(docs, keep_first=None):\n",
    "    '''\n",
    "    Args:\n",
    "        keep_first: only keep first N words\n",
    "    '''\n",
    "    output_v1 = []\n",
    "    output_v2 = []\n",
    "    for doc in tqdm(docs):\n",
    "        if keep_first is not None:\n",
    "            doc = doc[0:keep_first]\n",
    "        nouns_v1 = []\n",
    "        nouns_v2 = []\n",
    "        for chunk in doc.noun_chunks:\n",
    "            # v1\n",
    "            for token in chunk:\n",
    "                if token.pos_ in ['NOUN', 'PROPN']:\n",
    "                    nouns_v1.append(token.text)   \n",
    "            # v2\n",
    "            if chunk.root.pos_ in ['NOUN', 'PROPN']:\n",
    "                nouns_v2.append(chunk.root.text)\n",
    "        output_v1.append(nouns_v1)\n",
    "        output_v2.append(nouns_v2)\n",
    "    return output_v1, output_v2\n",
    "\n",
    "title_nouns_v1, title_nouns_v2 = get_nouns(titles)\n",
    "desc_nouns_v1, desc_nouns_v2 = get_nouns(descs, keep_first=200)"
   ]
  },
  {
   "cell_type": "code",
   "execution_count": null,
   "metadata": {},
   "outputs": [],
   "source": [
    "title_nouns_v1 = torch.load('title_nouns_v1.pt')\n",
    "title_nouns_v2 = torch.load('title_nouns_v2.pt')\n",
    "desc_nouns_v1 = torch.load('desc_nouns_v1.pt')\n",
    "desc_nouns_v2 = torch.load('desc_nouns_v2.pt')"
   ]
  },
  {
   "cell_type": "markdown",
   "metadata": {},
   "source": [
    "## find nearest k neighbors"
   ]
  },
  {
   "cell_type": "code",
   "execution_count": 4,
   "metadata": {},
   "outputs": [],
   "source": [
    "# load word embeddings\n",
    "\n",
    "glove = torchtext.vocab.GloVe()\n",
    "fasttext = torchtext.vocab.FastText()\n",
    "charngram = torchtext.vocab.CharNGram()"
   ]
  },
  {
   "cell_type": "code",
   "execution_count": 5,
   "metadata": {},
   "outputs": [
    {
     "name": "stderr",
     "output_type": "stream",
     "text": [
      "100%|██████████| 3759/3759 [02:09<00:00, 29.08it/s]\n",
      "100%|██████████| 3759/3759 [00:56<00:00, 66.90it/s]\n",
      "100%|██████████| 3759/3759 [02:30<00:00, 25.01it/s]\n",
      "100%|██████████| 3759/3759 [01:05<00:00, 57.00it/s]\n",
      "100%|██████████| 3759/3759 [23:29<00:00,  2.67it/s]\n",
      "100%|██████████| 3759/3759 [17:18<00:00,  3.62it/s]\n",
      "100%|██████████| 3759/3759 [27:25<00:00,  2.28it/s]\n",
      "100%|██████████| 3759/3759 [20:12<00:00,  3.10it/s]\n"
     ]
    }
   ],
   "source": [
    "# get k nearest neighbors\n",
    "def get_most_frequent_token(freqdict, tokens) -> str:\n",
    "    max_ix = np.array([freqdict.get(t.lower(), -np.inf) for t in tokens]).argmax()\n",
    "    return tokens[max_ix]\n",
    "    \n",
    "def get_title_generic_form(vocab, title_nouns, k_list=[0, 3, 5, 10], device='cuda:0', include_self=True):\n",
    "    # import frequency dict\n",
    "    freqdict = fread('data/freqdict.csv')\n",
    "    freqdict = {token: freq for (token, freq) in freqdict.to_tuples()}\n",
    "\n",
    "    # get the embedding for every title token\n",
    "    generic_nouns = []\n",
    "    vocab_embs = F.normalize(vocab.vectors.to(device), p=2, dim=-1)\n",
    "    for title_noun in tqdm(title_nouns):\n",
    "        # title_noun: the List of all nouns in one title\n",
    "        generic_noun = []\n",
    "        for noun in title_noun:\n",
    "            noun = noun.lower() if isinstance(vocab, torchtext.vocab.FastText) else noun\n",
    "            noun_emb = vocab[noun].unsqueeze(0).to(device)\n",
    "\n",
    "            with torch.no_grad():\n",
    "                dist = torch.matmul(vocab_embs, noun_emb.T).squeeze()\n",
    "\n",
    "            generic_noun_k = {}\n",
    "            for k in k_list:\n",
    "                if include_self:\n",
    "                    knn_ix = dist.argsort(descending=True)[:(k+1)]\n",
    "                elif not include_self:\n",
    "                    knn_ix = dist.argsort(descending=True)[1:(k+1)]\n",
    "\n",
    "                knn_tokens = [vocab.itos[ix] for ix in knn_ix]\n",
    "                generic_form = get_most_frequent_token(freqdict, knn_tokens)\n",
    "                generic_noun_k[k] = generic_form\n",
    "                \n",
    "            generic_noun.append(generic_noun_k)\n",
    "        \n",
    "        generic_nouns.append(generic_noun)\n",
    "    \n",
    "    # collate results by k\n",
    "    from collections import defaultdict\n",
    "\n",
    "    output = defaultdict(list)\n",
    "    for k in k_list:\n",
    "        for title_nouns in generic_nouns:\n",
    "            values = []\n",
    "            for d in title_nouns:\n",
    "                values.append(d[k])\n",
    "            output[k].append(values)\n",
    "\n",
    "    # clean cuda memory\n",
    "    del vocab_embs, noun_emb, dist, knn_ix\n",
    "\n",
    "    return output\n",
    "\n",
    "# ---- title ----\n",
    "# include self\n",
    "# title_generic_nouns_v1_glove = get_title_generic_form(glove, title_nouns_v1, k_list=[0, 3, 5, 10])\n",
    "# torch.save(title_generic_nouns_v1_glove, '/home/yu/OneDrive/Construal/data/title_generic_nouns_v1_glove.pt')\n",
    "# title_generic_nouns_v2_glove = get_title_generic_form(glove, title_nouns_v2, k_list=[0, 3, 5, 10])\n",
    "# torch.save(title_generic_nouns_v2_glove, '/home/yu/OneDrive/Construal/data/title_generic_nouns_v2_glove.pt')\n",
    "# title_generic_nouns_v1_fasttext = get_title_generic_form(fasttext, title_nouns_v1, k_list=[0, 3, 5, 10])\n",
    "# torch.save(title_generic_nouns_v1_fasttext, '/home/yu/OneDrive/Construal/data/title_generic_nouns_v1_fasttext.pt')\n",
    "# title_generic_nouns_v2_fasttext = get_title_generic_form(fasttext, title_nouns_v2, k_list=[0, 3, 5, 10])\n",
    "# torch.save(title_generic_nouns_v2_fasttext, '/home/yu/OneDrive/Construal/data/title_generic_nouns_v2_fasttext.pt')\n",
    "\n",
    "# not include self\n",
    "title_generic_nouns_v1_glove_exclude_self = get_title_generic_form(glove, title_nouns_v1, k_list=[3, 5, 10], include_self=False)\n",
    "torch.save(title_generic_nouns_v1_glove_exclude_self, '/home/yu/OneDrive/Construal/data/title_generic_nouns_v1_glove_exclude_self.pt')\n",
    "title_generic_nouns_v2_glove_exclude_self = get_title_generic_form(glove, title_nouns_v2, k_list=[3, 5, 10], include_self=False)\n",
    "torch.save(title_generic_nouns_v2_glove_exclude_self, '/home/yu/OneDrive/Construal/data/title_generic_nouns_v2_glove_exclude_self.pt')\n",
    "title_generic_nouns_v1_fasttext_exclude_self = get_title_generic_form(fasttext, title_nouns_v1, k_list=[3, 5, 10], include_self=False)\n",
    "torch.save(title_generic_nouns_v1_fasttext_exclude_self, '/home/yu/OneDrive/Construal/data/title_generic_nouns_v1_fasttext_exclude_self.pt')\n",
    "title_generic_nouns_v2_fasttext_exclude_self = get_title_generic_form(fasttext, title_nouns_v2, k_list=[3, 5, 10], include_self=False)\n",
    "torch.save(title_generic_nouns_v2_fasttext_exclude_self, '/home/yu/OneDrive/Construal/data/title_generic_nouns_v2_fasttext_exclude_self.pt')\n",
    "\n",
    "# ---- desc ----\n",
    "# include self\n",
    "# desc_generic_nouns_v1_glove = get_title_generic_form(glove, desc_nouns_v1, k_list=[0, 3, 5, 10])\n",
    "# torch.save(desc_generic_nouns_v1_glove, '/home/yu/OneDrive/Construal/data/desc_generic_nouns_v1_glove.pt')\n",
    "# desc_generic_nouns_v2_glove = get_title_generic_form(glove, desc_nouns_v2, k_list=[0, 3, 5, 10])\n",
    "# torch.save(desc_generic_nouns_v2_glove, '/home/yu/OneDrive/Construal/data/desc_generic_nouns_v2_glove.pt')\n",
    "# desc_generic_nouns_v1_fasttext = get_title_generic_form(fasttext, desc_nouns_v1, k_list=[0, 3, 5, 10])\n",
    "# torch.save(desc_generic_nouns_v1_fasttext, '/home/yu/OneDrive/Construal/data/desc_generic_nouns_v1_fasttext.pt')\n",
    "# desc_generic_nouns_v2_fasttext = get_title_generic_form(fasttext, desc_nouns_v2, k_list=[0, 3, 5, 10])\n",
    "# torch.save(desc_generic_nouns_v2_fasttext, '/home/yu/OneDrive/Construal/data/desc_generic_nouns_v2_fasttext.pt')\n",
    "\n",
    "# not include self\n",
    "desc_generic_nouns_v1_glove_exclude_self = get_title_generic_form(glove, desc_nouns_v1, k_list=[3, 5, 10], include_self=False)\n",
    "torch.save(desc_generic_nouns_v1_glove_exclude_self, '/home/yu/OneDrive/Construal/data/desc_generic_nouns_v1_glove_exclude_self.pt')\n",
    "desc_generic_nouns_v2_glove_exclude_self = get_title_generic_form(glove, desc_nouns_v2, k_list=[3, 5, 10], include_self=False)\n",
    "torch.save(desc_generic_nouns_v2_glove_exclude_self, '/home/yu/OneDrive/Construal/data/desc_generic_nouns_v2_glove_exclude_self.pt')\n",
    "desc_generic_nouns_v1_fasttext_exclude_self = get_title_generic_form(fasttext, desc_nouns_v1, k_list=[3, 5, 10], include_self=False)\n",
    "torch.save(desc_generic_nouns_v1_fasttext_exclude_self, '/home/yu/OneDrive/Construal/data/desc_generic_nouns_v1_fasttext_exclude_self.pt')\n",
    "desc_generic_nouns_v2_fasttext_exclude_self = get_title_generic_form(fasttext, desc_nouns_v2, k_list=[3, 5, 10], include_self=False)\n",
    "torch.save(desc_generic_nouns_v2_fasttext_exclude_self, '/home/yu/OneDrive/Construal/data/desc_generic_nouns_v2_fasttext_exclude_self.pt')\n"
   ]
  },
  {
   "cell_type": "code",
   "execution_count": 5,
   "metadata": {},
   "outputs": [],
   "source": [
    "nouns = torch.load('/home/yu/OneDrive/Construal/data/title_generic_nouns_v2_glove_exclude_self.pt')\n"
   ]
  },
  {
   "cell_type": "code",
   "execution_count": 12,
   "metadata": {},
   "outputs": [
    {
     "data": {
      "text/plain": [
       "['Shade', 'sunglasses', 'Head']"
      ]
     },
     "execution_count": 12,
     "metadata": {},
     "output_type": "execute_result"
    }
   ],
   "source": [
    "nouns[3][4]"
   ]
  },
  {
   "cell_type": "markdown",
   "metadata": {},
   "source": [
    "## compute concreteness"
   ]
  },
  {
   "cell_type": "code",
   "execution_count": 2,
   "metadata": {},
   "outputs": [
    {
     "name": "stderr",
     "output_type": "stream",
     "text": [
      "100%|██████████| 4/4 [00:00<00:00, 29.39it/s]\n",
      "100%|██████████| 4/4 [00:00<00:00, 125.11it/s]\n",
      "100%|██████████| 4/4 [00:00<00:00, 120.86it/s]\n",
      "100%|██████████| 4/4 [00:00<00:00, 213.90it/s]\n",
      "100%|██████████| 3/3 [00:00<00:00, 117.26it/s]\n",
      "100%|██████████| 3/3 [00:00<00:00, 88.67it/s]\n",
      "100%|██████████| 3/3 [00:00<00:00, 87.72it/s]\n",
      "100%|██████████| 3/3 [00:00<00:00, 55.78it/s]\n",
      "100%|██████████| 4/4 [00:00<00:00,  5.90it/s]\n",
      "100%|██████████| 4/4 [00:00<00:00, 34.51it/s]\n",
      "100%|██████████| 4/4 [00:00<00:00, 13.01it/s]\n",
      "100%|██████████| 4/4 [00:00<00:00, 20.84it/s]\n",
      "100%|██████████| 3/3 [00:00<00:00, 27.12it/s]\n",
      "100%|██████████| 3/3 [00:00<00:00, 22.40it/s]\n",
      "100%|██████████| 3/3 [00:00<00:00,  7.57it/s]\n",
      "100%|██████████| 3/3 [00:00<00:00, 10.97it/s]\n"
     ]
    }
   ],
   "source": [
    "def get_avg_bscore(title_generic_nouns):\n",
    "    # load bscore dict\n",
    "    bscore_dict = fread('/home/yu/OneDrive/Construal/data/concreteness_score.csv')\n",
    "    bscore_dict = bscore_dict[:, {'word': f.Word, 'score': f['Conc.M']}].to_tuples()\n",
    "    bscore_dict = {word.strip(): score for word, score in bscore_dict}\n",
    "\n",
    "    # compute avg bscore\n",
    "    output = {}\n",
    "    for k, generic_nouns in tqdm(title_generic_nouns.items()):\n",
    "        scores = []\n",
    "        for doc in generic_nouns:\n",
    "            score = [bscore_dict.get(token.lower(), None) for token in doc]\n",
    "            score = list(filter(None, score))\n",
    "            # some doc may not contain any \"concrete\" words\n",
    "            if len(score) == 0:\n",
    "                avg_score = None\n",
    "            else:\n",
    "                avg_score = sum(score)/len(score)\n",
    "            scores.append(avg_score)\n",
    "        output[k] = scores\n",
    "\n",
    "    return output\n",
    "\n",
    "# ---- title ----\n",
    "# include self\n",
    "title_generic_nouns_v1_glove = torch.load('/home/yu/OneDrive/Construal/data/title_generic_nouns_v1_glove.pt')\n",
    "title_generic_nouns_v2_glove = torch.load('/home/yu/OneDrive/Construal/data/title_generic_nouns_v2_glove.pt')\n",
    "title_generic_nouns_v1_fasttext = torch.load('/home/yu/OneDrive/Construal/data/title_generic_nouns_v1_fasttext.pt')\n",
    "title_generic_nouns_v2_fasttext = torch.load('/home/yu/OneDrive/Construal/data/title_generic_nouns_v2_fasttext.pt')\n",
    "\n",
    "title_bscore_v1_glove = get_avg_bscore(title_generic_nouns_v1_glove)\n",
    "title_bscore_v2_glove = get_avg_bscore(title_generic_nouns_v2_glove)\n",
    "title_bscore_v1_fasttext = get_avg_bscore(title_generic_nouns_v1_fasttext)\n",
    "title_bscore_v2_fasttext = get_avg_bscore(title_generic_nouns_v2_fasttext)\n",
    "\n",
    "# exclude self\n",
    "title_generic_nouns_v1_glove_exclude_self = torch.load('/home/yu/OneDrive/Construal/data/title_generic_nouns_v1_glove_exclude_self.pt')\n",
    "title_generic_nouns_v2_glove_exclude_self = torch.load('/home/yu/OneDrive/Construal/data/title_generic_nouns_v2_glove_exclude_self.pt')\n",
    "title_generic_nouns_v1_fasttext_exclude_self = torch.load('/home/yu/OneDrive/Construal/data/title_generic_nouns_v1_fasttext_exclude_self.pt')\n",
    "title_generic_nouns_v2_fasttext_exclude_self = torch.load('/home/yu/OneDrive/Construal/data/title_generic_nouns_v2_fasttext_exclude_self.pt')\n",
    "\n",
    "title_bscore_v1_glove_exclude_self = get_avg_bscore(title_generic_nouns_v1_glove_exclude_self)\n",
    "title_bscore_v2_glove_exclude_self = get_avg_bscore(title_generic_nouns_v2_glove_exclude_self)\n",
    "title_bscore_v1_fasttext_exclude_self = get_avg_bscore(title_generic_nouns_v1_fasttext_exclude_self)\n",
    "title_bscore_v2_fasttext_exclude_self = get_avg_bscore(title_generic_nouns_v2_fasttext_exclude_self)\n",
    "\n",
    "# ---- desc ----\n",
    "# include self\n",
    "desc_generic_nouns_v1_glove = torch.load('/home/yu/OneDrive/Construal/data/desc_generic_nouns_v1_glove.pt')\n",
    "desc_generic_nouns_v2_glove = torch.load('/home/yu/OneDrive/Construal/data/desc_generic_nouns_v2_glove.pt')\n",
    "desc_generic_nouns_v1_fasttext = torch.load('/home/yu/OneDrive/Construal/data/desc_generic_nouns_v1_fasttext.pt')\n",
    "desc_generic_nouns_v2_fasttext = torch.load('/home/yu/OneDrive/Construal/data/desc_generic_nouns_v2_fasttext.pt')\n",
    "\n",
    "desc_bscore_v1_glove = get_avg_bscore(desc_generic_nouns_v1_glove)\n",
    "desc_bscore_v2_glove = get_avg_bscore(desc_generic_nouns_v2_glove)\n",
    "desc_bscore_v1_fasttext = get_avg_bscore(desc_generic_nouns_v1_fasttext)\n",
    "desc_bscore_v2_fasttext = get_avg_bscore(desc_generic_nouns_v2_fasttext)\n",
    "\n",
    "# exclude self\n",
    "desc_generic_nouns_v1_glove_exclude_self = torch.load('/home/yu/OneDrive/Construal/data/desc_generic_nouns_v1_glove_exclude_self.pt')\n",
    "desc_generic_nouns_v2_glove_exclude_self = torch.load('/home/yu/OneDrive/Construal/data/desc_generic_nouns_v2_glove_exclude_self.pt')\n",
    "desc_generic_nouns_v1_fasttext_exclude_self = torch.load('/home/yu/OneDrive/Construal/data/desc_generic_nouns_v1_fasttext_exclude_self.pt')\n",
    "desc_generic_nouns_v2_fasttext_exclude_self = torch.load('/home/yu/OneDrive/Construal/data/desc_generic_nouns_v2_fasttext_exclude_self.pt')\n",
    "\n",
    "desc_bscore_v1_glove_exclude_self = get_avg_bscore(desc_generic_nouns_v1_glove_exclude_self)\n",
    "desc_bscore_v2_glove_exclude_self = get_avg_bscore(desc_generic_nouns_v2_glove_exclude_self)\n",
    "desc_bscore_v1_fasttext_exclude_self = get_avg_bscore(desc_generic_nouns_v1_fasttext_exclude_self)\n",
    "desc_bscore_v2_fasttext_exclude_self = get_avg_bscore(desc_generic_nouns_v2_fasttext_exclude_self)"
   ]
  },
  {
   "cell_type": "code",
   "execution_count": 3,
   "metadata": {},
   "outputs": [
    {
     "name": "stdout",
     "output_type": "stream",
     "text": [
      "\"pjson.feather\" (167.5 MB) loaded (1s) (2022-07-29 2:06 PM)\n",
      "Saved as \"generic_bscore.feather\" (1.2 MB) (<1s) (2022-07-29 2:06 PM)\n"
     ]
    }
   ],
   "source": [
    "def combine(inputs):\n",
    "    pjson = ld('pjson')\n",
    "    pjson = pjson[(f.category=='Product Design') | (f.category=='Accessories'), ['pid', 'category']]\n",
    "\n",
    "    for emb_type, bscores in inputs.items():\n",
    "        # variables with \"ex\" in their names are excluding itself in searching of\n",
    "        # the generic form.\n",
    "        if 'excludeself' in emb_type.split('_'):\n",
    "            doctype, version, vocab, excludeself = emb_type.split('_')\n",
    "            for k, bscore in bscores.items():\n",
    "                pjson[f'gbscore_{doctype}_{version}_{vocab}_k{k}_ex'] = dt.Frame(bscore)\n",
    "        else:\n",
    "            doctype, version, vocab = emb_type.split('_')\n",
    "            for k, bscore in bscores.items():\n",
    "                pjson[f'gbscore_{doctype}_{version}_{vocab}_k{k}'] = dt.Frame(bscore)\n",
    "\n",
    "    return pjson\n",
    "\n",
    "generic_bscore = combine({\n",
    "    'title_v1_glove': title_bscore_v1_glove,\n",
    "    'title_v1_glove_excludeself': title_bscore_v1_glove_exclude_self,\n",
    "    'title_v2_glove': title_bscore_v2_glove,\n",
    "    'title_v2_glove_excludeself': title_bscore_v2_glove_exclude_self,\n",
    "    'title_v1_fasttext': title_bscore_v1_fasttext,\n",
    "    'title_v1_fasttext_excludeself': title_bscore_v1_fasttext_exclude_self,\n",
    "    'title_v2_fasttext': title_bscore_v2_fasttext,\n",
    "    'title_v2_fasttext_excludeself': title_bscore_v2_fasttext_exclude_self,\n",
    "    'desc_v1_glove': desc_bscore_v1_glove,\n",
    "    'desc_v1_glove_excludeself': desc_bscore_v1_glove_exclude_self,\n",
    "    'desc_v2_glove': desc_bscore_v2_glove,\n",
    "    'desc_v2_glove_excludeself': desc_bscore_v2_glove_exclude_self,\n",
    "    'desc_v1_fasttext': desc_bscore_v1_fasttext,\n",
    "    'desc_v1_fasttext_excludeself': desc_bscore_v1_fasttext_exclude_self,\n",
    "    'desc_v2_fasttext': desc_bscore_v2_fasttext,\n",
    "    'desc_v2_fasttext_excludeself': desc_bscore_v2_fasttext_exclude_self\n",
    "})\n",
    "\n",
    "\n",
    "\n",
    "# save data\n",
    "sv(generic_bscore, 'generic_bscore')  # feather\n",
    "generic_bscore.to_pandas().to_stata('/home/yu/OneDrive/Construal/data/sharing/generic_bscore.dta')  # stata"
   ]
  },
  {
   "cell_type": "markdown",
   "metadata": {},
   "source": [
    "## Generate examples\n",
    "\n",
    "Steps:\n",
    "\n",
    "- Given one project title\n",
    "- Find out the nouns in the title\n",
    "- Let's pick one noun, \"X\", for example.\n",
    "- Find X's closest neighbors based on GloVe.\n",
    "- Plot them in a 2D space."
   ]
  },
  {
   "cell_type": "code",
   "execution_count": 6,
   "metadata": {},
   "outputs": [],
   "source": [
    "import plotly.graph_objs as go\n",
    "import torchtext\n",
    "from datatable import f, fread\n",
    "\n",
    "# init spacy\n",
    "import spacy\n",
    "nlp = spacy.load('en_core_web_sm')\n",
    "\n",
    "# load word embeddings\n",
    "glove = torchtext.vocab.GloVe()\n",
    "# fasttext = torchtext.vocab.FastText()\n",
    "# charngram = torchtext.vocab.CharNGram()\n",
    "\n",
    "# get freq dict\n",
    "freqdict = fread('data/freqdict.csv')\n",
    "freqdict = {token: freq for (token, freq) in freqdict.to_tuples()}"
   ]
  },
  {
   "cell_type": "code",
   "execution_count": 7,
   "metadata": {},
   "outputs": [
    {
     "name": "stdout",
     "output_type": "stream",
     "text": [
      "\"pjson.feather\" (167.5 MB) loaded (<1s) (2022-09-22 3:42 PM)\n"
     ]
    },
    {
     "name": "stderr",
     "output_type": "stream",
     "text": [
      "100%|██████████| 10/10 [00:00<00:00, 58991.62it/s]\n"
     ]
    }
   ],
   "source": [
    "# get titles\n",
    "pjson = ld('pjson')\n",
    "titles = pjson[(f.category=='Product Design') | (f.category=='Accessories'), f.title].to_list()[0]\n",
    "titles = [t.strip() for t in titles]\n",
    "\n",
    "# tokenize the titles\n",
    "titles = list(nlp.pipe(titles[:10]))\n",
    "\n",
    "# get the nouns in the titles\n",
    "def get_nouns(docs, keep_first=None):\n",
    "    '''\n",
    "    Args:\n",
    "        keep_first: only keep first N words\n",
    "    '''\n",
    "    output_v1 = []\n",
    "    output_v2 = []\n",
    "    for doc in tqdm(docs):\n",
    "        if keep_first is not None:\n",
    "            doc = doc[0:keep_first]\n",
    "        nouns_v1 = []\n",
    "        nouns_v2 = []\n",
    "        for chunk in doc.noun_chunks:\n",
    "            # v1\n",
    "            for token in chunk:\n",
    "                if token.pos_ in ['NOUN', 'PROPN']:\n",
    "                    nouns_v1.append(token.text)   \n",
    "            # v2\n",
    "            if chunk.root.pos_ in ['NOUN', 'PROPN']:\n",
    "                nouns_v2.append(chunk.root.text)\n",
    "        output_v1.append(nouns_v1)\n",
    "        output_v2.append(nouns_v2)\n",
    "    return output_v1, output_v2\n",
    "\n",
    "titles_nouns_v1, titles_nouns_v2 = get_nouns(titles)"
   ]
  },
  {
   "cell_type": "code",
   "execution_count": 18,
   "metadata": {},
   "outputs": [
    {
     "name": "stderr",
     "output_type": "stream",
     "text": [
      "/home/yu/OneDrive/App/python/python-env/py39-base/lib/python3.9/site-packages/sklearn/manifold/_t_sne.py:795: FutureWarning:\n",
      "\n",
      "The default initialization in TSNE will change from 'random' to 'pca' in 1.2.\n",
      "\n",
      "/home/yu/OneDrive/App/python/python-env/py39-base/lib/python3.9/site-packages/sklearn/manifold/_t_sne.py:805: FutureWarning:\n",
      "\n",
      "The default learning rate in TSNE will change from 200.0 to 'auto' in 1.2.\n",
      "\n"
     ]
    },
    {
     "data": {
      "application/vnd.plotly.v1+json": {
       "config": {
        "plotlyServerURL": "https://plot.ly"
       },
       "data": [
        {
         "marker": {
          "color": [
           "red",
           "blue",
           "blue",
           "blue",
           "blue",
           "blue",
           "blue",
           "blue",
           "blue",
           "blue",
           "blue"
          ],
          "opacity": 0.8,
          "size": 10
         },
         "mode": "markers+text",
         "text": [
          "parasol",
          "parasols",
          "Parasol",
          "umbrellas",
          "sunshade",
          "chaise",
          "lounger",
          "umbrella",
          "loungers",
          "arbour",
          "sunloungers"
         ],
         "textfont": {
          "size": 20
         },
         "textposition": "top center",
         "type": "scatter",
         "x": [
          158.3042449951172,
          -154.90863037109375,
          -213.98086547851562,
          378.7588195800781,
          -381.8619079589844,
          148.3857421875,
          -51.12901306152344,
          137.89060974121094,
          -511.8412780761719,
          509.044677734375,
          518.2914428710938
         ],
         "y": [
          152.85916137695312,
          -15.818743705749512,
          376.240234375,
          -486.5989685058594,
          -316.0079040527344,
          530.9161376953125,
          -527.2027587890625,
          -201.22982788085938,
          96.37503051757812,
          293.8718566894531,
          -99.62893676757812
         ]
        }
       ],
       "layout": {
        "template": {
         "data": {
          "bar": [
           {
            "error_x": {
             "color": "#2a3f5f"
            },
            "error_y": {
             "color": "#2a3f5f"
            },
            "marker": {
             "line": {
              "color": "#E5ECF6",
              "width": 0.5
             },
             "pattern": {
              "fillmode": "overlay",
              "size": 10,
              "solidity": 0.2
             }
            },
            "type": "bar"
           }
          ],
          "barpolar": [
           {
            "marker": {
             "line": {
              "color": "#E5ECF6",
              "width": 0.5
             },
             "pattern": {
              "fillmode": "overlay",
              "size": 10,
              "solidity": 0.2
             }
            },
            "type": "barpolar"
           }
          ],
          "carpet": [
           {
            "aaxis": {
             "endlinecolor": "#2a3f5f",
             "gridcolor": "white",
             "linecolor": "white",
             "minorgridcolor": "white",
             "startlinecolor": "#2a3f5f"
            },
            "baxis": {
             "endlinecolor": "#2a3f5f",
             "gridcolor": "white",
             "linecolor": "white",
             "minorgridcolor": "white",
             "startlinecolor": "#2a3f5f"
            },
            "type": "carpet"
           }
          ],
          "choropleth": [
           {
            "colorbar": {
             "outlinewidth": 0,
             "ticks": ""
            },
            "type": "choropleth"
           }
          ],
          "contour": [
           {
            "colorbar": {
             "outlinewidth": 0,
             "ticks": ""
            },
            "colorscale": [
             [
              0,
              "#0d0887"
             ],
             [
              0.1111111111111111,
              "#46039f"
             ],
             [
              0.2222222222222222,
              "#7201a8"
             ],
             [
              0.3333333333333333,
              "#9c179e"
             ],
             [
              0.4444444444444444,
              "#bd3786"
             ],
             [
              0.5555555555555556,
              "#d8576b"
             ],
             [
              0.6666666666666666,
              "#ed7953"
             ],
             [
              0.7777777777777778,
              "#fb9f3a"
             ],
             [
              0.8888888888888888,
              "#fdca26"
             ],
             [
              1,
              "#f0f921"
             ]
            ],
            "type": "contour"
           }
          ],
          "contourcarpet": [
           {
            "colorbar": {
             "outlinewidth": 0,
             "ticks": ""
            },
            "type": "contourcarpet"
           }
          ],
          "heatmap": [
           {
            "colorbar": {
             "outlinewidth": 0,
             "ticks": ""
            },
            "colorscale": [
             [
              0,
              "#0d0887"
             ],
             [
              0.1111111111111111,
              "#46039f"
             ],
             [
              0.2222222222222222,
              "#7201a8"
             ],
             [
              0.3333333333333333,
              "#9c179e"
             ],
             [
              0.4444444444444444,
              "#bd3786"
             ],
             [
              0.5555555555555556,
              "#d8576b"
             ],
             [
              0.6666666666666666,
              "#ed7953"
             ],
             [
              0.7777777777777778,
              "#fb9f3a"
             ],
             [
              0.8888888888888888,
              "#fdca26"
             ],
             [
              1,
              "#f0f921"
             ]
            ],
            "type": "heatmap"
           }
          ],
          "heatmapgl": [
           {
            "colorbar": {
             "outlinewidth": 0,
             "ticks": ""
            },
            "colorscale": [
             [
              0,
              "#0d0887"
             ],
             [
              0.1111111111111111,
              "#46039f"
             ],
             [
              0.2222222222222222,
              "#7201a8"
             ],
             [
              0.3333333333333333,
              "#9c179e"
             ],
             [
              0.4444444444444444,
              "#bd3786"
             ],
             [
              0.5555555555555556,
              "#d8576b"
             ],
             [
              0.6666666666666666,
              "#ed7953"
             ],
             [
              0.7777777777777778,
              "#fb9f3a"
             ],
             [
              0.8888888888888888,
              "#fdca26"
             ],
             [
              1,
              "#f0f921"
             ]
            ],
            "type": "heatmapgl"
           }
          ],
          "histogram": [
           {
            "marker": {
             "pattern": {
              "fillmode": "overlay",
              "size": 10,
              "solidity": 0.2
             }
            },
            "type": "histogram"
           }
          ],
          "histogram2d": [
           {
            "colorbar": {
             "outlinewidth": 0,
             "ticks": ""
            },
            "colorscale": [
             [
              0,
              "#0d0887"
             ],
             [
              0.1111111111111111,
              "#46039f"
             ],
             [
              0.2222222222222222,
              "#7201a8"
             ],
             [
              0.3333333333333333,
              "#9c179e"
             ],
             [
              0.4444444444444444,
              "#bd3786"
             ],
             [
              0.5555555555555556,
              "#d8576b"
             ],
             [
              0.6666666666666666,
              "#ed7953"
             ],
             [
              0.7777777777777778,
              "#fb9f3a"
             ],
             [
              0.8888888888888888,
              "#fdca26"
             ],
             [
              1,
              "#f0f921"
             ]
            ],
            "type": "histogram2d"
           }
          ],
          "histogram2dcontour": [
           {
            "colorbar": {
             "outlinewidth": 0,
             "ticks": ""
            },
            "colorscale": [
             [
              0,
              "#0d0887"
             ],
             [
              0.1111111111111111,
              "#46039f"
             ],
             [
              0.2222222222222222,
              "#7201a8"
             ],
             [
              0.3333333333333333,
              "#9c179e"
             ],
             [
              0.4444444444444444,
              "#bd3786"
             ],
             [
              0.5555555555555556,
              "#d8576b"
             ],
             [
              0.6666666666666666,
              "#ed7953"
             ],
             [
              0.7777777777777778,
              "#fb9f3a"
             ],
             [
              0.8888888888888888,
              "#fdca26"
             ],
             [
              1,
              "#f0f921"
             ]
            ],
            "type": "histogram2dcontour"
           }
          ],
          "mesh3d": [
           {
            "colorbar": {
             "outlinewidth": 0,
             "ticks": ""
            },
            "type": "mesh3d"
           }
          ],
          "parcoords": [
           {
            "line": {
             "colorbar": {
              "outlinewidth": 0,
              "ticks": ""
             }
            },
            "type": "parcoords"
           }
          ],
          "pie": [
           {
            "automargin": true,
            "type": "pie"
           }
          ],
          "scatter": [
           {
            "fillpattern": {
             "fillmode": "overlay",
             "size": 10,
             "solidity": 0.2
            },
            "type": "scatter"
           }
          ],
          "scatter3d": [
           {
            "line": {
             "colorbar": {
              "outlinewidth": 0,
              "ticks": ""
             }
            },
            "marker": {
             "colorbar": {
              "outlinewidth": 0,
              "ticks": ""
             }
            },
            "type": "scatter3d"
           }
          ],
          "scattercarpet": [
           {
            "marker": {
             "colorbar": {
              "outlinewidth": 0,
              "ticks": ""
             }
            },
            "type": "scattercarpet"
           }
          ],
          "scattergeo": [
           {
            "marker": {
             "colorbar": {
              "outlinewidth": 0,
              "ticks": ""
             }
            },
            "type": "scattergeo"
           }
          ],
          "scattergl": [
           {
            "marker": {
             "colorbar": {
              "outlinewidth": 0,
              "ticks": ""
             }
            },
            "type": "scattergl"
           }
          ],
          "scattermapbox": [
           {
            "marker": {
             "colorbar": {
              "outlinewidth": 0,
              "ticks": ""
             }
            },
            "type": "scattermapbox"
           }
          ],
          "scatterpolar": [
           {
            "marker": {
             "colorbar": {
              "outlinewidth": 0,
              "ticks": ""
             }
            },
            "type": "scatterpolar"
           }
          ],
          "scatterpolargl": [
           {
            "marker": {
             "colorbar": {
              "outlinewidth": 0,
              "ticks": ""
             }
            },
            "type": "scatterpolargl"
           }
          ],
          "scatterternary": [
           {
            "marker": {
             "colorbar": {
              "outlinewidth": 0,
              "ticks": ""
             }
            },
            "type": "scatterternary"
           }
          ],
          "surface": [
           {
            "colorbar": {
             "outlinewidth": 0,
             "ticks": ""
            },
            "colorscale": [
             [
              0,
              "#0d0887"
             ],
             [
              0.1111111111111111,
              "#46039f"
             ],
             [
              0.2222222222222222,
              "#7201a8"
             ],
             [
              0.3333333333333333,
              "#9c179e"
             ],
             [
              0.4444444444444444,
              "#bd3786"
             ],
             [
              0.5555555555555556,
              "#d8576b"
             ],
             [
              0.6666666666666666,
              "#ed7953"
             ],
             [
              0.7777777777777778,
              "#fb9f3a"
             ],
             [
              0.8888888888888888,
              "#fdca26"
             ],
             [
              1,
              "#f0f921"
             ]
            ],
            "type": "surface"
           }
          ],
          "table": [
           {
            "cells": {
             "fill": {
              "color": "#EBF0F8"
             },
             "line": {
              "color": "white"
             }
            },
            "header": {
             "fill": {
              "color": "#C8D4E3"
             },
             "line": {
              "color": "white"
             }
            },
            "type": "table"
           }
          ]
         },
         "layout": {
          "annotationdefaults": {
           "arrowcolor": "#2a3f5f",
           "arrowhead": 0,
           "arrowwidth": 1
          },
          "autotypenumbers": "strict",
          "coloraxis": {
           "colorbar": {
            "outlinewidth": 0,
            "ticks": ""
           }
          },
          "colorscale": {
           "diverging": [
            [
             0,
             "#8e0152"
            ],
            [
             0.1,
             "#c51b7d"
            ],
            [
             0.2,
             "#de77ae"
            ],
            [
             0.3,
             "#f1b6da"
            ],
            [
             0.4,
             "#fde0ef"
            ],
            [
             0.5,
             "#f7f7f7"
            ],
            [
             0.6,
             "#e6f5d0"
            ],
            [
             0.7,
             "#b8e186"
            ],
            [
             0.8,
             "#7fbc41"
            ],
            [
             0.9,
             "#4d9221"
            ],
            [
             1,
             "#276419"
            ]
           ],
           "sequential": [
            [
             0,
             "#0d0887"
            ],
            [
             0.1111111111111111,
             "#46039f"
            ],
            [
             0.2222222222222222,
             "#7201a8"
            ],
            [
             0.3333333333333333,
             "#9c179e"
            ],
            [
             0.4444444444444444,
             "#bd3786"
            ],
            [
             0.5555555555555556,
             "#d8576b"
            ],
            [
             0.6666666666666666,
             "#ed7953"
            ],
            [
             0.7777777777777778,
             "#fb9f3a"
            ],
            [
             0.8888888888888888,
             "#fdca26"
            ],
            [
             1,
             "#f0f921"
            ]
           ],
           "sequentialminus": [
            [
             0,
             "#0d0887"
            ],
            [
             0.1111111111111111,
             "#46039f"
            ],
            [
             0.2222222222222222,
             "#7201a8"
            ],
            [
             0.3333333333333333,
             "#9c179e"
            ],
            [
             0.4444444444444444,
             "#bd3786"
            ],
            [
             0.5555555555555556,
             "#d8576b"
            ],
            [
             0.6666666666666666,
             "#ed7953"
            ],
            [
             0.7777777777777778,
             "#fb9f3a"
            ],
            [
             0.8888888888888888,
             "#fdca26"
            ],
            [
             1,
             "#f0f921"
            ]
           ]
          },
          "colorway": [
           "#636efa",
           "#EF553B",
           "#00cc96",
           "#ab63fa",
           "#FFA15A",
           "#19d3f3",
           "#FF6692",
           "#B6E880",
           "#FF97FF",
           "#FECB52"
          ],
          "font": {
           "color": "#2a3f5f"
          },
          "geo": {
           "bgcolor": "white",
           "lakecolor": "white",
           "landcolor": "#E5ECF6",
           "showlakes": true,
           "showland": true,
           "subunitcolor": "white"
          },
          "hoverlabel": {
           "align": "left"
          },
          "hovermode": "closest",
          "mapbox": {
           "style": "light"
          },
          "paper_bgcolor": "white",
          "plot_bgcolor": "#E5ECF6",
          "polar": {
           "angularaxis": {
            "gridcolor": "white",
            "linecolor": "white",
            "ticks": ""
           },
           "bgcolor": "#E5ECF6",
           "radialaxis": {
            "gridcolor": "white",
            "linecolor": "white",
            "ticks": ""
           }
          },
          "scene": {
           "xaxis": {
            "backgroundcolor": "#E5ECF6",
            "gridcolor": "white",
            "gridwidth": 2,
            "linecolor": "white",
            "showbackground": true,
            "ticks": "",
            "zerolinecolor": "white"
           },
           "yaxis": {
            "backgroundcolor": "#E5ECF6",
            "gridcolor": "white",
            "gridwidth": 2,
            "linecolor": "white",
            "showbackground": true,
            "ticks": "",
            "zerolinecolor": "white"
           },
           "zaxis": {
            "backgroundcolor": "#E5ECF6",
            "gridcolor": "white",
            "gridwidth": 2,
            "linecolor": "white",
            "showbackground": true,
            "ticks": "",
            "zerolinecolor": "white"
           }
          },
          "shapedefaults": {
           "line": {
            "color": "#2a3f5f"
           }
          },
          "ternary": {
           "aaxis": {
            "gridcolor": "white",
            "linecolor": "white",
            "ticks": ""
           },
           "baxis": {
            "gridcolor": "white",
            "linecolor": "white",
            "ticks": ""
           },
           "bgcolor": "#E5ECF6",
           "caxis": {
            "gridcolor": "white",
            "linecolor": "white",
            "ticks": ""
           }
          },
          "title": {
           "x": 0.05
          },
          "xaxis": {
           "automargin": true,
           "gridcolor": "white",
           "linecolor": "white",
           "ticks": "",
           "title": {
            "standoff": 15
           },
           "zerolinecolor": "white",
           "zerolinewidth": 2
          },
          "yaxis": {
           "automargin": true,
           "gridcolor": "white",
           "linecolor": "white",
           "ticks": "",
           "title": {
            "standoff": 15
           },
           "zerolinecolor": "white",
           "zerolinewidth": 2
          }
         }
        }
       }
      },
      "text/html": [
       "<div>                            <div id=\"9d26dc27-e0b5-44a2-832d-00f982415685\" class=\"plotly-graph-div\" style=\"height:525px; width:100%;\"></div>            <script type=\"text/javascript\">                require([\"plotly\"], function(Plotly) {                    window.PLOTLYENV=window.PLOTLYENV || {};                                    if (document.getElementById(\"9d26dc27-e0b5-44a2-832d-00f982415685\")) {                    Plotly.newPlot(                        \"9d26dc27-e0b5-44a2-832d-00f982415685\",                        [{\"marker\":{\"color\":[\"red\",\"blue\",\"blue\",\"blue\",\"blue\",\"blue\",\"blue\",\"blue\",\"blue\",\"blue\",\"blue\"],\"opacity\":0.8,\"size\":10},\"mode\":\"markers+text\",\"text\":[\"parasol\",\"parasols\",\"Parasol\",\"umbrellas\",\"sunshade\",\"chaise\",\"lounger\",\"umbrella\",\"loungers\",\"arbour\",\"sunloungers\"],\"textfont\":{\"size\":20},\"textposition\":\"top center\",\"x\":[158.3042449951172,-154.90863037109375,-213.98086547851562,378.7588195800781,-381.8619079589844,148.3857421875,-51.12901306152344,137.89060974121094,-511.8412780761719,509.044677734375,518.2914428710938],\"y\":[152.85916137695312,-15.818743705749512,376.240234375,-486.5989685058594,-316.0079040527344,530.9161376953125,-527.2027587890625,-201.22982788085938,96.37503051757812,293.8718566894531,-99.62893676757812],\"type\":\"scatter\"}],                        {\"template\":{\"data\":{\"histogram2dcontour\":[{\"type\":\"histogram2dcontour\",\"colorbar\":{\"outlinewidth\":0,\"ticks\":\"\"},\"colorscale\":[[0.0,\"#0d0887\"],[0.1111111111111111,\"#46039f\"],[0.2222222222222222,\"#7201a8\"],[0.3333333333333333,\"#9c179e\"],[0.4444444444444444,\"#bd3786\"],[0.5555555555555556,\"#d8576b\"],[0.6666666666666666,\"#ed7953\"],[0.7777777777777778,\"#fb9f3a\"],[0.8888888888888888,\"#fdca26\"],[1.0,\"#f0f921\"]]}],\"choropleth\":[{\"type\":\"choropleth\",\"colorbar\":{\"outlinewidth\":0,\"ticks\":\"\"}}],\"histogram2d\":[{\"type\":\"histogram2d\",\"colorbar\":{\"outlinewidth\":0,\"ticks\":\"\"},\"colorscale\":[[0.0,\"#0d0887\"],[0.1111111111111111,\"#46039f\"],[0.2222222222222222,\"#7201a8\"],[0.3333333333333333,\"#9c179e\"],[0.4444444444444444,\"#bd3786\"],[0.5555555555555556,\"#d8576b\"],[0.6666666666666666,\"#ed7953\"],[0.7777777777777778,\"#fb9f3a\"],[0.8888888888888888,\"#fdca26\"],[1.0,\"#f0f921\"]]}],\"heatmap\":[{\"type\":\"heatmap\",\"colorbar\":{\"outlinewidth\":0,\"ticks\":\"\"},\"colorscale\":[[0.0,\"#0d0887\"],[0.1111111111111111,\"#46039f\"],[0.2222222222222222,\"#7201a8\"],[0.3333333333333333,\"#9c179e\"],[0.4444444444444444,\"#bd3786\"],[0.5555555555555556,\"#d8576b\"],[0.6666666666666666,\"#ed7953\"],[0.7777777777777778,\"#fb9f3a\"],[0.8888888888888888,\"#fdca26\"],[1.0,\"#f0f921\"]]}],\"heatmapgl\":[{\"type\":\"heatmapgl\",\"colorbar\":{\"outlinewidth\":0,\"ticks\":\"\"},\"colorscale\":[[0.0,\"#0d0887\"],[0.1111111111111111,\"#46039f\"],[0.2222222222222222,\"#7201a8\"],[0.3333333333333333,\"#9c179e\"],[0.4444444444444444,\"#bd3786\"],[0.5555555555555556,\"#d8576b\"],[0.6666666666666666,\"#ed7953\"],[0.7777777777777778,\"#fb9f3a\"],[0.8888888888888888,\"#fdca26\"],[1.0,\"#f0f921\"]]}],\"contourcarpet\":[{\"type\":\"contourcarpet\",\"colorbar\":{\"outlinewidth\":0,\"ticks\":\"\"}}],\"contour\":[{\"type\":\"contour\",\"colorbar\":{\"outlinewidth\":0,\"ticks\":\"\"},\"colorscale\":[[0.0,\"#0d0887\"],[0.1111111111111111,\"#46039f\"],[0.2222222222222222,\"#7201a8\"],[0.3333333333333333,\"#9c179e\"],[0.4444444444444444,\"#bd3786\"],[0.5555555555555556,\"#d8576b\"],[0.6666666666666666,\"#ed7953\"],[0.7777777777777778,\"#fb9f3a\"],[0.8888888888888888,\"#fdca26\"],[1.0,\"#f0f921\"]]}],\"surface\":[{\"type\":\"surface\",\"colorbar\":{\"outlinewidth\":0,\"ticks\":\"\"},\"colorscale\":[[0.0,\"#0d0887\"],[0.1111111111111111,\"#46039f\"],[0.2222222222222222,\"#7201a8\"],[0.3333333333333333,\"#9c179e\"],[0.4444444444444444,\"#bd3786\"],[0.5555555555555556,\"#d8576b\"],[0.6666666666666666,\"#ed7953\"],[0.7777777777777778,\"#fb9f3a\"],[0.8888888888888888,\"#fdca26\"],[1.0,\"#f0f921\"]]}],\"mesh3d\":[{\"type\":\"mesh3d\",\"colorbar\":{\"outlinewidth\":0,\"ticks\":\"\"}}],\"scatter\":[{\"fillpattern\":{\"fillmode\":\"overlay\",\"size\":10,\"solidity\":0.2},\"type\":\"scatter\"}],\"parcoords\":[{\"type\":\"parcoords\",\"line\":{\"colorbar\":{\"outlinewidth\":0,\"ticks\":\"\"}}}],\"scatterpolargl\":[{\"type\":\"scatterpolargl\",\"marker\":{\"colorbar\":{\"outlinewidth\":0,\"ticks\":\"\"}}}],\"bar\":[{\"error_x\":{\"color\":\"#2a3f5f\"},\"error_y\":{\"color\":\"#2a3f5f\"},\"marker\":{\"line\":{\"color\":\"#E5ECF6\",\"width\":0.5},\"pattern\":{\"fillmode\":\"overlay\",\"size\":10,\"solidity\":0.2}},\"type\":\"bar\"}],\"scattergeo\":[{\"type\":\"scattergeo\",\"marker\":{\"colorbar\":{\"outlinewidth\":0,\"ticks\":\"\"}}}],\"scatterpolar\":[{\"type\":\"scatterpolar\",\"marker\":{\"colorbar\":{\"outlinewidth\":0,\"ticks\":\"\"}}}],\"histogram\":[{\"marker\":{\"pattern\":{\"fillmode\":\"overlay\",\"size\":10,\"solidity\":0.2}},\"type\":\"histogram\"}],\"scattergl\":[{\"type\":\"scattergl\",\"marker\":{\"colorbar\":{\"outlinewidth\":0,\"ticks\":\"\"}}}],\"scatter3d\":[{\"type\":\"scatter3d\",\"line\":{\"colorbar\":{\"outlinewidth\":0,\"ticks\":\"\"}},\"marker\":{\"colorbar\":{\"outlinewidth\":0,\"ticks\":\"\"}}}],\"scattermapbox\":[{\"type\":\"scattermapbox\",\"marker\":{\"colorbar\":{\"outlinewidth\":0,\"ticks\":\"\"}}}],\"scatterternary\":[{\"type\":\"scatterternary\",\"marker\":{\"colorbar\":{\"outlinewidth\":0,\"ticks\":\"\"}}}],\"scattercarpet\":[{\"type\":\"scattercarpet\",\"marker\":{\"colorbar\":{\"outlinewidth\":0,\"ticks\":\"\"}}}],\"carpet\":[{\"aaxis\":{\"endlinecolor\":\"#2a3f5f\",\"gridcolor\":\"white\",\"linecolor\":\"white\",\"minorgridcolor\":\"white\",\"startlinecolor\":\"#2a3f5f\"},\"baxis\":{\"endlinecolor\":\"#2a3f5f\",\"gridcolor\":\"white\",\"linecolor\":\"white\",\"minorgridcolor\":\"white\",\"startlinecolor\":\"#2a3f5f\"},\"type\":\"carpet\"}],\"table\":[{\"cells\":{\"fill\":{\"color\":\"#EBF0F8\"},\"line\":{\"color\":\"white\"}},\"header\":{\"fill\":{\"color\":\"#C8D4E3\"},\"line\":{\"color\":\"white\"}},\"type\":\"table\"}],\"barpolar\":[{\"marker\":{\"line\":{\"color\":\"#E5ECF6\",\"width\":0.5},\"pattern\":{\"fillmode\":\"overlay\",\"size\":10,\"solidity\":0.2}},\"type\":\"barpolar\"}],\"pie\":[{\"automargin\":true,\"type\":\"pie\"}]},\"layout\":{\"autotypenumbers\":\"strict\",\"colorway\":[\"#636efa\",\"#EF553B\",\"#00cc96\",\"#ab63fa\",\"#FFA15A\",\"#19d3f3\",\"#FF6692\",\"#B6E880\",\"#FF97FF\",\"#FECB52\"],\"font\":{\"color\":\"#2a3f5f\"},\"hovermode\":\"closest\",\"hoverlabel\":{\"align\":\"left\"},\"paper_bgcolor\":\"white\",\"plot_bgcolor\":\"#E5ECF6\",\"polar\":{\"bgcolor\":\"#E5ECF6\",\"angularaxis\":{\"gridcolor\":\"white\",\"linecolor\":\"white\",\"ticks\":\"\"},\"radialaxis\":{\"gridcolor\":\"white\",\"linecolor\":\"white\",\"ticks\":\"\"}},\"ternary\":{\"bgcolor\":\"#E5ECF6\",\"aaxis\":{\"gridcolor\":\"white\",\"linecolor\":\"white\",\"ticks\":\"\"},\"baxis\":{\"gridcolor\":\"white\",\"linecolor\":\"white\",\"ticks\":\"\"},\"caxis\":{\"gridcolor\":\"white\",\"linecolor\":\"white\",\"ticks\":\"\"}},\"coloraxis\":{\"colorbar\":{\"outlinewidth\":0,\"ticks\":\"\"}},\"colorscale\":{\"sequential\":[[0.0,\"#0d0887\"],[0.1111111111111111,\"#46039f\"],[0.2222222222222222,\"#7201a8\"],[0.3333333333333333,\"#9c179e\"],[0.4444444444444444,\"#bd3786\"],[0.5555555555555556,\"#d8576b\"],[0.6666666666666666,\"#ed7953\"],[0.7777777777777778,\"#fb9f3a\"],[0.8888888888888888,\"#fdca26\"],[1.0,\"#f0f921\"]],\"sequentialminus\":[[0.0,\"#0d0887\"],[0.1111111111111111,\"#46039f\"],[0.2222222222222222,\"#7201a8\"],[0.3333333333333333,\"#9c179e\"],[0.4444444444444444,\"#bd3786\"],[0.5555555555555556,\"#d8576b\"],[0.6666666666666666,\"#ed7953\"],[0.7777777777777778,\"#fb9f3a\"],[0.8888888888888888,\"#fdca26\"],[1.0,\"#f0f921\"]],\"diverging\":[[0,\"#8e0152\"],[0.1,\"#c51b7d\"],[0.2,\"#de77ae\"],[0.3,\"#f1b6da\"],[0.4,\"#fde0ef\"],[0.5,\"#f7f7f7\"],[0.6,\"#e6f5d0\"],[0.7,\"#b8e186\"],[0.8,\"#7fbc41\"],[0.9,\"#4d9221\"],[1,\"#276419\"]]},\"xaxis\":{\"gridcolor\":\"white\",\"linecolor\":\"white\",\"ticks\":\"\",\"title\":{\"standoff\":15},\"zerolinecolor\":\"white\",\"automargin\":true,\"zerolinewidth\":2},\"yaxis\":{\"gridcolor\":\"white\",\"linecolor\":\"white\",\"ticks\":\"\",\"title\":{\"standoff\":15},\"zerolinecolor\":\"white\",\"automargin\":true,\"zerolinewidth\":2},\"scene\":{\"xaxis\":{\"backgroundcolor\":\"#E5ECF6\",\"gridcolor\":\"white\",\"linecolor\":\"white\",\"showbackground\":true,\"ticks\":\"\",\"zerolinecolor\":\"white\",\"gridwidth\":2},\"yaxis\":{\"backgroundcolor\":\"#E5ECF6\",\"gridcolor\":\"white\",\"linecolor\":\"white\",\"showbackground\":true,\"ticks\":\"\",\"zerolinecolor\":\"white\",\"gridwidth\":2},\"zaxis\":{\"backgroundcolor\":\"#E5ECF6\",\"gridcolor\":\"white\",\"linecolor\":\"white\",\"showbackground\":true,\"ticks\":\"\",\"zerolinecolor\":\"white\",\"gridwidth\":2}},\"shapedefaults\":{\"line\":{\"color\":\"#2a3f5f\"}},\"annotationdefaults\":{\"arrowcolor\":\"#2a3f5f\",\"arrowhead\":0,\"arrowwidth\":1},\"geo\":{\"bgcolor\":\"white\",\"landcolor\":\"#E5ECF6\",\"subunitcolor\":\"white\",\"showland\":true,\"showlakes\":true,\"lakecolor\":\"white\"},\"title\":{\"x\":0.05},\"mapbox\":{\"style\":\"light\"}}}},                        {\"responsive\": true}                    ).then(function(){\n",
       "                            \n",
       "var gd = document.getElementById('9d26dc27-e0b5-44a2-832d-00f982415685');\n",
       "var x = new MutationObserver(function (mutations, observer) {{\n",
       "        var display = window.getComputedStyle(gd).display;\n",
       "        if (!display || display === 'none') {{\n",
       "            console.log([gd, 'removed!']);\n",
       "            Plotly.purge(gd);\n",
       "            observer.disconnect();\n",
       "        }}\n",
       "}});\n",
       "\n",
       "// Listen for the removal of the full notebook cells\n",
       "var notebookContainer = gd.closest('#notebook-container');\n",
       "if (notebookContainer) {{\n",
       "    x.observe(notebookContainer, {childList: true});\n",
       "}}\n",
       "\n",
       "// Listen for the clearing of the current output cell\n",
       "var outputEl = gd.closest('.output');\n",
       "if (outputEl) {{\n",
       "    x.observe(outputEl, {childList: true});\n",
       "}}\n",
       "\n",
       "                        })                };                });            </script>        </div>"
      ]
     },
     "metadata": {},
     "output_type": "display_data"
    },
    {
     "name": "stdout",
     "output_type": "stream",
     "text": [
      "{'parasol': 1.45193e-05, 'parasols': 0, 'Parasol': 0, 'umbrellas': 6.26483e-05, 'sunshade': 0, 'chaise': 2.59201e-05, 'lounger': 0, 'umbrella': 0.000182717, 'loungers': 0, 'arbour': 0, 'sunloungers': 0}\n"
     ]
    }
   ],
   "source": [
    "# given a word, visualize its nearest neighbors\n",
    "noun = 'parasol'  # carafe, 'parasol'\n",
    "vocab = glove\n",
    "device = 'cuda:0'\n",
    "k = 10\n",
    "include_self = False\n",
    "title_nouns = titles_nouns_v1\n",
    "\n",
    "# get the embedding of the token\n",
    "generic_nouns = []\n",
    "vocab_embs = F.normalize(vocab.vectors.to(device), p=2, dim=-1)\n",
    "\n",
    "# find the nearest neighbors \n",
    "noun_emb = vocab[noun].unsqueeze(0).to(device)\n",
    "\n",
    "with torch.no_grad():\n",
    "    dist = torch.matmul(vocab_embs, noun_emb.T).squeeze()\n",
    "\n",
    "generic_noun = {}\n",
    "if include_self:\n",
    "    knn_ix = dist.argsort(descending=True)[:(k+1)]\n",
    "elif not include_self:\n",
    "    knn_ix = dist.argsort(descending=True)[1:(k+1)]\n",
    "\n",
    "knn_tokens = [vocab.itos[ix] for ix in knn_ix]\n",
    "knn_embs = [vocab[token].cpu() for token in knn_tokens]\n",
    "\n",
    "# final output\n",
    "tokens = [noun] + knn_tokens\n",
    "embs = [noun_emb.cpu().squeeze()] + knn_embs\n",
    "embs = np.stack(embs)\n",
    "freq = [freqdict.get(token, 0) for token in tokens]\n",
    "# vis\n",
    "from sklearn.manifold import TSNE\n",
    "\n",
    "two_dim = TSNE(n_components=2, random_state=0).fit_transform(embs)[:,:3]\n",
    "\n",
    "trace = go.Scatter(\n",
    "    x = two_dim[:,0], \n",
    "    y = two_dim[:,1],  \n",
    "    text = tokens,\n",
    "    textposition = \"top center\",\n",
    "    textfont_size = 20,\n",
    "    mode = 'markers+text',\n",
    "    marker = {\n",
    "        'size': 10,\n",
    "        'opacity': 0.8,\n",
    "        'color': ['red'] + ['blue'] * (len(tokens)-1),\n",
    "    })\n",
    "\n",
    "go.Figure(data=[trace], layout=go.Layout())\n",
    "print({token: freq for token, freq in zip(tokens, freq)})"
   ]
  },
  {
   "cell_type": "markdown",
   "metadata": {},
   "source": [
    "# (R) B-score of overlapping projects"
   ]
  },
  {
   "cell_type": "code",
   "execution_count": 1,
   "metadata": {},
   "outputs": [
    {
     "name": "stdout",
     "output_type": "stream",
     "text": [
      "Yu's data science toolbox loaded! \n"
     ]
    }
   ],
   "source": [
    "suppressMessages({\n",
    "    library(RPostgres)\n",
    "    library(haven)\n",
    "    library(DBI)\n",
    "    library(utilr)\n",
    "})\n",
    "\n",
    "WORK_DIR = '/home/yu/OneDrive/Construal'\n",
    "setwd(WORK_DIR)"
   ]
  },
  {
   "cell_type": "code",
   "execution_count": 17,
   "metadata": {},
   "outputs": [
    {
     "data": {
      "text/html": [
       "<table class=\"dataframe\">\n",
       "<caption>A data.table: 1 × 14</caption>\n",
       "<thead>\n",
       "\t<tr><th scope=col>pid</th><th scope=col>category</th><th scope=col>created_at</th><th scope=col>deadline</th><th scope=col>bscore_nostopwords_accessories</th><th scope=col>bscore_nostopwords_product_design</th><th scope=col>bscore_nostopwords_title_accessories</th><th scope=col>bscore_nostopwords_title_product_design</th><th scope=col>mni_k100_weighted_normalized_accessories</th><th scope=col>mni_k100_weighted_normalized_product_design</th><th scope=col>fasttext_cluster_cos_dist_title_accessories</th><th scope=col>fasttext_cluster_cos_dist_title_product_design</th><th scope=col>fasttext_cluster_cos_dist_desc_accessories</th><th scope=col>fasttext_cluster_cos_dist_desc_product_design</th></tr>\n",
       "\t<tr><th scope=col>&lt;int&gt;</th><th scope=col>&lt;chr&gt;</th><th scope=col>&lt;dttm&gt;</th><th scope=col>&lt;dttm&gt;</th><th scope=col>&lt;dbl&gt;</th><th scope=col>&lt;dbl&gt;</th><th scope=col>&lt;dbl&gt;</th><th scope=col>&lt;dbl&gt;</th><th scope=col>&lt;dbl&gt;</th><th scope=col>&lt;dbl&gt;</th><th scope=col>&lt;dbl&gt;</th><th scope=col>&lt;dbl&gt;</th><th scope=col>&lt;dbl&gt;</th><th scope=col>&lt;dbl&gt;</th></tr>\n",
       "</thead>\n",
       "<tbody>\n",
       "\t<tr><td>160274</td><td>Accessories</td><td>2015-05-18 20:04:17</td><td>2015-06-14 19:00:00</td><td>836.0214</td><td>NA</td><td>12.17446</td><td>NA</td><td>0.5224166</td><td>NA</td><td>0.4599312</td><td>NA</td><td>0.3220672</td><td>NA</td></tr>\n",
       "</tbody>\n",
       "</table>\n"
      ],
      "text/latex": [
       "A data.table: 1 × 14\n",
       "\\begin{tabular}{llllllllllllll}\n",
       " pid & category & created\\_at & deadline & bscore\\_nostopwords\\_accessories & bscore\\_nostopwords\\_product\\_design & bscore\\_nostopwords\\_title\\_accessories & bscore\\_nostopwords\\_title\\_product\\_design & mni\\_k100\\_weighted\\_normalized\\_accessories & mni\\_k100\\_weighted\\_normalized\\_product\\_design & fasttext\\_cluster\\_cos\\_dist\\_title\\_accessories & fasttext\\_cluster\\_cos\\_dist\\_title\\_product\\_design & fasttext\\_cluster\\_cos\\_dist\\_desc\\_accessories & fasttext\\_cluster\\_cos\\_dist\\_desc\\_product\\_design\\\\\n",
       " <int> & <chr> & <dttm> & <dttm> & <dbl> & <dbl> & <dbl> & <dbl> & <dbl> & <dbl> & <dbl> & <dbl> & <dbl> & <dbl>\\\\\n",
       "\\hline\n",
       "\t 160274 & Accessories & 2015-05-18 20:04:17 & 2015-06-14 19:00:00 & 836.0214 & NA & 12.17446 & NA & 0.5224166 & NA & 0.4599312 & NA & 0.3220672 & NA\\\\\n",
       "\\end{tabular}\n"
      ],
      "text/markdown": [
       "\n",
       "A data.table: 1 × 14\n",
       "\n",
       "| pid &lt;int&gt; | category &lt;chr&gt; | created_at &lt;dttm&gt; | deadline &lt;dttm&gt; | bscore_nostopwords_accessories &lt;dbl&gt; | bscore_nostopwords_product_design &lt;dbl&gt; | bscore_nostopwords_title_accessories &lt;dbl&gt; | bscore_nostopwords_title_product_design &lt;dbl&gt; | mni_k100_weighted_normalized_accessories &lt;dbl&gt; | mni_k100_weighted_normalized_product_design &lt;dbl&gt; | fasttext_cluster_cos_dist_title_accessories &lt;dbl&gt; | fasttext_cluster_cos_dist_title_product_design &lt;dbl&gt; | fasttext_cluster_cos_dist_desc_accessories &lt;dbl&gt; | fasttext_cluster_cos_dist_desc_product_design &lt;dbl&gt; |\n",
       "|---|---|---|---|---|---|---|---|---|---|---|---|---|---|\n",
       "| 160274 | Accessories | 2015-05-18 20:04:17 | 2015-06-14 19:00:00 | 836.0214 | NA | 12.17446 | NA | 0.5224166 | NA | 0.4599312 | NA | 0.3220672 | NA |\n",
       "\n"
      ],
      "text/plain": [
       "  pid    category    created_at          deadline           \n",
       "1 160274 Accessories 2015-05-18 20:04:17 2015-06-14 19:00:00\n",
       "  bscore_nostopwords_accessories bscore_nostopwords_product_design\n",
       "1 836.0214                       NA                               \n",
       "  bscore_nostopwords_title_accessories bscore_nostopwords_title_product_design\n",
       "1 12.17446                             NA                                     \n",
       "  mni_k100_weighted_normalized_accessories\n",
       "1 0.5224166                               \n",
       "  mni_k100_weighted_normalized_product_design\n",
       "1 NA                                         \n",
       "  fasttext_cluster_cos_dist_title_accessories\n",
       "1 0.4599312                                  \n",
       "  fasttext_cluster_cos_dist_title_product_design\n",
       "1 NA                                            \n",
       "  fasttext_cluster_cos_dist_desc_accessories\n",
       "1 0.3220672                                 \n",
       "  fasttext_cluster_cos_dist_desc_product_design\n",
       "1 NA                                           "
      ]
     },
     "metadata": {},
     "output_type": "display_data"
    }
   ],
   "source": [
    "# get bscore of all projects\n",
    "pjson = fread('/home/yu/OneDrive/Construal/data/sharing/final_dataset.csv')\n",
    "pjson = pjson[, .(pid, category, created_at, deadline, bscore_nostopwords, bscore_nostopwords_title, \n",
    "                  mni_k100_weighted_normalized, fasttext_cluster_cos_dist_title, fasttext_cluster_cos_dist_desc)]\n",
    "pjson_key = copy(pjson)[, ':='(start=created_at, end=deadline, \n",
    "                               bscore_nostopwords=NULL, bscore_nostopwords_title=NULL,\n",
    "                               mni_k100_weighted_normalized=NULL, fasttext_cluster_cos_dist_title=NULL, fasttext_cluster_cos_dist_desc=NULL)]\n",
    "pjson_query = copy(pjson)[, .(pid_query=pid, category_query=category, start_query=created_at, end_query=deadline, \n",
    "                              bscore_nostopwords, bscore_nostopwords_title,\n",
    "                              mni_k100_weighted_normalized, fasttext_cluster_cos_dist_title, fasttext_cluster_cos_dist_desc)]\n",
    "\n",
    "# match by overlapping\n",
    "output = pjson_key[pjson_query, on=.(start<=end_query, end>=start_query)\n",
    "    ][pid!=pid_query\n",
    "    ][, ':='(overlap_days=as.duration(start-created_at) %>% as.numeric('days') %>% round(1))\n",
    "    ][order(pid), .(pid, category, pid_query, category_query, created_at, deadline, overlap_days, \n",
    "                    bscore_nostopwords, bscore_nostopwords_title, \n",
    "                    mni_k100_weighted_normalized, fasttext_cluster_cos_dist_title, \n",
    "                    fasttext_cluster_cos_dist_desc)]\n",
    "\n",
    "# compute within/cross bscore\n",
    "output = output[, .(category=category[1], created_at=created_at[1], deadline=deadline[1],\n",
    "                    bscore_nostopwords=mean(bscore_nostopwords, na.rm=T), \n",
    "                    bscore_nostopwords_title=mean(bscore_nostopwords_title, na.rm=T),\n",
    "                    mni_k100_weighted_normalized=mean(mni_k100_weighted_normalized, na.rm=T), \n",
    "                    fasttext_cluster_cos_dist_title=mean(fasttext_cluster_cos_dist_title, na.rm=T),\n",
    "                    fasttext_cluster_cos_dist_desc=mean(fasttext_cluster_cos_dist_desc, na.rm=T)),\n",
    "                keyby=.(pid, category_query)\n",
    "    ]\n",
    "output_wide = output %>% dcast(pid + category + created_at + deadline ~ category_query, \n",
    "    value.var=c('bscore_nostopwords', 'bscore_nostopwords_title', 'mni_k100_weighted_normalized', 'fasttext_cluster_cos_dist_title', 'fasttext_cluster_cos_dist_desc'), \n",
    "    verbose=T)\n",
    "\n",
    "# clean variable names\n",
    "nm = names(output_wide)\n",
    "setnames(output_wide, nm, str_replace(tolower(nm), ' ', '_'))\n",
    "output_wide[1]"
   ]
  },
  {
   "cell_type": "code",
   "execution_count": 22,
   "metadata": {},
   "outputs": [],
   "source": [
    "write_dta(output_wide, '~/OneDrive/Construal/data/sharing/within-cross-category-concreteness.dta')"
   ]
  }
 ],
 "metadata": {
  "kernelspec": {
   "display_name": "Python 3.9.13 ('py39-base')",
   "language": "python",
   "name": "python3"
  },
  "language_info": {
   "codemirror_mode": {
    "name": "ipython",
    "version": 3
   },
   "file_extension": ".py",
   "mimetype": "text/x-python",
   "name": "python",
   "nbconvert_exporter": "python",
   "pygments_lexer": "ipython3",
   "version": "3.9.14"
  },
  "orig_nbformat": 4,
  "vscode": {
   "interpreter": {
    "hash": "8206f256a530121ae25c24162e68178f9aa446642b91710e737959e4bf72a59d"
   }
  }
 },
 "nbformat": 4,
 "nbformat_minor": 2
}
