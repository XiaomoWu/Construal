{
 "cells": [
  {
   "cell_type": "markdown",
   "metadata": {},
   "source": [
    "# Init"
   ]
  },
  {
   "cell_type": "code",
   "execution_count": 3,
   "metadata": {
    "vscode": {
     "languageId": "r"
    }
   },
   "outputs": [],
   "source": [
    "suppressMessages(suppressWarnings({\n",
    "    library(stringr)\n",
    "    library(RPostgres)\n",
    "    library(ggplot2)\n",
    "    library(dplyr)\n",
    "    library(arrow)\n",
    "    library(pryr)\n",
    "    library(data.table)\n",
    "    library(lubridate)\n",
    "    library(hms)\n",
    "    \n",
    "    library(repr)\n",
    "    options(repr.matrix.max.cols=500) # display more cols\n",
    "}))\n",
    "\n",
    "# quanteda_options(threads = 32) # On your laptop, you probably want to set it to 4 or 8.\n",
    "\n",
    "setwd('~/OneDrive/Construal')"
   ]
  },
  {
   "cell_type": "markdown",
   "metadata": {},
   "source": [
    "# Parse JSON"
   ]
  },
  {
   "cell_type": "markdown",
   "metadata": {},
   "source": [
    "## get `project_ids` and `project_dirs`"
   ]
  },
  {
   "cell_type": "code",
   "execution_count": 2,
   "metadata": {
    "vscode": {
     "languageId": "r"
    }
   },
   "outputs": [],
   "source": [
    "data_root_dir = './data/Kickstarter Data/'\n",
    "\n",
    "project_ids = list.dirs(data_root_dir, full.names=F, recursive=F)\n",
    "\n",
    "project_dirs = str_c(data_root_dir, project_ids, '/')"
   ]
  },
  {
   "cell_type": "markdown",
   "metadata": {},
   "source": [
    "## parse JSON"
   ]
  },
  {
   "cell_type": "code",
   "execution_count": null,
   "metadata": {
    "scrolled": true,
    "vscode": {
     "languageId": "r"
    }
   },
   "outputs": [],
   "source": [
    "pjson = vector(mode = \"list\", length=length(project_ids))\n",
    "\n",
    "for (i in 1:length(project_ids)) {\n",
    "    pid = project_ids[i]\n",
    "    pdir = project_dirs[i]\n",
    "    \n",
    "    tryCatch({\n",
    "        json_path = sprintf('%s/%s.json', pdir, pid)\n",
    "        json = fromJSON(json_path)\n",
    "        json$pledge_money = str_c(json$pledge_money, collapse=',')\n",
    "        json$pledge_count = str_c(json$pledge_count, collapse=',')\n",
    "        pjson[[pid]] = json\n",
    "    }, error=function(cond) {\n",
    "        message(sprintf('Error: %s', json_path))\n",
    "        NULL\n",
    "    })\n",
    "}\n",
    "\n",
    "pjson = rbindlist(pjson, use.names=T, idcol='pid') %>% unique()"
   ]
  },
  {
   "cell_type": "code",
   "execution_count": null,
   "metadata": {
    "vscode": {
     "languageId": "r"
    }
   },
   "outputs": [],
   "source": [
    "write_feather(pjson, './data/pjson.feather', version = 2)"
   ]
  },
  {
   "cell_type": "code",
   "execution_count": null,
   "metadata": {
    "vscode": {
     "languageId": "r"
    }
   },
   "outputs": [],
   "source": [
    "success_pct = round(pjson[, .N]/length(project_ids)*100, 2)\n",
    "message(sprintf('%s%% projects have been successfully parsed.', success_pct))"
   ]
  },
  {
   "cell_type": "code",
   "execution_count": null,
   "metadata": {
    "vscode": {
     "languageId": "r"
    }
   },
   "outputs": [],
   "source": [
    "pjson[1, .(pid, pledge_count)]"
   ]
  },
  {
   "cell_type": "code",
   "execution_count": null,
   "metadata": {
    "vscode": {
     "languageId": "r"
    }
   },
   "outputs": [],
   "source": [
    "ld(pjson, ldtype='feather')"
   ]
  },
  {
   "cell_type": "code",
   "execution_count": null,
   "metadata": {
    "vscode": {
     "languageId": "r"
    }
   },
   "outputs": [],
   "source": [
    "pjson[category=='Product Design'][order(pid)]"
   ]
  },
  {
   "cell_type": "markdown",
   "metadata": {
    "toc-hr-collapsed": true,
    "toc-nb-collapsed": true
   },
   "source": [
    "# Parse HTML (deprecated)"
   ]
  },
  {
   "cell_type": "markdown",
   "metadata": {},
   "source": [
    "## get `project_ids` and `project_dirs`"
   ]
  },
  {
   "cell_type": "code",
   "execution_count": null,
   "metadata": {
    "vscode": {
     "languageId": "r"
    }
   },
   "outputs": [],
   "source": [
    "data_root_dir = './data/Kickstarter Data/'\n",
    "\n",
    "project_ids = list.dirs(data_root_dir, full.names=F, recursive=F)\n",
    "\n",
    "project_dirs = str_c(data_root_dir, project_ids, '/')"
   ]
  },
  {
   "cell_type": "code",
   "execution_count": null,
   "metadata": {
    "vscode": {
     "languageId": "r"
    }
   },
   "outputs": [],
   "source": [
    "# risk\n",
    "# the json file already captured the risk portion\n",
    "risk = getNodeSet(parsed_html, '//div[@class=\"mb3 mb10-sm mb3 js-risks\"]//p') %>%\n",
    "    xmlValue() %>%\n",
    "    str_c(collapse='\\n')\n",
    "\n",
    "# cat(sprintf('[risk]:\\n%s\\n', risk))\n",
    "# cat('---------------------------\\n')"
   ]
  },
  {
   "cell_type": "code",
   "execution_count": null,
   "metadata": {
    "scrolled": true,
    "vscode": {
     "languageId": "r"
    }
   },
   "outputs": [],
   "source": [
    "# get parsed_html\n",
    "pid = 1649873594\n",
    "html_page = sprintf(\"C:/Users/rossz/OneDrive/Construal/data/Kickstarter Data/%s/%s.html\", pid, pid)\n",
    "parsed_html = htmlParse(html_page)\n",
    "\n",
    "\n",
    "split_team_and_project <- function(pid,\n",
    "    parsed_html, \n",
    "    bold_title_xpath,\n",
    "    pos_team_xpath) {\n",
    "    \n",
    "    # possible team_titles\n",
    "    team_titles = c(\"Who's on the team?\", \"The Team\", \"About Us\", \"About the Artist\", \"Meet the team\", \"Who we are\", \"Meet the creators\", \n",
    "                    \"Who's involved\", \"Who is involved\") %>% tolower()\n",
    "    \n",
    "    # root node for proj_desc and team_desc\n",
    "    root = xmlDoc(parsed_html['//div[@class=\"full-description js-full-description responsive-media formatted-lists\"]'][[1]])\n",
    "    \n",
    "    # all the <p> under the root\n",
    "    all_p = root['//p']\n",
    "    \n",
    "    # set default team_desc/proj_desc\n",
    "    team_desc = NA\n",
    "    proj_desc = getNodeSet(parsed_html, '//div[@class=\"full-description js-full-description responsive-media formatted-lists\"]//text()') %>%\n",
    "        xmlValue() %>%\n",
    "        str_c(collapse='\\n') %>%\n",
    "        str_trim()\n",
    "    success_counter = 0\n",
    "    \n",
    "    # print(proj_desc)\n",
    "    \n",
    "    # find out all bold titles\n",
    "    # convert them to lower case\n",
    "    bold_titles = getNodeSet(root, bold_title_xpath) %>%\n",
    "        xmlValue() %>%\n",
    "        str_trim() %>%\n",
    "        tolower()\n",
    "    \n",
    "    # print(bold_titles)\n",
    "    \n",
    "    # loop over every possible team_title\n",
    "    for (team_title in team_titles) {\n",
    "        idx = match(team_title, bold_titles)\n",
    "        \n",
    "        # if successfully finds team_title, output BOTH team_description and project_descriptoin;\n",
    "        # else, pased_html as project_description\n",
    "        if (is.na(idx)) {\n",
    "            next\n",
    "        } else {\n",
    "            success_counter = success_counter + 1\n",
    "            \n",
    "            team_title_next = bold_titles[idx+1]\n",
    "            \n",
    "#             print(team_title)\n",
    "#             print(team_title_next)\n",
    "            \n",
    "            \n",
    "           \n",
    "            pos_team_start = getNodeSet(all_p, sprintf(pos_team_xpath, team_title))\n",
    "\n",
    "            pos_team_end = getNodeSet(all_p, sprintf(pos_team_xpath, team_title_next))\n",
    "\n",
    "            # extract team_description\n",
    "            team_desc = getNodeSet(all_p, sprintf('//p[position()>%s and position()<%s]', pos_team_start, pos_team_end)) %>%\n",
    "                xmlValue() %>%\n",
    "                str_c(collapse='\\n') %>%  \n",
    "                str_trim()\n",
    "            \n",
    "#             print(pos_team_start)\n",
    "#             print(pos_team_end)\n",
    "            \n",
    "\n",
    "            \n",
    "            # extract project_description\n",
    "            proj_desc = getNodeSet(all_p, sprintf('//p[position()<=%s or position()>=%s]', pos_team_start, pos_team_end)) %>%\n",
    "                xmlValue() %>%\n",
    "                str_c(collapse='\\n') %>%\n",
    "                str_trim()\n",
    "        }\n",
    "    }\n",
    "    \n",
    "    # log message if more than one team_description have been found\n",
    "    if (success_counter>1) {\n",
    "        message(sprintf('More than one team_description have been found (%s).', parsed_html))\n",
    "    }\n",
    "    return(list(pid=pid, team_desc=team_desc, proj_desc=proj_desc))\n",
    "}\n",
    "\n",
    "# h1 = split_team_and_project(\n",
    "#     pid,\n",
    "#     parsed_html,\n",
    "#     bold_title_xpath='//div[@class=\"full-description js-full-description responsive-media formatted-lists\"]//h1',\n",
    "#     pos_team_xpath='count(//div[@class=\"full-description js-full-description responsive-media formatted-lists\"]//h1[contains(lower-case(text()),\"%s\")]/preceding-sibling::p)+1')\n",
    "# print(h1)\n",
    "\n",
    "b = split_team_and_project(\n",
    "    pid,\n",
    "    parsed_html,\n",
    "    bold_title_xpath='//p[count(./b)=1]//b',\n",
    "    pos_team_xpath='count(//p[contains(lower-case(text()),\"%s\")]/preceding-sibling::p)+1')\n",
    "# b"
   ]
  },
  {
   "cell_type": "code",
   "execution_count": null,
   "metadata": {
    "vscode": {
     "languageId": "r"
    }
   },
   "outputs": [],
   "source": [
    "all_p[[1]]\n",
    "cat('---------')\n",
    "str(all_p[[1]])"
   ]
  },
  {
   "cell_type": "code",
   "execution_count": null,
   "metadata": {
    "scrolled": true,
    "vscode": {
     "languageId": "r"
    }
   },
   "outputs": [],
   "source": [
    "# get parsed_html\n",
    "pid = 1649873594\n",
    "html_page = sprintf(\"C:/Users/rossz/OneDrive/Construal/data/Kickstarter Data/%s/%s.html\", pid, pid)\n",
    "parsed_html = htmlParse(html_page)\n",
    "\n",
    "root = parsed_html['//div[@class=\"full-description js-full-description responsive-media formatted-lists\"]'][[1]]\n",
    "\n",
    "root_children = xmlChildren(root) # I shouldn't use `xmlChildren` \n",
    "length(root_children)\n",
    "\n",
    "# root_children[[2]] %>% class()\n",
    "# root_children[[2]]\n",
    "cat('------------\\n')\n",
    "\n",
    "getNodeSet(root, './/p[count(.//b)=1 and contains(.//b, \"About\")]/preceding::*')"
   ]
  },
  {
   "cell_type": "code",
   "execution_count": null,
   "metadata": {
    "scrolled": true,
    "vscode": {
     "languageId": "r"
    }
   },
   "outputs": [],
   "source": [
    "root = xmlDoc(parsed_html['//div[@class=\"full-description js-full-description responsive-media formatted-lists\"]'][[1]])\n",
    "\n",
    "pos_team_start = getNodeSet(root, sprintf('count(//p[contains(lower-case(.//b/text()),\"%s\")]/preceding-sibling::*)+1', 'about'))\n",
    "pos_team_start\n",
    "\n",
    "names(root)"
   ]
  },
  {
   "cell_type": "code",
   "execution_count": null,
   "metadata": {
    "vscode": {
     "languageId": "r"
    }
   },
   "outputs": [],
   "source": [
    "class(parsed_html['//div[@class=\"full-description js-full-description responsive-media formatted-lists\"]'][1][[1]])"
   ]
  },
  {
   "cell_type": "code",
   "execution_count": null,
   "metadata": {
    "scrolled": true,
    "vscode": {
     "languageId": "r"
    }
   },
   "outputs": [],
   "source": [
    "all_p = getNodeSet(parsed_html, '//div[@class=\"full-description js-full-description responsive-media formatted-lists\"]//p')\n",
    "\n",
    "getNodeSet(all_p[[1]], './/text()')"
   ]
  },
  {
   "cell_type": "code",
   "execution_count": null,
   "metadata": {
    "vscode": {
     "languageId": "r"
    }
   },
   "outputs": [],
   "source": [
    "getNodeSet(parsed_html, \n",
    "           sprintf('//div[@class=\"full-description js-full-description responsive-media formatted-lists\"]//p[contains(lower-case(./b/text()),\"%s\")]', 'shipping'))"
   ]
  },
  {
   "cell_type": "markdown",
   "metadata": {},
   "source": [
    "# Image Label distribution"
   ]
  },
  {
   "cell_type": "markdown",
   "metadata": {},
   "source": [
    "## LVIS distribution (Py)"
   ]
  },
  {
   "cell_type": "code",
   "execution_count": null,
   "metadata": {
    "vscode": {
     "languageId": "r"
    }
   },
   "outputs": [],
   "source": [
    "LVIS_DATA_DIR = '/home/yu/Data/LVIS'\n",
    "\n",
    "import json\n",
    "\n",
    "with open(f'{LVIS_DATA_DIR}/lvis_v1_train.json') as ff:\n",
    "    lvis_dist = dt.Frame(json.load(ff)['categories'])\n",
    "\n",
    "lvis_dist.names = {'def': 'definition'}\n",
    "lvis_dist = lvis_dist[:, \n",
    "      [f.id, f.name, f.definition, f.instance_count, f.image_count, f.frequency]]\n",
    "\n",
    "sv('lvis_dist')\n",
    "fwrite(lvis_dist, 'object_detect_lvis_distribution.csv')"
   ]
  },
  {
   "cell_type": "markdown",
   "metadata": {},
   "source": [
    "## kick distribution (R)"
   ]
  },
  {
   "cell_type": "code",
   "execution_count": 2,
   "metadata": {
    "vscode": {
     "languageId": "r"
    }
   },
   "outputs": [
    {
     "name": "stdout",
     "output_type": "stream",
     "text": [
      "\"lvis_dist.feather\" (80.4 KB) loaded (0.03 secs) (2021-04-21 1:09 AM)\n",
      "\"df_objdet.feather\" (73.1 MB) loaded (0.61 secs) (2021-04-21 1:09 AM)\n"
     ]
    }
   ],
   "source": [
    "ld(lvis_dist, force=T) # dist of LVIS\n",
    "ld(df_objdet) # object detection results"
   ]
  },
  {
   "cell_type": "code",
   "execution_count": 34,
   "metadata": {
    "scrolled": true,
    "vscode": {
     "languageId": "r"
    }
   },
   "outputs": [],
   "source": [
    "kick = df_objdet[prob>=0.5, .(kick_freq=.N),\n",
    "      keyby=.(label_id)\n",
    "    ][, .(label_id, kick_freq=kick_freq/sum(kick_freq))]\n",
    "\n",
    "dist = lvis_dist[, .(label_id=id, lvis_freq=instance_count)\n",
    "    ][kick, on=.(label_id), nomatch=NULL\n",
    "    ][, ':='(lvis_freq=lvis_freq/sum(lvis_freq))\n",
    "    ][, ':='(is_kick_more=sign(kick_freq-lvis_freq))]"
   ]
  },
  {
   "cell_type": "code",
   "execution_count": 38,
   "metadata": {
    "scrolled": true,
    "vscode": {
     "languageId": "r"
    }
   },
   "outputs": [],
   "source": [
    "# plot_ly(dist, x=~label_id, y=~lvis_freq, type='bar', name='LVIS') %>%\n",
    "#     add_trace(y=~kick_freq, name='Kickstart') %>%\n",
    "#     plotly::layout(barmode='group')\n",
    "\n",
    "kick_dist = df_objdet[prob>=0.5, .(inst_count=.N), keyby=.(pid, label_id)\n",
    "    ][dist, on=.(label_id), nomatch=NULL\n",
    "    ][, {\n",
    "      n_labels=uniqueN(label_id)\n",
    "      n_instances=sum(inst_count)\n",
    "    \n",
    "      kick_freq=sum(kick_freq*inst_count)\n",
    "      kick_freq_norm=kick_freq/n_instances\n",
    "    \n",
    "      lvis_freq=sum(lvis_freq*inst_count)\n",
    "      lvis_freq_norm=lvis_freq/n_instances\n",
    "    \n",
    "      abs_freq_diff=abs(sum(kick_freq*inst_count)-sum(lvis_freq*inst_count))\n",
    "      sign_freq_diff=sign(sum(is_kick_more*inst_count))\n",
    "      \n",
    "       \n",
    "      list(n_labels=n_labels, n_instances=n_instances, kick_freq=kick_freq,\n",
    "           kick_freq_norm=kick_freq_norm, lvis_freq=lvis_freq, \n",
    "           lvis_freq_norm=lvis_freq_norm,\n",
    "           abs_freq_diff=abs_freq_diff, sign_freq_diff=sign_freq_diff)\n",
    "      },\n",
    "      keyby=.(pid)]"
   ]
  },
  {
   "cell_type": "markdown",
   "metadata": {},
   "source": [
    "# Merge all datasets (text, image)"
   ]
  },
  {
   "cell_type": "markdown",
   "metadata": {},
   "source": [
    "> Note:\n",
    ">\n",
    "> 1. The order of this variable dictionary is the same as the order that the varaibles appears in the dataset.\n",
    "> 2. Variables are grouped as TEXT, IMAGE, and TEXT-IMAGE FIT. In the following setction, \"start\" means the first variable of this group; \"end\" means the last.\n",
    "\n",
    "- `pid`: project id. Primary key of the dataset.\n",
    "\n",
    "- TEXT:\n",
    "    - start: 'bscore'; end: 'objectivity'\n",
    "    - ntoken: number of tokens (words) in \"project_desc.\"\n",
    "    - ntoken_bscore_[unique/first200]_[nostopwords]: the number of tokens that falls into the \"B-score\" (Brysbaert et al., 2014) dictionary. [unique/first200] indicates whether we consider [the whole document] or [the first 200 words]. [nostopwords] indicates whether excluding stop words.\n",
    "    - bscore_[unique/first200]_[nostopwords]: the concreteness score (Brysbaert et al., 2014) of the [whole document/first 200 words]. [nostopwords] indicates whether excluding stop words.\n",
    "    - [...]_title: this variable is calculated for the title \n",
    "    - fog_score: the FOG index. Proxy for readability\n",
    "    - n_spelling_errors: N of spelling errors.\n",
    "    - n_grammar_errors: N of grammar errors\n",
    "    - sentiment_label: 'POSITIVE' or 'NEGATIVE'\n",
    "    - sentiment_score: the score (probability) of sentiment_label. In range of [0,1]\n",
    "    - objectivity: objectivity score, i.e., the number of sentences that are classified as \"objective.\" Please note almost all (>99%) sentences are classified as objective!\n",
    "\n",
    "\n",
    "- IMAGE:\n",
    "    - start: 'entropy_weighted_unnormalized'; end: 'n_happy_faces'\n",
    "    - entropy_weighted_[un]normalized: entropy-based image concreteness score.\n",
    "    - mni_k[N]_weighted_[un]normalized: MNI-based concreteness score\n",
    "    - n_faces: N of faces\n",
    "    - n_happy_faces: N of happy faces (<= n_faces)\n",
    "\n",
    "\n",
    "- TEXT-IMAGE FIT\n",
    "    - start: 'glove_cluster_cos_dist'\n",
    "    - end: 'charngram_shortest_linf_dist'\n",
    "    - [glove/fasttext/charngram]_[cluster/shortest]_l[1/2/inf]_dist. Text-image fit score. [glove/fasttext/charngram] indicates the pretrained embedding used.\n",
    "[cluster/shortest] indicates whether it's distance between the \"clusters centrality\" or \"closest points;\" l[1/2/inf] indicates whether it's L1/L2/L-infinity distance.\n",
    "\n",
    "- META data\n",
    "    - start: 'title'\n",
    "    - end: 'state_at_scraping'"
   ]
  },
  {
   "cell_type": "code",
   "execution_count": 1,
   "metadata": {
    "vscode": {
     "languageId": "r"
    }
   },
   "outputs": [
    {
     "name": "stdout",
     "output_type": "stream",
     "text": [
      "Yu's data science toolbox loaded! \n",
      "\"bscore_bypid.feather\" (3.2 MB) loaded (0.04 secs) (2022-01-15 10:10 PM)\n",
      "\"out_fog.feather\" (815.5 KB) loaded (0.01 secs) (2022-01-15 10:10 PM)\n",
      "\"out_grammar.feather\" (619.2 KB) loaded (0.01 secs) (2022-01-15 10:10 PM)\n",
      "\"out_sentiment.feather\" (935.2 KB) loaded (0.01 secs) (2022-01-15 10:10 PM)\n",
      "\"out_objectivity.feather\" (502 KB) loaded (0.01 secs) (2022-01-15 10:10 PM)\n",
      "\"pid_weighted_mni_entropy.feather\" (339.8 KB) loaded (0 secs) (2022-01-15 10:10 PM)\n",
      "\"out_faces.feather\" (47.5 KB) loaded (0 secs) (2022-01-15 10:10 PM)\n",
      "\"pjson.feather\" (167.5 MB) loaded (0.49 secs) (2022-01-15 10:10 PM)\n",
      "\"final_dataset\" saved as \"final_dataset.feather\" (10.9 MB) (0.05 secs, 2022-01-15 22:10:29)\n"
     ]
    },
    {
     "data": {
      "text/html": [
       "<style>\n",
       ".list-inline {list-style: none; margin:0; padding: 0}\n",
       ".list-inline>li {display: inline-block}\n",
       ".list-inline>li:not(:last-child)::after {content: \"\\00b7\"; padding: 0 .5ex}\n",
       "</style>\n",
       "<ol class=list-inline><li>'pid'</li><li>'bscore'</li><li>'ntoken_bscore'</li><li>'ntoken_unique'</li><li>'ntoken_bscore_unique'</li><li>'bscore_nostopwords'</li><li>'ntoken_bscore_nostopwords'</li><li>'ntoken_unique_nostopwords'</li><li>'ntoken_bscore_unique_nostopwords'</li><li>'bscore_first200'</li><li>'ntoken_bscore_first200'</li><li>'ntoken_unique_first200'</li><li>'ntoken_bscore_unique_first200'</li><li>'bscore_first200_nostopwords'</li><li>'ntoken_bscore_first200_nostopwords'</li><li>'ntoken_unique_first200_nostopwords'</li><li>'ntoken_bscore_unique_first200_nostopwords'</li><li>'ntoken'</li><li>'bscore_nostopwords_title'</li><li>'ntoken_bscore_nostopwords_title'</li><li>'ntoken_unique_nostopwords_title'</li><li>'ntoken_bscore_unique_nostopwords_title'</li><li>'bscore_title'</li><li>'ntoken_bscore_title'</li><li>'ntoken_unique_title'</li><li>'ntoken_bscore_unique_title'</li><li>'ntoken_title'</li><li>'fog_score'</li><li>'n_spelling_errors'</li><li>'n_grammar_errors'</li><li>'sentiment_label'</li><li>'sentiment_score'</li><li>'objectivity'</li><li>'entropy_weighted_unnormalized'</li><li>'entropy_weighted_normalized'</li><li>'mni_k10_weighted_unnormalized'</li><li>'mni_k10_weighted_normalized'</li><li>'mni_k25_weighted_unnormalized'</li><li>'mni_k25_weighted_normalized'</li><li>'mni_k50_weighted_unnormalized'</li><li>'mni_k50_weighted_normalized'</li><li>'mni_k100_weighted_unnormalized'</li><li>'mni_k100_weighted_normalized'</li><li>'n_faces'</li><li>'n_happy_faces'</li><li>'glove_cluster_cos_dist_title'</li><li>'glove_cluster_l1_dist_title'</li><li>'glove_cluster_l2_dist_title'</li><li>'glove_cluster_linf_dist_title'</li><li>'glove_shortest_cos_dist_title'</li><li>'glove_shortest_l1_dist_title'</li><li>'glove_shortest_l2_dist_title'</li><li>'glove_shortest_linf_dist_title'</li><li>'fasttext_cluster_cos_dist_title'</li><li>'fasttext_cluster_l1_dist_title'</li><li>'fasttext_cluster_l2_dist_title'</li><li>'fasttext_cluster_linf_dist_title'</li><li>'fasttext_shortest_cos_dist_title'</li><li>'fasttext_shortest_l1_dist_title'</li><li>'fasttext_shortest_l2_dist_title'</li><li>'fasttext_shortest_linf_dist_title'</li><li>'charngram_cluster_cos_dist_title'</li><li>'charngram_cluster_l1_dist_title'</li><li>'charngram_cluster_l2_dist_title'</li><li>'charngram_cluster_linf_dist_title'</li><li>'charngram_shortest_cos_dist_title'</li><li>'charngram_shortest_l1_dist_title'</li><li>'charngram_shortest_l2_dist_title'</li><li>'charngram_shortest_linf_dist_title'</li><li>'glove_cluster_cos_dist_desc'</li><li>'glove_cluster_l1_dist_desc'</li><li>'glove_cluster_l2_dist_desc'</li><li>'glove_cluster_linf_dist_desc'</li><li>'glove_shortest_cos_dist_desc'</li><li>'glove_shortest_l1_dist_desc'</li><li>'glove_shortest_l2_dist_desc'</li><li>'glove_shortest_linf_dist_desc'</li><li>'fasttext_cluster_cos_dist_desc'</li><li>'fasttext_cluster_l1_dist_desc'</li><li>'fasttext_cluster_l2_dist_desc'</li><li>'fasttext_cluster_linf_dist_desc'</li><li>'fasttext_shortest_cos_dist_desc'</li><li>'fasttext_shortest_l1_dist_desc'</li><li>'fasttext_shortest_l2_dist_desc'</li><li>'fasttext_shortest_linf_dist_desc'</li><li>'charngram_cluster_cos_dist_desc'</li><li>'charngram_cluster_l1_dist_desc'</li><li>'charngram_cluster_l2_dist_desc'</li><li>'charngram_cluster_linf_dist_desc'</li><li>'charngram_shortest_cos_dist_desc'</li><li>'charngram_shortest_l1_dist_desc'</li><li>'charngram_shortest_l2_dist_desc'</li><li>'charngram_shortest_linf_dist_desc'</li><li>'title'</li><li>'summary'</li><li>'creator'</li><li>'backers_count'</li><li>'pledged_money'</li><li>'created_at'</li><li>'deadline'</li><li>'goal'</li><li>'category'</li><li>'location'</li><li>'has_video'</li><li>'FAQ_count'</li><li>'updates_count'</li><li>'comments_count'</li><li>'project_desc'</li><li>'desc_parag_num'</li><li>'desc_title_num'</li><li>'risks_challenge'</li><li>'pledge_money'</li><li>'pledge_count'</li><li>'state_at_scraping'</li></ol>\n"
      ],
      "text/latex": [
       "\\begin{enumerate*}\n",
       "\\item 'pid'\n",
       "\\item 'bscore'\n",
       "\\item 'ntoken\\_bscore'\n",
       "\\item 'ntoken\\_unique'\n",
       "\\item 'ntoken\\_bscore\\_unique'\n",
       "\\item 'bscore\\_nostopwords'\n",
       "\\item 'ntoken\\_bscore\\_nostopwords'\n",
       "\\item 'ntoken\\_unique\\_nostopwords'\n",
       "\\item 'ntoken\\_bscore\\_unique\\_nostopwords'\n",
       "\\item 'bscore\\_first200'\n",
       "\\item 'ntoken\\_bscore\\_first200'\n",
       "\\item 'ntoken\\_unique\\_first200'\n",
       "\\item 'ntoken\\_bscore\\_unique\\_first200'\n",
       "\\item 'bscore\\_first200\\_nostopwords'\n",
       "\\item 'ntoken\\_bscore\\_first200\\_nostopwords'\n",
       "\\item 'ntoken\\_unique\\_first200\\_nostopwords'\n",
       "\\item 'ntoken\\_bscore\\_unique\\_first200\\_nostopwords'\n",
       "\\item 'ntoken'\n",
       "\\item 'bscore\\_nostopwords\\_title'\n",
       "\\item 'ntoken\\_bscore\\_nostopwords\\_title'\n",
       "\\item 'ntoken\\_unique\\_nostopwords\\_title'\n",
       "\\item 'ntoken\\_bscore\\_unique\\_nostopwords\\_title'\n",
       "\\item 'bscore\\_title'\n",
       "\\item 'ntoken\\_bscore\\_title'\n",
       "\\item 'ntoken\\_unique\\_title'\n",
       "\\item 'ntoken\\_bscore\\_unique\\_title'\n",
       "\\item 'ntoken\\_title'\n",
       "\\item 'fog\\_score'\n",
       "\\item 'n\\_spelling\\_errors'\n",
       "\\item 'n\\_grammar\\_errors'\n",
       "\\item 'sentiment\\_label'\n",
       "\\item 'sentiment\\_score'\n",
       "\\item 'objectivity'\n",
       "\\item 'entropy\\_weighted\\_unnormalized'\n",
       "\\item 'entropy\\_weighted\\_normalized'\n",
       "\\item 'mni\\_k10\\_weighted\\_unnormalized'\n",
       "\\item 'mni\\_k10\\_weighted\\_normalized'\n",
       "\\item 'mni\\_k25\\_weighted\\_unnormalized'\n",
       "\\item 'mni\\_k25\\_weighted\\_normalized'\n",
       "\\item 'mni\\_k50\\_weighted\\_unnormalized'\n",
       "\\item 'mni\\_k50\\_weighted\\_normalized'\n",
       "\\item 'mni\\_k100\\_weighted\\_unnormalized'\n",
       "\\item 'mni\\_k100\\_weighted\\_normalized'\n",
       "\\item 'n\\_faces'\n",
       "\\item 'n\\_happy\\_faces'\n",
       "\\item 'glove\\_cluster\\_cos\\_dist\\_title'\n",
       "\\item 'glove\\_cluster\\_l1\\_dist\\_title'\n",
       "\\item 'glove\\_cluster\\_l2\\_dist\\_title'\n",
       "\\item 'glove\\_cluster\\_linf\\_dist\\_title'\n",
       "\\item 'glove\\_shortest\\_cos\\_dist\\_title'\n",
       "\\item 'glove\\_shortest\\_l1\\_dist\\_title'\n",
       "\\item 'glove\\_shortest\\_l2\\_dist\\_title'\n",
       "\\item 'glove\\_shortest\\_linf\\_dist\\_title'\n",
       "\\item 'fasttext\\_cluster\\_cos\\_dist\\_title'\n",
       "\\item 'fasttext\\_cluster\\_l1\\_dist\\_title'\n",
       "\\item 'fasttext\\_cluster\\_l2\\_dist\\_title'\n",
       "\\item 'fasttext\\_cluster\\_linf\\_dist\\_title'\n",
       "\\item 'fasttext\\_shortest\\_cos\\_dist\\_title'\n",
       "\\item 'fasttext\\_shortest\\_l1\\_dist\\_title'\n",
       "\\item 'fasttext\\_shortest\\_l2\\_dist\\_title'\n",
       "\\item 'fasttext\\_shortest\\_linf\\_dist\\_title'\n",
       "\\item 'charngram\\_cluster\\_cos\\_dist\\_title'\n",
       "\\item 'charngram\\_cluster\\_l1\\_dist\\_title'\n",
       "\\item 'charngram\\_cluster\\_l2\\_dist\\_title'\n",
       "\\item 'charngram\\_cluster\\_linf\\_dist\\_title'\n",
       "\\item 'charngram\\_shortest\\_cos\\_dist\\_title'\n",
       "\\item 'charngram\\_shortest\\_l1\\_dist\\_title'\n",
       "\\item 'charngram\\_shortest\\_l2\\_dist\\_title'\n",
       "\\item 'charngram\\_shortest\\_linf\\_dist\\_title'\n",
       "\\item 'glove\\_cluster\\_cos\\_dist\\_desc'\n",
       "\\item 'glove\\_cluster\\_l1\\_dist\\_desc'\n",
       "\\item 'glove\\_cluster\\_l2\\_dist\\_desc'\n",
       "\\item 'glove\\_cluster\\_linf\\_dist\\_desc'\n",
       "\\item 'glove\\_shortest\\_cos\\_dist\\_desc'\n",
       "\\item 'glove\\_shortest\\_l1\\_dist\\_desc'\n",
       "\\item 'glove\\_shortest\\_l2\\_dist\\_desc'\n",
       "\\item 'glove\\_shortest\\_linf\\_dist\\_desc'\n",
       "\\item 'fasttext\\_cluster\\_cos\\_dist\\_desc'\n",
       "\\item 'fasttext\\_cluster\\_l1\\_dist\\_desc'\n",
       "\\item 'fasttext\\_cluster\\_l2\\_dist\\_desc'\n",
       "\\item 'fasttext\\_cluster\\_linf\\_dist\\_desc'\n",
       "\\item 'fasttext\\_shortest\\_cos\\_dist\\_desc'\n",
       "\\item 'fasttext\\_shortest\\_l1\\_dist\\_desc'\n",
       "\\item 'fasttext\\_shortest\\_l2\\_dist\\_desc'\n",
       "\\item 'fasttext\\_shortest\\_linf\\_dist\\_desc'\n",
       "\\item 'charngram\\_cluster\\_cos\\_dist\\_desc'\n",
       "\\item 'charngram\\_cluster\\_l1\\_dist\\_desc'\n",
       "\\item 'charngram\\_cluster\\_l2\\_dist\\_desc'\n",
       "\\item 'charngram\\_cluster\\_linf\\_dist\\_desc'\n",
       "\\item 'charngram\\_shortest\\_cos\\_dist\\_desc'\n",
       "\\item 'charngram\\_shortest\\_l1\\_dist\\_desc'\n",
       "\\item 'charngram\\_shortest\\_l2\\_dist\\_desc'\n",
       "\\item 'charngram\\_shortest\\_linf\\_dist\\_desc'\n",
       "\\item 'title'\n",
       "\\item 'summary'\n",
       "\\item 'creator'\n",
       "\\item 'backers\\_count'\n",
       "\\item 'pledged\\_money'\n",
       "\\item 'created\\_at'\n",
       "\\item 'deadline'\n",
       "\\item 'goal'\n",
       "\\item 'category'\n",
       "\\item 'location'\n",
       "\\item 'has\\_video'\n",
       "\\item 'FAQ\\_count'\n",
       "\\item 'updates\\_count'\n",
       "\\item 'comments\\_count'\n",
       "\\item 'project\\_desc'\n",
       "\\item 'desc\\_parag\\_num'\n",
       "\\item 'desc\\_title\\_num'\n",
       "\\item 'risks\\_challenge'\n",
       "\\item 'pledge\\_money'\n",
       "\\item 'pledge\\_count'\n",
       "\\item 'state\\_at\\_scraping'\n",
       "\\end{enumerate*}\n"
      ],
      "text/markdown": [
       "1. 'pid'\n",
       "2. 'bscore'\n",
       "3. 'ntoken_bscore'\n",
       "4. 'ntoken_unique'\n",
       "5. 'ntoken_bscore_unique'\n",
       "6. 'bscore_nostopwords'\n",
       "7. 'ntoken_bscore_nostopwords'\n",
       "8. 'ntoken_unique_nostopwords'\n",
       "9. 'ntoken_bscore_unique_nostopwords'\n",
       "10. 'bscore_first200'\n",
       "11. 'ntoken_bscore_first200'\n",
       "12. 'ntoken_unique_first200'\n",
       "13. 'ntoken_bscore_unique_first200'\n",
       "14. 'bscore_first200_nostopwords'\n",
       "15. 'ntoken_bscore_first200_nostopwords'\n",
       "16. 'ntoken_unique_first200_nostopwords'\n",
       "17. 'ntoken_bscore_unique_first200_nostopwords'\n",
       "18. 'ntoken'\n",
       "19. 'bscore_nostopwords_title'\n",
       "20. 'ntoken_bscore_nostopwords_title'\n",
       "21. 'ntoken_unique_nostopwords_title'\n",
       "22. 'ntoken_bscore_unique_nostopwords_title'\n",
       "23. 'bscore_title'\n",
       "24. 'ntoken_bscore_title'\n",
       "25. 'ntoken_unique_title'\n",
       "26. 'ntoken_bscore_unique_title'\n",
       "27. 'ntoken_title'\n",
       "28. 'fog_score'\n",
       "29. 'n_spelling_errors'\n",
       "30. 'n_grammar_errors'\n",
       "31. 'sentiment_label'\n",
       "32. 'sentiment_score'\n",
       "33. 'objectivity'\n",
       "34. 'entropy_weighted_unnormalized'\n",
       "35. 'entropy_weighted_normalized'\n",
       "36. 'mni_k10_weighted_unnormalized'\n",
       "37. 'mni_k10_weighted_normalized'\n",
       "38. 'mni_k25_weighted_unnormalized'\n",
       "39. 'mni_k25_weighted_normalized'\n",
       "40. 'mni_k50_weighted_unnormalized'\n",
       "41. 'mni_k50_weighted_normalized'\n",
       "42. 'mni_k100_weighted_unnormalized'\n",
       "43. 'mni_k100_weighted_normalized'\n",
       "44. 'n_faces'\n",
       "45. 'n_happy_faces'\n",
       "46. 'glove_cluster_cos_dist_title'\n",
       "47. 'glove_cluster_l1_dist_title'\n",
       "48. 'glove_cluster_l2_dist_title'\n",
       "49. 'glove_cluster_linf_dist_title'\n",
       "50. 'glove_shortest_cos_dist_title'\n",
       "51. 'glove_shortest_l1_dist_title'\n",
       "52. 'glove_shortest_l2_dist_title'\n",
       "53. 'glove_shortest_linf_dist_title'\n",
       "54. 'fasttext_cluster_cos_dist_title'\n",
       "55. 'fasttext_cluster_l1_dist_title'\n",
       "56. 'fasttext_cluster_l2_dist_title'\n",
       "57. 'fasttext_cluster_linf_dist_title'\n",
       "58. 'fasttext_shortest_cos_dist_title'\n",
       "59. 'fasttext_shortest_l1_dist_title'\n",
       "60. 'fasttext_shortest_l2_dist_title'\n",
       "61. 'fasttext_shortest_linf_dist_title'\n",
       "62. 'charngram_cluster_cos_dist_title'\n",
       "63. 'charngram_cluster_l1_dist_title'\n",
       "64. 'charngram_cluster_l2_dist_title'\n",
       "65. 'charngram_cluster_linf_dist_title'\n",
       "66. 'charngram_shortest_cos_dist_title'\n",
       "67. 'charngram_shortest_l1_dist_title'\n",
       "68. 'charngram_shortest_l2_dist_title'\n",
       "69. 'charngram_shortest_linf_dist_title'\n",
       "70. 'glove_cluster_cos_dist_desc'\n",
       "71. 'glove_cluster_l1_dist_desc'\n",
       "72. 'glove_cluster_l2_dist_desc'\n",
       "73. 'glove_cluster_linf_dist_desc'\n",
       "74. 'glove_shortest_cos_dist_desc'\n",
       "75. 'glove_shortest_l1_dist_desc'\n",
       "76. 'glove_shortest_l2_dist_desc'\n",
       "77. 'glove_shortest_linf_dist_desc'\n",
       "78. 'fasttext_cluster_cos_dist_desc'\n",
       "79. 'fasttext_cluster_l1_dist_desc'\n",
       "80. 'fasttext_cluster_l2_dist_desc'\n",
       "81. 'fasttext_cluster_linf_dist_desc'\n",
       "82. 'fasttext_shortest_cos_dist_desc'\n",
       "83. 'fasttext_shortest_l1_dist_desc'\n",
       "84. 'fasttext_shortest_l2_dist_desc'\n",
       "85. 'fasttext_shortest_linf_dist_desc'\n",
       "86. 'charngram_cluster_cos_dist_desc'\n",
       "87. 'charngram_cluster_l1_dist_desc'\n",
       "88. 'charngram_cluster_l2_dist_desc'\n",
       "89. 'charngram_cluster_linf_dist_desc'\n",
       "90. 'charngram_shortest_cos_dist_desc'\n",
       "91. 'charngram_shortest_l1_dist_desc'\n",
       "92. 'charngram_shortest_l2_dist_desc'\n",
       "93. 'charngram_shortest_linf_dist_desc'\n",
       "94. 'title'\n",
       "95. 'summary'\n",
       "96. 'creator'\n",
       "97. 'backers_count'\n",
       "98. 'pledged_money'\n",
       "99. 'created_at'\n",
       "100. 'deadline'\n",
       "101. 'goal'\n",
       "102. 'category'\n",
       "103. 'location'\n",
       "104. 'has_video'\n",
       "105. 'FAQ_count'\n",
       "106. 'updates_count'\n",
       "107. 'comments_count'\n",
       "108. 'project_desc'\n",
       "109. 'desc_parag_num'\n",
       "110. 'desc_title_num'\n",
       "111. 'risks_challenge'\n",
       "112. 'pledge_money'\n",
       "113. 'pledge_count'\n",
       "114. 'state_at_scraping'\n",
       "\n",
       "\n"
      ],
      "text/plain": [
       "  [1] \"pid\"                                      \n",
       "  [2] \"bscore\"                                   \n",
       "  [3] \"ntoken_bscore\"                            \n",
       "  [4] \"ntoken_unique\"                            \n",
       "  [5] \"ntoken_bscore_unique\"                     \n",
       "  [6] \"bscore_nostopwords\"                       \n",
       "  [7] \"ntoken_bscore_nostopwords\"                \n",
       "  [8] \"ntoken_unique_nostopwords\"                \n",
       "  [9] \"ntoken_bscore_unique_nostopwords\"         \n",
       " [10] \"bscore_first200\"                          \n",
       " [11] \"ntoken_bscore_first200\"                   \n",
       " [12] \"ntoken_unique_first200\"                   \n",
       " [13] \"ntoken_bscore_unique_first200\"            \n",
       " [14] \"bscore_first200_nostopwords\"              \n",
       " [15] \"ntoken_bscore_first200_nostopwords\"       \n",
       " [16] \"ntoken_unique_first200_nostopwords\"       \n",
       " [17] \"ntoken_bscore_unique_first200_nostopwords\"\n",
       " [18] \"ntoken\"                                   \n",
       " [19] \"bscore_nostopwords_title\"                 \n",
       " [20] \"ntoken_bscore_nostopwords_title\"          \n",
       " [21] \"ntoken_unique_nostopwords_title\"          \n",
       " [22] \"ntoken_bscore_unique_nostopwords_title\"   \n",
       " [23] \"bscore_title\"                             \n",
       " [24] \"ntoken_bscore_title\"                      \n",
       " [25] \"ntoken_unique_title\"                      \n",
       " [26] \"ntoken_bscore_unique_title\"               \n",
       " [27] \"ntoken_title\"                             \n",
       " [28] \"fog_score\"                                \n",
       " [29] \"n_spelling_errors\"                        \n",
       " [30] \"n_grammar_errors\"                         \n",
       " [31] \"sentiment_label\"                          \n",
       " [32] \"sentiment_score\"                          \n",
       " [33] \"objectivity\"                              \n",
       " [34] \"entropy_weighted_unnormalized\"            \n",
       " [35] \"entropy_weighted_normalized\"              \n",
       " [36] \"mni_k10_weighted_unnormalized\"            \n",
       " [37] \"mni_k10_weighted_normalized\"              \n",
       " [38] \"mni_k25_weighted_unnormalized\"            \n",
       " [39] \"mni_k25_weighted_normalized\"              \n",
       " [40] \"mni_k50_weighted_unnormalized\"            \n",
       " [41] \"mni_k50_weighted_normalized\"              \n",
       " [42] \"mni_k100_weighted_unnormalized\"           \n",
       " [43] \"mni_k100_weighted_normalized\"             \n",
       " [44] \"n_faces\"                                  \n",
       " [45] \"n_happy_faces\"                            \n",
       " [46] \"glove_cluster_cos_dist_title\"             \n",
       " [47] \"glove_cluster_l1_dist_title\"              \n",
       " [48] \"glove_cluster_l2_dist_title\"              \n",
       " [49] \"glove_cluster_linf_dist_title\"            \n",
       " [50] \"glove_shortest_cos_dist_title\"            \n",
       " [51] \"glove_shortest_l1_dist_title\"             \n",
       " [52] \"glove_shortest_l2_dist_title\"             \n",
       " [53] \"glove_shortest_linf_dist_title\"           \n",
       " [54] \"fasttext_cluster_cos_dist_title\"          \n",
       " [55] \"fasttext_cluster_l1_dist_title\"           \n",
       " [56] \"fasttext_cluster_l2_dist_title\"           \n",
       " [57] \"fasttext_cluster_linf_dist_title\"         \n",
       " [58] \"fasttext_shortest_cos_dist_title\"         \n",
       " [59] \"fasttext_shortest_l1_dist_title\"          \n",
       " [60] \"fasttext_shortest_l2_dist_title\"          \n",
       " [61] \"fasttext_shortest_linf_dist_title\"        \n",
       " [62] \"charngram_cluster_cos_dist_title\"         \n",
       " [63] \"charngram_cluster_l1_dist_title\"          \n",
       " [64] \"charngram_cluster_l2_dist_title\"          \n",
       " [65] \"charngram_cluster_linf_dist_title\"        \n",
       " [66] \"charngram_shortest_cos_dist_title\"        \n",
       " [67] \"charngram_shortest_l1_dist_title\"         \n",
       " [68] \"charngram_shortest_l2_dist_title\"         \n",
       " [69] \"charngram_shortest_linf_dist_title\"       \n",
       " [70] \"glove_cluster_cos_dist_desc\"              \n",
       " [71] \"glove_cluster_l1_dist_desc\"               \n",
       " [72] \"glove_cluster_l2_dist_desc\"               \n",
       " [73] \"glove_cluster_linf_dist_desc\"             \n",
       " [74] \"glove_shortest_cos_dist_desc\"             \n",
       " [75] \"glove_shortest_l1_dist_desc\"              \n",
       " [76] \"glove_shortest_l2_dist_desc\"              \n",
       " [77] \"glove_shortest_linf_dist_desc\"            \n",
       " [78] \"fasttext_cluster_cos_dist_desc\"           \n",
       " [79] \"fasttext_cluster_l1_dist_desc\"            \n",
       " [80] \"fasttext_cluster_l2_dist_desc\"            \n",
       " [81] \"fasttext_cluster_linf_dist_desc\"          \n",
       " [82] \"fasttext_shortest_cos_dist_desc\"          \n",
       " [83] \"fasttext_shortest_l1_dist_desc\"           \n",
       " [84] \"fasttext_shortest_l2_dist_desc\"           \n",
       " [85] \"fasttext_shortest_linf_dist_desc\"         \n",
       " [86] \"charngram_cluster_cos_dist_desc\"          \n",
       " [87] \"charngram_cluster_l1_dist_desc\"           \n",
       " [88] \"charngram_cluster_l2_dist_desc\"           \n",
       " [89] \"charngram_cluster_linf_dist_desc\"         \n",
       " [90] \"charngram_shortest_cos_dist_desc\"         \n",
       " [91] \"charngram_shortest_l1_dist_desc\"          \n",
       " [92] \"charngram_shortest_l2_dist_desc\"          \n",
       " [93] \"charngram_shortest_linf_dist_desc\"        \n",
       " [94] \"title\"                                    \n",
       " [95] \"summary\"                                  \n",
       " [96] \"creator\"                                  \n",
       " [97] \"backers_count\"                            \n",
       " [98] \"pledged_money\"                            \n",
       " [99] \"created_at\"                               \n",
       "[100] \"deadline\"                                 \n",
       "[101] \"goal\"                                     \n",
       "[102] \"category\"                                 \n",
       "[103] \"location\"                                 \n",
       "[104] \"has_video\"                                \n",
       "[105] \"FAQ_count\"                                \n",
       "[106] \"updates_count\"                            \n",
       "[107] \"comments_count\"                           \n",
       "[108] \"project_desc\"                             \n",
       "[109] \"desc_parag_num\"                           \n",
       "[110] \"desc_title_num\"                           \n",
       "[111] \"risks_challenge\"                          \n",
       "[112] \"pledge_money\"                             \n",
       "[113] \"pledge_count\"                             \n",
       "[114] \"state_at_scraping\"                        "
      ]
     },
     "metadata": {},
     "output_type": "display_data"
    }
   ],
   "source": [
    "suppressMessages(library(utilr))\n",
    "WORK_DIR = '/home/yu/OneDrive/Construal'\n",
    "SHARE_DIR = '/home/yu/OneDrive/Construal/data/sharing'\n",
    "setwd(WORK_DIR)\n",
    "\n",
    "# ---------------------\n",
    "# load datasets\n",
    "# ---------------------\n",
    "\n",
    "# text\n",
    "ld(bscore_bypid)\n",
    "ld(out_fog)\n",
    "ld(out_grammar)\n",
    "ld(out_sentiment)\n",
    "ld(out_objectivity)\n",
    "\n",
    "# image\n",
    "ld(pid_weighted_mni_entropy)\n",
    "ld(out_faces)\n",
    "\n",
    "# text-image fit\n",
    "dist_glove_title = fread('data/sharing/dist_glove_title.csv')\n",
    "dist_fasttext_title = fread('data/sharing/dist_fasttext_title.csv')\n",
    "dist_charngram_title = fread('data/sharing/dist_charngram_title.csv')\n",
    "dist_glove_desc = fread('data/sharing/dist_glove_desc.csv')\n",
    "dist_fasttext_desc = fread('data/sharing/dist_fasttext_desc.csv')\n",
    "dist_charngram_desc = fread('data/sharing/dist_charngram_desc.csv')\n",
    "\n",
    "# pjson\n",
    "ld(pjson, ldtype='feather')\n",
    "\n",
    "# ---------------------\n",
    "# merge datasets\n",
    "# ---------------------\n",
    "\n",
    "# TEXT concreteness\n",
    "text = bscore_bypid[out_fog, on=.(pid), nomatch=NULL\n",
    "    ][out_grammar, on=.(pid), nomatch=NULL\n",
    "    ][out_sentiment, on=.(pid), nomatch=NULL\n",
    "    ][out_objectivity, on=.(pid), nomatch=NULL]\n",
    "setnames(text, c('label', 'score'), c('sentiment_label', 'sentiment_score'))\n",
    "\n",
    "\n",
    "# IMAGE concreteness\n",
    "image = pid_weighted_mni_entropy[out_faces, on=.(pid), nomatch=NULL]\n",
    "\n",
    "# TEXT-IMAGE fit\n",
    "add_var_prefix <- function(dt, prefix, suffix=NULL) {\n",
    "    col_names = names(dt)\n",
    "    col_names = col_names[!str_detect(col_names, 'pid')]\n",
    "    setnames(dt, col_names, str_c(prefix, col_names, suffix, sep='_'))\n",
    "    dt\n",
    "}\n",
    "dist_glove_title = add_var_prefix(\n",
    "    dist_glove_title, 'glove', 'title')\n",
    "dist_fasttext_title = add_var_prefix(\n",
    "    dist_fasttext_title, 'fasttext', 'title')\n",
    "dist_charngram_title = add_var_prefix(\n",
    "    dist_charngram_title, 'charngram', 'title')\n",
    "\n",
    "dist_glove_desc = add_var_prefix(\n",
    "    dist_glove_desc, 'glove', 'desc')\n",
    "dist_fasttext_desc = add_var_prefix(\n",
    "    dist_fasttext_desc, 'fasttext', 'desc')\n",
    "dist_charngram_desc = add_var_prefix(\n",
    "    dist_charngram_desc, 'charngram', 'desc')\n",
    "\n",
    "fit = dist_glove_title[dist_fasttext_title, on=.(pid), nomatch=NULL\n",
    "    ][dist_charngram_title, on=.(pid), nomatch=NULL\n",
    "    ][dist_glove_desc, on=.(pid), nomatch=NULL\n",
    "    ][dist_fasttext_desc, on=.(pid), nomatch=NULL\n",
    "    ][dist_charngram_desc, on=.(pid), nomatch=NULL]\n",
    "\n",
    "\n",
    "# final dataset!!!\n",
    "final_dataset = text[image, on=.(pid), nomatch=NULL\n",
    "    ][fit[, ':='(pid=as.character(pid))], on=.(pid), nomatch=NULL\n",
    "    ][pjson, on=.(pid), nomatch=NULL]\n",
    "\n",
    "sv(final_dataset)\n",
    "fwrite(final_dataset, 'data/sharing/final_dataset.csv')\n",
    "\n",
    "names(final_dataset)\n"
   ]
  },
  {
   "cell_type": "code",
   "execution_count": null,
   "metadata": {
    "vscode": {
     "languageId": "r"
    }
   },
   "outputs": [],
   "source": []
  },
  {
   "cell_type": "markdown",
   "metadata": {},
   "source": [
    "# Trash "
   ]
  },
  {
   "cell_type": "code",
   "execution_count": 9,
   "metadata": {
    "vscode": {
     "languageId": "r"
    }
   },
   "outputs": [
    {
     "name": "stdout",
     "output_type": "stream",
     "text": [
      "\"final_dataset.feather\" (10.9 MB) loaded (0.06 secs) (2022-08-11 3:06 AM)\n"
     ]
    }
   ],
   "source": [
    "final = ld('final_dataset', folder='data')"
   ]
  },
  {
   "cell_type": "code",
   "execution_count": 18,
   "metadata": {
    "vscode": {
     "languageId": "r"
    }
   },
   "outputs": [],
   "source": [
    "final[order(fasttext_cluster_cos_dist_title)\n",
    "    ][c(1:100, (.N-100):.N), .(pid, fasttext_cluster_cos_dist_title)\n",
    "    ] %>% fwrite('data/sharing/high-low-fit.csv')"
   ]
  },
  {
   "cell_type": "code",
   "execution_count": 19,
   "metadata": {
    "vscode": {
     "languageId": "r"
    }
   },
   "outputs": [],
   "source": [
    "final[order(-mni_k100_weighted_normalized), \n",
    "      .(pid, mni_k100_weighted_normalized)\n",
    "    ][c(1:100, (.N-100):.N)\n",
    "    ] %>% fwrite('data/sharing/high-low-mni.csv')"
   ]
  }
 ],
 "metadata": {
  "interpreter": {
   "hash": "1580778a8a197288689bffd4ef3f72d3c9fd5cf473f27e207b33dc68ebf5c5f7"
  },
  "kernelspec": {
   "display_name": "R 4.1.2",
   "language": "R",
   "name": "ir410"
  },
  "language_info": {
   "codemirror_mode": "r",
   "file_extension": ".r",
   "mimetype": "text/x-r-source",
   "name": "R",
   "pygments_lexer": "r",
   "version": "4.1.2"
  },
  "toc-autonumbering": true
 },
 "nbformat": 4,
 "nbformat_minor": 4
}
