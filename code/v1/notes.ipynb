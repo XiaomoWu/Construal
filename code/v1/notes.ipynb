{
 "cells": [
  {
   "cell_type": "markdown",
   "metadata": {},
   "source": [
    "## V3Det"
   ]
  },
  {
   "cell_type": "code",
   "execution_count": 1,
   "metadata": {},
   "outputs": [],
   "source": [
    "import os\n",
    "import torch\n",
    "\n",
    "from pathlib import Path\n",
    "from mmdet.apis import DetInferencer\n",
    "from IPython.utils import io\n",
    "from pyarrow.feather import write_feather, read_feather\n",
    "\n",
    "\n",
    "wdir = Path('/home/yu/OneDrive/Construal')\n",
    "model_dir = Path('/home/yu/OneDrive/Construal/pretrained-models/v3det')\n",
    "os.chdir(model_dir)"
   ]
  },
  {
   "cell_type": "code",
   "execution_count": 30,
   "metadata": {},
   "outputs": [
    {
     "name": "stdout",
     "output_type": "stream",
     "text": [
      "Loads checkpoint by local backend from path: /home/yu/OneDrive/Construal/pretrained-models/v3det/checkpoints/Deformable_DETR_V3Det_SwinB.pth\n",
      "10/26 04:06:43 - mmengine - \u001b[5m\u001b[4m\u001b[33mWARNING\u001b[0m - Failed to search registry with scope \"mmdet\" in the \"function\" registry tree. As a workaround, the current \"function\" registry in \"mmengine\" is used to build instance. This may cause unexpected failure when running the built modules. Please check whether \"mmdet\" is a correct scope, or whether the registry is initialized.\n"
     ]
    },
    {
     "name": "stderr",
     "output_type": "stream",
     "text": [
      "/home/yu/Software/python/python-env/py311-mmdet/lib/python3.11/site-packages/mmengine/visualization/visualizer.py:196: UserWarning: Failed to add <class 'mmengine.visualization.vis_backend.LocalVisBackend'>, please provide the `save_dir` argument.\n",
      "  warnings.warn(f'Failed to add {vis_backend.__class__}, '\n"
     ]
    }
   ],
   "source": [
    "# Initialize the DetInferencer\n",
    "inferencer = DetInferencer(\n",
    "    # DINO\n",
    "    # model='/home/yu/OneDrive/Construal/pretrained-models/v3det/checkpoints/configs/v3det/dino-4scale_swin_16xb1_sample1e-3_v3det_36e.py', \n",
    "    # weights='/home/yu/OneDrive/Construal/pretrained-models/v3det/checkpoints/DINO_V3Det_SwinB.pth',\n",
    "\n",
    "    # DETR (DETR is faster)\n",
    "    model='/home/yu/OneDrive/Construal/pretrained-models/v3det/checkpoints/configs/v3det/deformable-detr-refine-twostage_swin_16xb2_sample1e-3_v3det_50e.py',\n",
    "    weights='/home/yu/OneDrive/Construal/pretrained-models/v3det/checkpoints/Deformable_DETR_V3Det_SwinB.pth',\n",
    "\n",
    "    device='cuda:1'\n",
    ")"
   ]
  },
  {
   "cell_type": "code",
   "execution_count": 31,
   "metadata": {},
   "outputs": [],
   "source": [
    "pjson = read_feather('/home/yu/OneDrive/Construal/data/pjson.feather')\n",
    "valid_pids = pjson.loc[(pjson.category=='Accessories') | (pjson.category=='Product Design'), 'pid'].to_list()"
   ]
  },
  {
   "cell_type": "code",
   "execution_count": 32,
   "metadata": {},
   "outputs": [],
   "source": [
    "img_root = Path('/home/yu/chaoyang/research-resources/kickstart-raw-from-amrita/kickstarter-image')\n",
    "# img_paths = list(img_paths.glob('**/profile_full.jpg'))\n"
   ]
  },
  {
   "cell_type": "code",
   "execution_count": 34,
   "metadata": {},
   "outputs": [],
   "source": [
    "with io.capture_output() as captured:\n",
    "    for i, pid in enumerate(valid_pids):\n",
    "        # print progress\n",
    "        if i % 100 == 0:\n",
    "            print(f'Processing: {i}/{len(valid_pids)}')\n",
    "        \n",
    "        # construct image path\n",
    "        img_path = img_root / f'{pid}/profile_full.jpg'\n",
    "        if not img_path.exists():\n",
    "            print(f'{img_path} does not exist')\n",
    "            continue\n",
    "\n",
    "        # inference\n",
    "        out = inferencer(str(img_path), show=False)['predictions'][0]\n",
    "\n",
    "        # save results\n",
    "        torch.save(out, wdir/f'data/v3det/on-kickstarter/per-image-results/{pid}.pt')\n",
    "    "
   ]
  },
  {
   "cell_type": "markdown",
   "metadata": {},
   "source": [
    "**Randomly select 100 training images from V3Det**"
   ]
  },
  {
   "cell_type": "code",
   "execution_count": 13,
   "metadata": {},
   "outputs": [],
   "source": [
    "import shutil\n",
    "import random"
   ]
  },
  {
   "cell_type": "code",
   "execution_count": null,
   "metadata": {},
   "outputs": [],
   "source": [
    "p = model_dir/'data/V3Det/images'\n",
    "image_paths = random.sample(list(p.glob('**/*.jpg')), 100)\n",
    "\n",
    "for i, path in enumerate(image_paths):\n",
    "    # print(path.name)\n",
    "    shutil.copy(path, wdir/f'data/sharing/v3det-image-examples/{path.name}')"
   ]
  },
  {
   "cell_type": "markdown",
   "metadata": {},
   "source": [
    "## BigDetection"
   ]
  },
  {
   "cell_type": "code",
   "execution_count": 1,
   "metadata": {},
   "outputs": [
    {
     "name": "stderr",
     "output_type": "stream",
     "text": [
      "/home/yu/Software/python/python-env/py39-mmdet-legacy/lib/python3.9/site-packages/tqdm/auto.py:21: TqdmWarning: IProgress not found. Please update jupyter and ipywidgets. See https://ipywidgets.readthedocs.io/en/stable/user_install.html\n",
      "  from .autonotebook import tqdm as notebook_tqdm\n"
     ]
    },
    {
     "name": "stdout",
     "output_type": "stream",
     "text": [
      "apex is not installed\n",
      "apex is not installed\n",
      "apex is not installed\n",
      "apex is not installed\n",
      "apex is not installed\n"
     ]
    }
   ],
   "source": [
    "import mmcv\n",
    "import os\n",
    "from mmdet.apis import init_detector, inference_detector\n",
    "from pathlib import Path\n",
    "\n",
    "wdir = Path('/home/yu/OneDrive/Construal/pretrained-models/bigdet/bigdetection-main')\n",
    "os.chdir(wdir)"
   ]
  },
  {
   "cell_type": "code",
   "execution_count": null,
   "metadata": {},
   "outputs": [],
   "source": [
    "tools/test.py configs/BigDetection/cbnetv2/htc_cbv2_swin_base_giou_4conv1f_adamw_bigdet.py \\\n",
    "    /home/yu/OneDrive/Construal/pretrained-models/bigdet/checkpoints/htc_cbv2_swin_base_giou_4conv1f_bigdet.pth \\\n",
    "        --eval bbox\n",
    "\n"
   ]
  },
  {
   "cell_type": "code",
   "execution_count": null,
   "metadata": {},
   "outputs": [],
   "source": [
    "# Specify the path to model config and checkpoint file\n",
    "config_file = '/home/yu/OneDrive/Construal/pretrained-models/bigdet/bigdetection-main/configs/BigDetection/cbnetv2/htc_cbv2_swin_base_giou_4conv1f_adamw_bigdet.py'\n",
    "checkpoint_file = '/home/yu/OneDrive/Construal/pretrained-models/bigdet/checkpoints/htc_cbv2_swin_base_giou_4conv1f_bigdet.pth'\n",
    "\n",
    "# build the model from a config file and a checkpoint file\n",
    "model = init_detector(config_file, checkpoint_file, device='cuda:0')\n",
    "\n",
    "# test a single image and show the results\n",
    "img = 'data/V3Det/images/a00000066/0_2530_11591900204_c1c10c1531_c.jpg'  # or img = mmcv.imread(img), which will only load it once\n",
    "result = inference_detector(model, img)"
   ]
  },
  {
   "cell_type": "code",
   "execution_count": null,
   "metadata": {},
   "outputs": [],
   "source": []
  }
 ],
 "metadata": {
  "kernelspec": {
   "display_name": "py310-base",
   "language": "python",
   "name": "python3"
  },
  "language_info": {
   "codemirror_mode": {
    "name": "ipython",
    "version": 3
   },
   "file_extension": ".py",
   "mimetype": "text/x-python",
   "name": "python",
   "nbconvert_exporter": "python",
   "pygments_lexer": "ipython3",
   "version": "3.11.6"
  },
  "orig_nbformat": 4
 },
 "nbformat": 4,
 "nbformat_minor": 2
}
