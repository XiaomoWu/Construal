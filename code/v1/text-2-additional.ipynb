{
 "cells": [
  {
   "cell_type": "markdown",
   "metadata": {},
   "source": [
    "# Init\n",
    "\n",
    "Add the following varaibles:\n",
    "\n",
    "- sentiment\n",
    "- objectivity\n",
    "- complexity\n",
    "- grammer error"
   ]
  },
  {
   "cell_type": "markdown",
   "metadata": {},
   "source": [
    "# Sentiment\n",
    "\n",
    "Use transformer's built-in pipeline"
   ]
  },
  {
   "cell_type": "code",
   "execution_count": 2,
   "metadata": {
    "vscode": {
     "languageId": "r"
    }
   },
   "outputs": [
    {
     "data": {
      "text/html": [
       "<style type='text/css'>\n",
       ".datatable table.frame { margin-bottom: 0; }\n",
       ".datatable table.frame thead { border-bottom: none; }\n",
       ".datatable table.frame tr.coltypes td {  color: #FFFFFF;  line-height: 6px;  padding: 0 0.5em;}\n",
       ".datatable .bool    { background: #DDDD99; }\n",
       ".datatable .object  { background: #565656; }\n",
       ".datatable .int     { background: #5D9E5D; }\n",
       ".datatable .float   { background: #4040CC; }\n",
       ".datatable .str     { background: #CC4040; }\n",
       ".datatable .time    { background: #40CC40; }\n",
       ".datatable .row_index {  background: var(--jp-border-color3);  border-right: 1px solid var(--jp-border-color0);  color: var(--jp-ui-font-color3);  font-size: 9px;}\n",
       ".datatable .frame tbody td { text-align: left; }\n",
       ".datatable .frame tr.coltypes .row_index {  background: var(--jp-border-color0);}\n",
       ".datatable th:nth-child(2) { padding-left: 12px; }\n",
       ".datatable .hellipsis {  color: var(--jp-cell-editor-border-color);}\n",
       ".datatable .vellipsis {  background: var(--jp-layout-color0);  color: var(--jp-cell-editor-border-color);}\n",
       ".datatable .na {  color: var(--jp-cell-editor-border-color);  font-size: 80%;}\n",
       ".datatable .sp {  opacity: 0.25;}\n",
       ".datatable .footer { font-size: 9px; }\n",
       ".datatable .frame_dimensions {  background: var(--jp-border-color3);  border-top: 1px solid var(--jp-border-color0);  color: var(--jp-ui-font-color3);  display: inline-block;  opacity: 0.6;  padding: 1px 10px 1px 5px;}\n",
       "</style>\n"
      ],
      "text/plain": [
       "<IPython.core.display.HTML object>"
      ]
     },
     "metadata": {},
     "output_type": "display_data"
    }
   ],
   "source": [
    "import datatable as dt\n",
    "\n",
    "from datatable import f, update\n",
    "from transformers import pipeline\n",
    "from utilpy import sv, ld\n",
    "\n",
    "WORK_DIR = '/home/yu/OneDrive/Construal'\n",
    "os.chdir(WORK_DIR)"
   ]
  },
  {
   "cell_type": "code",
   "execution_count": 3,
   "metadata": {
    "vscode": {
     "languageId": "r"
    }
   },
   "outputs": [
    {
     "name": "stderr",
     "output_type": "stream",
     "text": [
      "No model was supplied, defaulted to distilbert-base-uncased-finetuned-sst-2-english (https://huggingface.co/distilbert-base-uncased-finetuned-sst-2-english)\n"
     ]
    },
    {
     "name": "stdout",
     "output_type": "stream",
     "text": [
      "\"pjson.feather\" (167.5 MB) loaded (<1s) (2022-01-15 7:23 PM)\n"
     ]
    }
   ],
   "source": [
    "# create pipeline\n",
    "#   - The default model is 'distilbert-base-uncased'\n",
    "classifier = pipeline(\"sentiment-analysis\", device=0)\n",
    "\n",
    "# load TEXT data (the `summary` variable in pjson)\n",
    "pjson = ld('pjson')\n",
    "summary = pjson['summary'].to_list()[0]\n",
    "title = pjson['title'].to_list()[0]\n",
    "pids = pjson['pid'].to_list()[0]"
   ]
  },
  {
   "cell_type": "code",
   "execution_count": null,
   "metadata": {
    "vscode": {
     "languageId": "r"
    }
   },
   "outputs": [],
   "source": [
    "# output sentiment!\n",
    "summary_sentiment = dt.Frame(classifier(summary))\n",
    "title_sentiment = dt.Frame(classifier(title))\n",
    "\n",
    "summary_sentiment[:, update(pid = dt.Frame(pids))]\n",
    "title_sentiment[:, update(pid = dt.Frame(pids))]\n",
    "\n",
    "# save results\n",
    "sv(summary_sentiment, 'summary_sentiment')\n",
    "sv(title_sentiment, 'title_sentiment')"
   ]
  },
  {
   "cell_type": "markdown",
   "metadata": {},
   "source": [
    "# Readability"
   ]
  },
  {
   "cell_type": "code",
   "execution_count": 3,
   "metadata": {
    "vscode": {
     "languageId": "r"
    }
   },
   "outputs": [],
   "source": [
    "import concurrent\n",
    "import datatable as dt\n",
    "import os\n",
    "\n",
    "from datatable import f, update\n",
    "from tqdm.auto import tqdm\n",
    "from utilpy import sv, ld\n",
    "\n",
    "WORK_DIR = '/home/yu/OneDrive/Construal'\n",
    "os.chdir(WORK_DIR)"
   ]
  },
  {
   "cell_type": "markdown",
   "metadata": {},
   "source": [
    "## spelling/grammar errors"
   ]
  },
  {
   "cell_type": "code",
   "execution_count": 10,
   "metadata": {
    "vscode": {
     "languageId": "r"
    }
   },
   "outputs": [
    {
     "name": "stdout",
     "output_type": "stream",
     "text": [
      "\"pjson.feather\" (167.5 MB) loaded (<1s) (2022-01-15 6:17 PM)\n",
      "Saved as \"grammar_error_desc.feather\" (618.3 KB) (<1s) (2022-01-15 6:54 PM)\n",
      "Saved as \"grammar_error_title.feather\" (544.1 KB) (<1s) (2022-01-15 6:54 PM)\n"
     ]
    }
   ],
   "source": [
    "# load TEXT data (the `summary` variable in pjson)\n",
    "pjson = ld('pjson')\n",
    "project_desc = pjson['project_desc'].to_list()[0]\n",
    "title = pjson['title'].to_list()[0]\n",
    "pids = pjson['pid'].to_list()[0]\n",
    "\n",
    "import language_tool_python\n",
    "tool = language_tool_python.LanguageTool('en-US')\n",
    "\n",
    "# only select spelling and grammar errors\n",
    "def get_n_errors(text, pid):\n",
    "    matches = tool.check(text)\n",
    "    n_spelling_errors = sum([1 for match in matches if match.category in ['TYPOS']])\n",
    "    n_grammar_errors = sum([1 for match in matches if match.category in ['GRAMMAR']])\n",
    "    return (pid, n_spelling_errors, n_grammar_errors)\n",
    "\n",
    "with concurrent.futures.ProcessPoolExecutor() as executor:\n",
    "    grammar_error_desc = list(executor.map(get_n_errors, project_desc, pids))\n",
    "    grammar_error_title = list(executor.map(get_n_errors, title, pids))\n",
    "\n",
    "grammar_error_desc = dt.Frame(grammar_error_desc, names=['pid', 'n_spelling_errors', 'n_grammar_errors'])\n",
    "grammar_error_title = dt.Frame(grammar_error_title, names=['pid', 'n_spelling_errors', 'n_grammar_errors'])\n",
    "\n",
    "sv(grammar_error_desc, 'grammar_error_desc')\n",
    "sv(grammar_error_title, 'grammar_error_title')"
   ]
  },
  {
   "cell_type": "markdown",
   "metadata": {},
   "source": [
    "## Fog index\n",
    "\n",
    "> There's *NO* Fog for title because Fog requires at least 100 words"
   ]
  },
  {
   "cell_type": "code",
   "execution_count": 4,
   "metadata": {
    "vscode": {
     "languageId": "r"
    }
   },
   "outputs": [
    {
     "name": "stdout",
     "output_type": "stream",
     "text": [
      "\"pjson.feather\" (167.5 MB) loaded (<1s) (2022-01-15 7:01 PM)\n",
      "Saved as \"fog_desc.feather\" (815.5 KB) (<1s) (2022-01-15 7:02 PM)\n",
      "Saved as \"fog_title.feather\" (502.1 KB) (<1s) (2022-01-15 7:02 PM)\n"
     ]
    }
   ],
   "source": [
    "# pip install py-readability-metrics\n",
    "\n",
    "from readability import Readability\n",
    "\n",
    "# load TEXT data (the `summary` variable in pjson)\n",
    "pjson = ld('pjson')\n",
    "project_desc = pjson['project_desc'].to_list()[0]\n",
    "title = pjson['title'].to_list()[0]\n",
    "pids = pjson['pid'].to_list()[0]\n",
    "\n",
    "def get_fog_score(text, pid):\n",
    "    try:\n",
    "        fog = Readability(text).gunning_fog().score\n",
    "    except:\n",
    "        fog = None\n",
    "    return (pid, fog)\n",
    "\n",
    "with concurrent.futures.ProcessPoolExecutor() as executor:\n",
    "    fog_desc = list(executor.map(get_fog_score, project_desc, pids))\n",
    "    fog_title = list(executor.map(get_fog_score, title, pids))\n",
    "\n",
    "fog_desc = dt.Frame(fog_desc, names=['pid', 'fog_score'])\n",
    "\n",
    "sv(fog_desc, 'fog_desc')"
   ]
  },
  {
   "cell_type": "markdown",
   "metadata": {},
   "source": [
    "# Objectivity\n",
    "\n",
    "> See \"train-objectivity.py\" and \"pred-objectivity.py\" for model training and prediction"
   ]
  },
  {
   "cell_type": "code",
   "execution_count": 33,
   "metadata": {
    "vscode": {
     "languageId": "r"
    }
   },
   "outputs": [
    {
     "name": "stdout",
     "output_type": "stream",
     "text": [
      "\"out_objectivity\" saved as \"out_objectivity.feather\" (502.0 KB) (<1s) (2021-10-26 10:44 PM)\n"
     ]
    }
   ],
   "source": [
    "'''Dreprecated\n",
    "import pickle\n",
    "import datatable as dt\n",
    "\n",
    "from datatable import f\n",
    "from pyarrow.feather import write_feather, read_feather\n",
    "\n",
    "with open('/home/yu/OneDrive/Construal/data/objectivity/objectivity-predictions-avg-chunk.pkl', 'rb') as file:\n",
    "    objectivity = pickle.load(file)\n",
    "\n",
    "pids = []\n",
    "ys = []\n",
    "for pid, y in objectivity:\n",
    "    pids.extend(pid)\n",
    "    ys.extend(y)\n",
    "\n",
    "out_objectivity = dt.Frame(pid=pids, objectivity=ys)\n",
    "sv('out_objectivity', path='/home/yu/OneDrive/Construal/data')\n",
    "'''"
   ]
  },
  {
   "cell_type": "markdown",
   "metadata": {},
   "source": [
    "# Merge all data (R)"
   ]
  },
  {
   "cell_type": "code",
   "execution_count": 1,
   "metadata": {
    "vscode": {
     "languageId": "r"
    }
   },
   "outputs": [
    {
     "name": "stdout",
     "output_type": "stream",
     "text": [
      "Yu's data science toolbox loaded! \n"
     ]
    }
   ],
   "source": [
    "suppressMessages(library(utilr))\n",
    "WORK_DIR = '/home/yu/OneDrive/Construal'\n",
    "setwd(WORK_DIR)"
   ]
  },
  {
   "cell_type": "code",
   "execution_count": 3,
   "metadata": {
    "vscode": {
     "languageId": "r"
    }
   },
   "outputs": [
    {
     "name": "stdout",
     "output_type": "stream",
     "text": [
      "title_sentiment (954.2 KB) already loaded, will NOT load again! (0 secs) (2022-01-15 7:26 PM)\n",
      "\"grammar_error_title.feather\" (544.1 KB) loaded (0.01 secs) (2022-01-15 7:26 PM)\n"
     ]
    }
   ],
   "source": [
    "ld('title_sentiment')\n",
    "ld('grammar_error_title')\n",
    "ld('objectivity-predictions_title', ldname='obj_title', path='./data/objectivity')"
   ]
  },
  {
   "cell_type": "code",
   "execution_count": 25,
   "metadata": {
    "vscode": {
     "languageId": "r"
    }
   },
   "outputs": [],
   "source": [
    "text_additional = title_sentiment[, .(pid, sentiment_label=label, sentiment_score=score)\n",
    "    ][grammar_error_title, on=.(pid), nomatch=NULL\n",
    "    ][obj_title, on=.(pid), nomatch=NULL]\n",
    "\n",
    "fwrite(text_additional, './data/sharing/text_additional.csv')"
   ]
  },
  {
   "cell_type": "code",
   "execution_count": 26,
   "metadata": {
    "vscode": {
     "languageId": "r"
    }
   },
   "outputs": [
    {
     "data": {
      "text/html": [
       "<table class=\"dataframe\">\n",
       "<caption>A data.table: 1 × 6</caption>\n",
       "<thead>\n",
       "\t<tr><th scope=col>pid</th><th scope=col>sentiment_label</th><th scope=col>sentiment_score</th><th scope=col>n_spelling_errors</th><th scope=col>n_grammar_errors</th><th scope=col>objectivity</th></tr>\n",
       "\t<tr><th scope=col>&lt;chr&gt;</th><th scope=col>&lt;chr&gt;</th><th scope=col>&lt;dbl&gt;</th><th scope=col>&lt;int&gt;</th><th scope=col>&lt;int&gt;</th><th scope=col>&lt;int&gt;</th></tr>\n",
       "</thead>\n",
       "<tbody>\n",
       "\t<tr><td>1000064918</td><td>NEGATIVE</td><td>0.6155048</td><td>0</td><td>0</td><td>0</td></tr>\n",
       "</tbody>\n",
       "</table>\n"
      ],
      "text/latex": [
       "A data.table: 1 × 6\n",
       "\\begin{tabular}{llllll}\n",
       " pid & sentiment\\_label & sentiment\\_score & n\\_spelling\\_errors & n\\_grammar\\_errors & objectivity\\\\\n",
       " <chr> & <chr> & <dbl> & <int> & <int> & <int>\\\\\n",
       "\\hline\n",
       "\t 1000064918 & NEGATIVE & 0.6155048 & 0 & 0 & 0\\\\\n",
       "\\end{tabular}\n"
      ],
      "text/markdown": [
       "\n",
       "A data.table: 1 × 6\n",
       "\n",
       "| pid &lt;chr&gt; | sentiment_label &lt;chr&gt; | sentiment_score &lt;dbl&gt; | n_spelling_errors &lt;int&gt; | n_grammar_errors &lt;int&gt; | objectivity &lt;int&gt; |\n",
       "|---|---|---|---|---|---|\n",
       "| 1000064918 | NEGATIVE | 0.6155048 | 0 | 0 | 0 |\n",
       "\n"
      ],
      "text/plain": [
       "  pid        sentiment_label sentiment_score n_spelling_errors n_grammar_errors\n",
       "1 1000064918 NEGATIVE        0.6155048       0                 0               \n",
       "  objectivity\n",
       "1 0          "
      ]
     },
     "metadata": {},
     "output_type": "display_data"
    }
   ],
   "source": [
    "text_additional[1]"
   ]
  }
 ],
 "metadata": {
  "interpreter": {
   "hash": "1580778a8a197288689bffd4ef3f72d3c9fd5cf473f27e207b33dc68ebf5c5f7"
  },
  "kernelspec": {
   "display_name": "R 4.1.2",
   "language": "R",
   "name": "ir410"
  },
  "language_info": {
   "codemirror_mode": "r",
   "file_extension": ".r",
   "mimetype": "text/x-r-source",
   "name": "R",
   "pygments_lexer": "r",
   "version": "4.1.0"
  },
  "orig_nbformat": 4
 },
 "nbformat": 4,
 "nbformat_minor": 2
}
